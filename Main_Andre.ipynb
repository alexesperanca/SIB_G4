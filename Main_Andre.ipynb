{
 "cells": [
  {
   "cell_type": "markdown",
   "metadata": {},
   "source": [
    "# SIB KAGGLE PROJECT"
   ]
  },
  {
   "cell_type": "code",
   "execution_count": 271,
   "metadata": {},
   "outputs": [],
   "source": [
    "#Imports\n",
    "from utils.func import *\n",
    "from sklearn.decomposition import PCA\n",
    "import pandas as pd\n",
    "import numpy as np\n",
    "from sklearn.preprocessing import scale\n",
    "from sklearn import preprocessing \n",
    "from sgt import SGT\n",
    "from sklearn.cluster import KMeans\n",
    "import matplotlib.pyplot as plt\n",
    "from utils.kmers import KMer_prot\n",
    "from sklearn.preprocessing import StandardScaler\n",
    "from propy import PyPro\n",
    "from sklearn.decomposition import PCA"
   ]
  },
  {
   "cell_type": "code",
   "execution_count": 244,
   "metadata": {},
   "outputs": [
    {
     "name": "stdout",
     "output_type": "stream",
     "text": [
      "Train data is divided in 31390 lines and 5 col\n",
      "Test data is divided in 2413 lines and 4 col\n",
      "Labels: ['seq_id', 'protein_sequence', 'pH', 'data_source', 'tm']\n",
      "Remove data_source\n",
      "Train data is divided in 31390 lines and 4 col\n",
      "Test data is divided in 2413 lines and 3 col\n",
      "We want to predict tm values for test data\n",
      "             seq_id            pH            tm\n",
      "count  31390.000000  31104.000000  31390.000000\n",
      "mean   15694.500000      6.892339     49.147337\n",
      "std     9061.656811      1.612225     14.010089\n",
      "min        0.000000      1.990000     -1.000000\n",
      "25%     7847.250000      7.000000     42.100000\n",
      "50%    15694.500000      7.000000     48.000000\n",
      "75%    23541.750000      7.000000     53.800000\n",
      "max    31389.000000     64.900000    130.000000\n"
     ]
    }
   ],
   "source": [
    "#First lets see the data!\n",
    "#Train dataframe\n",
    "train = pd.read_csv(\"/Users/André Silva/SIB_G4/Data/train.csv\")\n",
    "#Test dataframe\n",
    "test = pd.read_csv(\"/Users/André Silva/SIB_G4/Data/test.csv\")\n",
    "print(f\"Train data is divided in {train.shape[0]} lines and {train.shape[1]} col\")\n",
    "print(f\"Test data is divided in {test.shape[0]} lines and {test.shape[1]} col\")\n",
    "print(f\"Labels: {[labels for labels in train.columns]}\")\n",
    "print(\"Remove data_source\")\n",
    "train= train.drop(columns=\"data_source\")\n",
    "test= test.drop(columns=\"data_source\")\n",
    "print(f\"Train data is divided in {train.shape[0]} lines and {train.shape[1]} col\")\n",
    "print(f\"Test data is divided in {test.shape[0]} lines and {test.shape[1]} col\")\n",
    "print(\"We want to predict tm values for test data\")\n",
    "print(train.describe())"
   ]
  },
  {
   "cell_type": "code",
   "execution_count": 245,
   "metadata": {},
   "outputs": [],
   "source": [
    "update_train= pd.read_csv(\"/Users/André Silva/SIB_G4/Data/train_updates_20220929.csv\",index_col=\"seq_id\")\n",
    "train= swap_ph_tm(train,update_train)"
   ]
  },
  {
   "cell_type": "code",
   "execution_count": 246,
   "metadata": {},
   "outputs": [
    {
     "data": {
      "text/html": [
       "<div>\n",
       "<style scoped>\n",
       "    .dataframe tbody tr th:only-of-type {\n",
       "        vertical-align: middle;\n",
       "    }\n",
       "\n",
       "    .dataframe tbody tr th {\n",
       "        vertical-align: top;\n",
       "    }\n",
       "\n",
       "    .dataframe thead th {\n",
       "        text-align: right;\n",
       "    }\n",
       "</style>\n",
       "<table border=\"1\" class=\"dataframe\">\n",
       "  <thead>\n",
       "    <tr style=\"text-align: right;\">\n",
       "      <th></th>\n",
       "      <th>seq_id</th>\n",
       "      <th>protein_sequence</th>\n",
       "      <th>pH</th>\n",
       "      <th>tm</th>\n",
       "    </tr>\n",
       "  </thead>\n",
       "  <tbody>\n",
       "    <tr>\n",
       "      <th>0</th>\n",
       "      <td>0</td>\n",
       "      <td>AAAAKAAALALLGEAPEVVDIWLPAGWRQPFRVFRLERKGDGVLVG...</td>\n",
       "      <td>7.0</td>\n",
       "      <td>75.7</td>\n",
       "    </tr>\n",
       "    <tr>\n",
       "      <th>1</th>\n",
       "      <td>1</td>\n",
       "      <td>AAADGEPLHNEEERAGAGQVGRSLPQESEEQRTGSRPRRRRDLGSR...</td>\n",
       "      <td>7.0</td>\n",
       "      <td>50.5</td>\n",
       "    </tr>\n",
       "    <tr>\n",
       "      <th>2</th>\n",
       "      <td>2</td>\n",
       "      <td>AAAFSTPRATSYRILSSAGSGSTRADAPQVRRLHTTRDLLAKDYYA...</td>\n",
       "      <td>7.0</td>\n",
       "      <td>40.5</td>\n",
       "    </tr>\n",
       "    <tr>\n",
       "      <th>3</th>\n",
       "      <td>3</td>\n",
       "      <td>AAASGLRTAIPAQPLRHLLQPAPRPCLRPFGLLSVRAGSARRSGLL...</td>\n",
       "      <td>7.0</td>\n",
       "      <td>47.2</td>\n",
       "    </tr>\n",
       "    <tr>\n",
       "      <th>4</th>\n",
       "      <td>4</td>\n",
       "      <td>AAATKSGPRRQSQGASVRTFTPFYFLVEPVDTLSVRGSSVILNCSA...</td>\n",
       "      <td>7.0</td>\n",
       "      <td>49.5</td>\n",
       "    </tr>\n",
       "    <tr>\n",
       "      <th>...</th>\n",
       "      <td>...</td>\n",
       "      <td>...</td>\n",
       "      <td>...</td>\n",
       "      <td>...</td>\n",
       "    </tr>\n",
       "    <tr>\n",
       "      <th>31385</th>\n",
       "      <td>31385</td>\n",
       "      <td>YYMYSGGGSALAAGGGGAGRKGDWNDIDSIKKKDLHHSRGDEKAQG...</td>\n",
       "      <td>7.0</td>\n",
       "      <td>51.8</td>\n",
       "    </tr>\n",
       "    <tr>\n",
       "      <th>31386</th>\n",
       "      <td>31386</td>\n",
       "      <td>YYNDQHRLSSYSVETAMFLSWERAIVKPGAMFKKAVIGFNCNVDLI...</td>\n",
       "      <td>7.0</td>\n",
       "      <td>37.2</td>\n",
       "    </tr>\n",
       "    <tr>\n",
       "      <th>31387</th>\n",
       "      <td>31387</td>\n",
       "      <td>YYQRTLGAELLYKISFGEMPKSAQDSAENCPSGMQFPDTAIAHANV...</td>\n",
       "      <td>7.0</td>\n",
       "      <td>64.6</td>\n",
       "    </tr>\n",
       "    <tr>\n",
       "      <th>31388</th>\n",
       "      <td>31388</td>\n",
       "      <td>YYSFSDNITTVFLSRQAIDDDHSLSLGTISDVVESENGVVAADDAR...</td>\n",
       "      <td>7.0</td>\n",
       "      <td>50.7</td>\n",
       "    </tr>\n",
       "    <tr>\n",
       "      <th>31389</th>\n",
       "      <td>31389</td>\n",
       "      <td>YYVPDEYWQSLEVAHKLTFGYGYLTWEWVQGIRSYVYPLLIAGLYK...</td>\n",
       "      <td>7.0</td>\n",
       "      <td>37.6</td>\n",
       "    </tr>\n",
       "  </tbody>\n",
       "</table>\n",
       "<p>28981 rows × 4 columns</p>\n",
       "</div>"
      ],
      "text/plain": [
       "       seq_id                                   protein_sequence   pH    tm\n",
       "0           0  AAAAKAAALALLGEAPEVVDIWLPAGWRQPFRVFRLERKGDGVLVG...  7.0  75.7\n",
       "1           1  AAADGEPLHNEEERAGAGQVGRSLPQESEEQRTGSRPRRRRDLGSR...  7.0  50.5\n",
       "2           2  AAAFSTPRATSYRILSSAGSGSTRADAPQVRRLHTTRDLLAKDYYA...  7.0  40.5\n",
       "3           3  AAASGLRTAIPAQPLRHLLQPAPRPCLRPFGLLSVRAGSARRSGLL...  7.0  47.2\n",
       "4           4  AAATKSGPRRQSQGASVRTFTPFYFLVEPVDTLSVRGSSVILNCSA...  7.0  49.5\n",
       "...       ...                                                ...  ...   ...\n",
       "31385   31385  YYMYSGGGSALAAGGGGAGRKGDWNDIDSIKKKDLHHSRGDEKAQG...  7.0  51.8\n",
       "31386   31386  YYNDQHRLSSYSVETAMFLSWERAIVKPGAMFKKAVIGFNCNVDLI...  7.0  37.2\n",
       "31387   31387  YYQRTLGAELLYKISFGEMPKSAQDSAENCPSGMQFPDTAIAHANV...  7.0  64.6\n",
       "31388   31388  YYSFSDNITTVFLSRQAIDDDHSLSLGTISDVVESENGVVAADDAR...  7.0  50.7\n",
       "31389   31389  YYVPDEYWQSLEVAHKLTFGYGYLTWEWVQGIRSYVYPLLIAGLYK...  7.0  37.6\n",
       "\n",
       "[28981 rows x 4 columns]"
      ]
     },
     "execution_count": 246,
     "metadata": {},
     "output_type": "execute_result"
    }
   ],
   "source": [
    "train"
   ]
  },
  {
   "cell_type": "code",
   "execution_count": 247,
   "metadata": {},
   "outputs": [
    {
     "name": "stdout",
     "output_type": "stream",
     "text": [
      "pH                  286\n",
      "seq_id                0\n",
      "protein_sequence      0\n",
      "tm                    0\n",
      "dtype: int64\n",
      "seq_id              0\n",
      "protein_sequence    0\n",
      "pH                  0\n",
      "dtype: int64\n"
     ]
    }
   ],
   "source": [
    "print(train.isnull().sum().sort_values(ascending=False))\n",
    "print(test.isnull().sum().sort_values(ascending=False))\n",
    "#There are some missing values in train\n",
    "#Data_source values are not that important"
   ]
  },
  {
   "cell_type": "code",
   "execution_count": 248,
   "metadata": {},
   "outputs": [
    {
     "data": {
      "text/html": [
       "<div>\n",
       "<style scoped>\n",
       "    .dataframe tbody tr th:only-of-type {\n",
       "        vertical-align: middle;\n",
       "    }\n",
       "\n",
       "    .dataframe tbody tr th {\n",
       "        vertical-align: top;\n",
       "    }\n",
       "\n",
       "    .dataframe thead th {\n",
       "        text-align: right;\n",
       "    }\n",
       "</style>\n",
       "<table border=\"1\" class=\"dataframe\">\n",
       "  <thead>\n",
       "    <tr style=\"text-align: right;\">\n",
       "      <th></th>\n",
       "      <th>seq_id</th>\n",
       "      <th>protein_sequence</th>\n",
       "      <th>pH</th>\n",
       "      <th>tm</th>\n",
       "    </tr>\n",
       "  </thead>\n",
       "  <tbody>\n",
       "    <tr>\n",
       "      <th>484</th>\n",
       "      <td>484</td>\n",
       "      <td>ARINTVRGPITISEAGFTLTHEHICGSSAGFLRAWPEFFGSRKALA...</td>\n",
       "      <td>NaN</td>\n",
       "      <td>84.0</td>\n",
       "    </tr>\n",
       "    <tr>\n",
       "      <th>6215</th>\n",
       "      <td>6215</td>\n",
       "      <td>MASHKLLVTPLKALLKPLSIPNQLLLGPGPSNLPPRIMAAGGLQMI...</td>\n",
       "      <td>NaN</td>\n",
       "      <td>73.8</td>\n",
       "    </tr>\n",
       "    <tr>\n",
       "      <th>6216</th>\n",
       "      <td>6216</td>\n",
       "      <td>MASHKLLVTPPKALLKPLSIPNQLLLGPGPSNLPPRIMAAGGLQMI...</td>\n",
       "      <td>NaN</td>\n",
       "      <td>85.5</td>\n",
       "    </tr>\n",
       "    <tr>\n",
       "      <th>6217</th>\n",
       "      <td>6217</td>\n",
       "      <td>MASHKLLVTPPKALLKPLSIPNQLLLGPGPSNLPPRIMAAGGLQMI...</td>\n",
       "      <td>NaN</td>\n",
       "      <td>67.1</td>\n",
       "    </tr>\n",
       "    <tr>\n",
       "      <th>6218</th>\n",
       "      <td>6218</td>\n",
       "      <td>MASHKLLVTPPKALLKPLSIPNQLLLGPGPSNLPPRIMAAGGLQMI...</td>\n",
       "      <td>NaN</td>\n",
       "      <td>83.2</td>\n",
       "    </tr>\n",
       "    <tr>\n",
       "      <th>...</th>\n",
       "      <td>...</td>\n",
       "      <td>...</td>\n",
       "      <td>...</td>\n",
       "      <td>...</td>\n",
       "    </tr>\n",
       "    <tr>\n",
       "      <th>28753</th>\n",
       "      <td>28753</td>\n",
       "      <td>MVLKQRANYLGFLIVFFTAFLVEAVPIKRQSNSTVDSLPPLIPSRT...</td>\n",
       "      <td>NaN</td>\n",
       "      <td>58.9</td>\n",
       "    </tr>\n",
       "    <tr>\n",
       "      <th>28754</th>\n",
       "      <td>28754</td>\n",
       "      <td>MVLKQRANYLGFLIVFFTAFLVEAVPIKRQSNSTVDSLPPLIPSRT...</td>\n",
       "      <td>NaN</td>\n",
       "      <td>59.4</td>\n",
       "    </tr>\n",
       "    <tr>\n",
       "      <th>28755</th>\n",
       "      <td>28755</td>\n",
       "      <td>MVLKQRANYLGFLIVFFTAFLVEAVPIKRQSNSTVDSLPPLIPSRT...</td>\n",
       "      <td>NaN</td>\n",
       "      <td>57.8</td>\n",
       "    </tr>\n",
       "    <tr>\n",
       "      <th>28756</th>\n",
       "      <td>28756</td>\n",
       "      <td>MVLKQRANYLGFLIVFFTAFLVEAVPIKRQSNSTVDSLPPLIPSRT...</td>\n",
       "      <td>NaN</td>\n",
       "      <td>59.3</td>\n",
       "    </tr>\n",
       "    <tr>\n",
       "      <th>29077</th>\n",
       "      <td>29077</td>\n",
       "      <td>MVRPTILLTSLLLAPFAAASPILEERQAAQSVDQLIKARGKVYFGV...</td>\n",
       "      <td>NaN</td>\n",
       "      <td>71.3</td>\n",
       "    </tr>\n",
       "  </tbody>\n",
       "</table>\n",
       "<p>286 rows × 4 columns</p>\n",
       "</div>"
      ],
      "text/plain": [
       "       seq_id                                   protein_sequence  pH    tm\n",
       "484       484  ARINTVRGPITISEAGFTLTHEHICGSSAGFLRAWPEFFGSRKALA... NaN  84.0\n",
       "6215     6215  MASHKLLVTPLKALLKPLSIPNQLLLGPGPSNLPPRIMAAGGLQMI... NaN  73.8\n",
       "6216     6216  MASHKLLVTPPKALLKPLSIPNQLLLGPGPSNLPPRIMAAGGLQMI... NaN  85.5\n",
       "6217     6217  MASHKLLVTPPKALLKPLSIPNQLLLGPGPSNLPPRIMAAGGLQMI... NaN  67.1\n",
       "6218     6218  MASHKLLVTPPKALLKPLSIPNQLLLGPGPSNLPPRIMAAGGLQMI... NaN  83.2\n",
       "...       ...                                                ...  ..   ...\n",
       "28753   28753  MVLKQRANYLGFLIVFFTAFLVEAVPIKRQSNSTVDSLPPLIPSRT... NaN  58.9\n",
       "28754   28754  MVLKQRANYLGFLIVFFTAFLVEAVPIKRQSNSTVDSLPPLIPSRT... NaN  59.4\n",
       "28755   28755  MVLKQRANYLGFLIVFFTAFLVEAVPIKRQSNSTVDSLPPLIPSRT... NaN  57.8\n",
       "28756   28756  MVLKQRANYLGFLIVFFTAFLVEAVPIKRQSNSTVDSLPPLIPSRT... NaN  59.3\n",
       "29077   29077  MVRPTILLTSLLLAPFAAASPILEERQAAQSVDQLIKARGKVYFGV... NaN  71.3\n",
       "\n",
       "[286 rows x 4 columns]"
      ]
     },
     "execution_count": 248,
     "metadata": {},
     "output_type": "execute_result"
    }
   ],
   "source": [
    "missing_data= train[train[\"pH\"].isnull()]\n",
    "missing_data"
   ]
  },
  {
   "cell_type": "code",
   "execution_count": 249,
   "metadata": {},
   "outputs": [
    {
     "data": {
      "text/html": [
       "<div>\n",
       "<style scoped>\n",
       "    .dataframe tbody tr th:only-of-type {\n",
       "        vertical-align: middle;\n",
       "    }\n",
       "\n",
       "    .dataframe tbody tr th {\n",
       "        vertical-align: top;\n",
       "    }\n",
       "\n",
       "    .dataframe thead th {\n",
       "        text-align: right;\n",
       "    }\n",
       "</style>\n",
       "<table border=\"1\" class=\"dataframe\">\n",
       "  <thead>\n",
       "    <tr style=\"text-align: right;\">\n",
       "      <th></th>\n",
       "      <th>seq_id</th>\n",
       "      <th>protein_sequence</th>\n",
       "      <th>pH</th>\n",
       "      <th>tm</th>\n",
       "    </tr>\n",
       "  </thead>\n",
       "  <tbody>\n",
       "    <tr>\n",
       "      <th>0</th>\n",
       "      <td>0</td>\n",
       "      <td>AAAAKAAALALLGEAPEVVDIWLPAGWRQPFRVFRLERKGDGVLVG...</td>\n",
       "      <td>7.0</td>\n",
       "      <td>75.7</td>\n",
       "    </tr>\n",
       "    <tr>\n",
       "      <th>1</th>\n",
       "      <td>1</td>\n",
       "      <td>AAADGEPLHNEEERAGAGQVGRSLPQESEEQRTGSRPRRRRDLGSR...</td>\n",
       "      <td>7.0</td>\n",
       "      <td>50.5</td>\n",
       "    </tr>\n",
       "    <tr>\n",
       "      <th>2</th>\n",
       "      <td>2</td>\n",
       "      <td>AAAFSTPRATSYRILSSAGSGSTRADAPQVRRLHTTRDLLAKDYYA...</td>\n",
       "      <td>7.0</td>\n",
       "      <td>40.5</td>\n",
       "    </tr>\n",
       "    <tr>\n",
       "      <th>3</th>\n",
       "      <td>3</td>\n",
       "      <td>AAASGLRTAIPAQPLRHLLQPAPRPCLRPFGLLSVRAGSARRSGLL...</td>\n",
       "      <td>7.0</td>\n",
       "      <td>47.2</td>\n",
       "    </tr>\n",
       "    <tr>\n",
       "      <th>4</th>\n",
       "      <td>4</td>\n",
       "      <td>AAATKSGPRRQSQGASVRTFTPFYFLVEPVDTLSVRGSSVILNCSA...</td>\n",
       "      <td>7.0</td>\n",
       "      <td>49.5</td>\n",
       "    </tr>\n",
       "    <tr>\n",
       "      <th>...</th>\n",
       "      <td>...</td>\n",
       "      <td>...</td>\n",
       "      <td>...</td>\n",
       "      <td>...</td>\n",
       "    </tr>\n",
       "    <tr>\n",
       "      <th>28690</th>\n",
       "      <td>31385</td>\n",
       "      <td>YYMYSGGGSALAAGGGGAGRKGDWNDIDSIKKKDLHHSRGDEKAQG...</td>\n",
       "      <td>7.0</td>\n",
       "      <td>51.8</td>\n",
       "    </tr>\n",
       "    <tr>\n",
       "      <th>28691</th>\n",
       "      <td>31386</td>\n",
       "      <td>YYNDQHRLSSYSVETAMFLSWERAIVKPGAMFKKAVIGFNCNVDLI...</td>\n",
       "      <td>7.0</td>\n",
       "      <td>37.2</td>\n",
       "    </tr>\n",
       "    <tr>\n",
       "      <th>28692</th>\n",
       "      <td>31387</td>\n",
       "      <td>YYQRTLGAELLYKISFGEMPKSAQDSAENCPSGMQFPDTAIAHANV...</td>\n",
       "      <td>7.0</td>\n",
       "      <td>64.6</td>\n",
       "    </tr>\n",
       "    <tr>\n",
       "      <th>28693</th>\n",
       "      <td>31388</td>\n",
       "      <td>YYSFSDNITTVFLSRQAIDDDHSLSLGTISDVVESENGVVAADDAR...</td>\n",
       "      <td>7.0</td>\n",
       "      <td>50.7</td>\n",
       "    </tr>\n",
       "    <tr>\n",
       "      <th>28694</th>\n",
       "      <td>31389</td>\n",
       "      <td>YYVPDEYWQSLEVAHKLTFGYGYLTWEWVQGIRSYVYPLLIAGLYK...</td>\n",
       "      <td>7.0</td>\n",
       "      <td>37.6</td>\n",
       "    </tr>\n",
       "  </tbody>\n",
       "</table>\n",
       "<p>28695 rows × 4 columns</p>\n",
       "</div>"
      ],
      "text/plain": [
       "       seq_id                                   protein_sequence   pH    tm\n",
       "0           0  AAAAKAAALALLGEAPEVVDIWLPAGWRQPFRVFRLERKGDGVLVG...  7.0  75.7\n",
       "1           1  AAADGEPLHNEEERAGAGQVGRSLPQESEEQRTGSRPRRRRDLGSR...  7.0  50.5\n",
       "2           2  AAAFSTPRATSYRILSSAGSGSTRADAPQVRRLHTTRDLLAKDYYA...  7.0  40.5\n",
       "3           3  AAASGLRTAIPAQPLRHLLQPAPRPCLRPFGLLSVRAGSARRSGLL...  7.0  47.2\n",
       "4           4  AAATKSGPRRQSQGASVRTFTPFYFLVEPVDTLSVRGSSVILNCSA...  7.0  49.5\n",
       "...       ...                                                ...  ...   ...\n",
       "28690   31385  YYMYSGGGSALAAGGGGAGRKGDWNDIDSIKKKDLHHSRGDEKAQG...  7.0  51.8\n",
       "28691   31386  YYNDQHRLSSYSVETAMFLSWERAIVKPGAMFKKAVIGFNCNVDLI...  7.0  37.2\n",
       "28692   31387  YYQRTLGAELLYKISFGEMPKSAQDSAENCPSGMQFPDTAIAHANV...  7.0  64.6\n",
       "28693   31388  YYSFSDNITTVFLSRQAIDDDHSLSLGTISDVVESENGVVAADDAR...  7.0  50.7\n",
       "28694   31389  YYVPDEYWQSLEVAHKLTFGYGYLTWEWVQGIRSYVYPLLIAGLYK...  7.0  37.6\n",
       "\n",
       "[28695 rows x 4 columns]"
      ]
     },
     "execution_count": 249,
     "metadata": {},
     "output_type": "execute_result"
    }
   ],
   "source": [
    "train= train.drop((missing_data).index).reset_index(drop=True)\n",
    "train\n",
    "#Podemos remover também a data_source? Não deve de trazer nada de relevante para a analise dos dados"
   ]
  },
  {
   "cell_type": "code",
   "execution_count": 250,
   "metadata": {},
   "outputs": [
    {
     "name": "stdout",
     "output_type": "stream",
     "text": [
      "Train data is divided in 28695 lines and 4 col\n",
      "Test data is divided in 2413 lines and 3 col\n",
      "Labels: ['seq_id', 'protein_sequence', 'pH', 'tm']\n"
     ]
    }
   ],
   "source": [
    "print(f\"Train data is divided in {train.shape[0]} lines and {train.shape[1]} col\")\n",
    "print(f\"Test data is divided in {test.shape[0]} lines and {test.shape[1]} col\")\n",
    "print(f\"Labels: {[labels for labels in train.columns]}\")"
   ]
  },
  {
   "cell_type": "code",
   "execution_count": 251,
   "metadata": {},
   "outputs": [
    {
     "data": {
      "text/html": [
       "<div>\n",
       "<style scoped>\n",
       "    .dataframe tbody tr th:only-of-type {\n",
       "        vertical-align: middle;\n",
       "    }\n",
       "\n",
       "    .dataframe tbody tr th {\n",
       "        vertical-align: top;\n",
       "    }\n",
       "\n",
       "    .dataframe thead th {\n",
       "        text-align: right;\n",
       "    }\n",
       "</style>\n",
       "<table border=\"1\" class=\"dataframe\">\n",
       "  <thead>\n",
       "    <tr style=\"text-align: right;\">\n",
       "      <th></th>\n",
       "      <th>seq_id</th>\n",
       "      <th>pH</th>\n",
       "      <th>tm</th>\n",
       "    </tr>\n",
       "  </thead>\n",
       "  <tbody>\n",
       "    <tr>\n",
       "      <th>count</th>\n",
       "      <td>28695.000000</td>\n",
       "      <td>28695.000000</td>\n",
       "      <td>28695.000000</td>\n",
       "    </tr>\n",
       "    <tr>\n",
       "      <th>mean</th>\n",
       "      <td>15631.432166</td>\n",
       "      <td>6.872467</td>\n",
       "      <td>51.385604</td>\n",
       "    </tr>\n",
       "    <tr>\n",
       "      <th>std</th>\n",
       "      <td>9235.099078</td>\n",
       "      <td>0.793184</td>\n",
       "      <td>12.076609</td>\n",
       "    </tr>\n",
       "    <tr>\n",
       "      <th>min</th>\n",
       "      <td>0.000000</td>\n",
       "      <td>1.990000</td>\n",
       "      <td>25.100000</td>\n",
       "    </tr>\n",
       "    <tr>\n",
       "      <th>25%</th>\n",
       "      <td>7447.500000</td>\n",
       "      <td>7.000000</td>\n",
       "      <td>43.700000</td>\n",
       "    </tr>\n",
       "    <tr>\n",
       "      <th>50%</th>\n",
       "      <td>15443.000000</td>\n",
       "      <td>7.000000</td>\n",
       "      <td>48.800000</td>\n",
       "    </tr>\n",
       "    <tr>\n",
       "      <th>75%</th>\n",
       "      <td>23758.500000</td>\n",
       "      <td>7.000000</td>\n",
       "      <td>54.600000</td>\n",
       "    </tr>\n",
       "    <tr>\n",
       "      <th>max</th>\n",
       "      <td>31389.000000</td>\n",
       "      <td>11.000000</td>\n",
       "      <td>130.000000</td>\n",
       "    </tr>\n",
       "  </tbody>\n",
       "</table>\n",
       "</div>"
      ],
      "text/plain": [
       "             seq_id            pH            tm\n",
       "count  28695.000000  28695.000000  28695.000000\n",
       "mean   15631.432166      6.872467     51.385604\n",
       "std     9235.099078      0.793184     12.076609\n",
       "min        0.000000      1.990000     25.100000\n",
       "25%     7447.500000      7.000000     43.700000\n",
       "50%    15443.000000      7.000000     48.800000\n",
       "75%    23758.500000      7.000000     54.600000\n",
       "max    31389.000000     11.000000    130.000000"
      ]
     },
     "execution_count": 251,
     "metadata": {},
     "output_type": "execute_result"
    }
   ],
   "source": [
    "train.describe()"
   ]
  },
  {
   "attachments": {},
   "cell_type": "markdown",
   "metadata": {},
   "source": [
    "Next we will perform an unsupervised analysis of our data\n",
    "For that we will need to obtain descriptors for our protein sequences "
   ]
  },
  {
   "cell_type": "code",
   "execution_count": 252,
   "metadata": {},
   "outputs": [],
   "source": []
  },
  {
   "cell_type": "code",
   "execution_count": 253,
   "metadata": {},
   "outputs": [
    {
     "data": {
      "text/plain": [
       "28695"
      ]
     },
     "execution_count": 253,
     "metadata": {},
     "output_type": "execute_result"
    }
   ],
   "source": [
    "train_array= np.array(train.loc[:,[\"protein_sequence\"]])\n",
    "len(train_array)"
   ]
  },
  {
   "cell_type": "code",
   "execution_count": 254,
   "metadata": {},
   "outputs": [],
   "source": [
    "# kmer = KMer_prot()\n",
    "# new_data = kmer.fit_transform(train_array)"
   ]
  },
  {
   "cell_type": "code",
   "execution_count": 255,
   "metadata": {},
   "outputs": [],
   "source": [
    "# new_data= StandardScaler().fit_transform(new_data)\n",
    "# new_data_mean= [np.mean(line) for line in new_data]\n",
    "# print(\"There is a maximum of :\",max(new_data_mean))\n",
    "# print(\"There is a Minimum of :\",min(new_data_mean))"
   ]
  },
  {
   "cell_type": "code",
   "execution_count": 256,
   "metadata": {},
   "outputs": [],
   "source": [
    "# train[\"protein_descriptor\"] = new_data_mean"
   ]
  },
  {
   "cell_type": "code",
   "execution_count": 257,
   "metadata": {},
   "outputs": [],
   "source": [
    "di_peptide= CalculateDipeptideComposition(train_array)"
   ]
  },
  {
   "cell_type": "code",
   "execution_count": 258,
   "metadata": {},
   "outputs": [],
   "source": [
    "di_dataframe= pd.DataFrame(di_peptide)"
   ]
  },
  {
   "cell_type": "code",
   "execution_count": 259,
   "metadata": {},
   "outputs": [
    {
     "data": {
      "text/html": [
       "<div>\n",
       "<style scoped>\n",
       "    .dataframe tbody tr th:only-of-type {\n",
       "        vertical-align: middle;\n",
       "    }\n",
       "\n",
       "    .dataframe tbody tr th {\n",
       "        vertical-align: top;\n",
       "    }\n",
       "\n",
       "    .dataframe thead th {\n",
       "        text-align: right;\n",
       "    }\n",
       "</style>\n",
       "<table border=\"1\" class=\"dataframe\">\n",
       "  <thead>\n",
       "    <tr style=\"text-align: right;\">\n",
       "      <th></th>\n",
       "      <th>AA</th>\n",
       "      <th>AR</th>\n",
       "      <th>AN</th>\n",
       "      <th>AD</th>\n",
       "      <th>AC</th>\n",
       "      <th>AE</th>\n",
       "      <th>AQ</th>\n",
       "      <th>AG</th>\n",
       "      <th>AH</th>\n",
       "      <th>AI</th>\n",
       "      <th>...</th>\n",
       "      <th>VL</th>\n",
       "      <th>VK</th>\n",
       "      <th>VM</th>\n",
       "      <th>VF</th>\n",
       "      <th>VP</th>\n",
       "      <th>VS</th>\n",
       "      <th>VT</th>\n",
       "      <th>VW</th>\n",
       "      <th>VY</th>\n",
       "      <th>VV</th>\n",
       "    </tr>\n",
       "  </thead>\n",
       "  <tbody>\n",
       "    <tr>\n",
       "      <th>0</th>\n",
       "      <td>2.35</td>\n",
       "      <td>0.88</td>\n",
       "      <td>0.29</td>\n",
       "      <td>0.29</td>\n",
       "      <td>0.00</td>\n",
       "      <td>0.59</td>\n",
       "      <td>0.59</td>\n",
       "      <td>1.18</td>\n",
       "      <td>0.00</td>\n",
       "      <td>0.59</td>\n",
       "      <td>...</td>\n",
       "      <td>0.88</td>\n",
       "      <td>0.29</td>\n",
       "      <td>0.00</td>\n",
       "      <td>0.29</td>\n",
       "      <td>0.59</td>\n",
       "      <td>0.29</td>\n",
       "      <td>1.18</td>\n",
       "      <td>0.00</td>\n",
       "      <td>0.29</td>\n",
       "      <td>1.76</td>\n",
       "    </tr>\n",
       "    <tr>\n",
       "      <th>1</th>\n",
       "      <td>0.70</td>\n",
       "      <td>0.70</td>\n",
       "      <td>0.35</td>\n",
       "      <td>0.35</td>\n",
       "      <td>0.00</td>\n",
       "      <td>1.40</td>\n",
       "      <td>2.46</td>\n",
       "      <td>0.70</td>\n",
       "      <td>0.00</td>\n",
       "      <td>0.35</td>\n",
       "      <td>...</td>\n",
       "      <td>0.35</td>\n",
       "      <td>0.00</td>\n",
       "      <td>0.00</td>\n",
       "      <td>0.00</td>\n",
       "      <td>0.00</td>\n",
       "      <td>0.70</td>\n",
       "      <td>0.00</td>\n",
       "      <td>0.00</td>\n",
       "      <td>0.00</td>\n",
       "      <td>0.70</td>\n",
       "    </tr>\n",
       "    <tr>\n",
       "      <th>2</th>\n",
       "      <td>1.21</td>\n",
       "      <td>0.20</td>\n",
       "      <td>0.40</td>\n",
       "      <td>0.60</td>\n",
       "      <td>0.00</td>\n",
       "      <td>0.60</td>\n",
       "      <td>0.60</td>\n",
       "      <td>1.61</td>\n",
       "      <td>0.20</td>\n",
       "      <td>0.20</td>\n",
       "      <td>...</td>\n",
       "      <td>0.40</td>\n",
       "      <td>0.20</td>\n",
       "      <td>0.40</td>\n",
       "      <td>0.00</td>\n",
       "      <td>0.60</td>\n",
       "      <td>0.40</td>\n",
       "      <td>0.40</td>\n",
       "      <td>0.00</td>\n",
       "      <td>0.20</td>\n",
       "      <td>0.20</td>\n",
       "    </tr>\n",
       "    <tr>\n",
       "      <th>3</th>\n",
       "      <td>0.38</td>\n",
       "      <td>0.38</td>\n",
       "      <td>0.00</td>\n",
       "      <td>0.76</td>\n",
       "      <td>0.38</td>\n",
       "      <td>0.76</td>\n",
       "      <td>0.38</td>\n",
       "      <td>0.76</td>\n",
       "      <td>0.00</td>\n",
       "      <td>0.38</td>\n",
       "      <td>...</td>\n",
       "      <td>0.38</td>\n",
       "      <td>0.38</td>\n",
       "      <td>0.00</td>\n",
       "      <td>0.00</td>\n",
       "      <td>0.38</td>\n",
       "      <td>0.38</td>\n",
       "      <td>0.76</td>\n",
       "      <td>0.00</td>\n",
       "      <td>0.00</td>\n",
       "      <td>0.38</td>\n",
       "    </tr>\n",
       "    <tr>\n",
       "      <th>4</th>\n",
       "      <td>0.28</td>\n",
       "      <td>0.14</td>\n",
       "      <td>0.34</td>\n",
       "      <td>0.28</td>\n",
       "      <td>0.07</td>\n",
       "      <td>0.34</td>\n",
       "      <td>0.34</td>\n",
       "      <td>0.41</td>\n",
       "      <td>0.34</td>\n",
       "      <td>0.34</td>\n",
       "      <td>...</td>\n",
       "      <td>0.34</td>\n",
       "      <td>0.48</td>\n",
       "      <td>0.21</td>\n",
       "      <td>0.28</td>\n",
       "      <td>0.62</td>\n",
       "      <td>0.55</td>\n",
       "      <td>0.83</td>\n",
       "      <td>0.00</td>\n",
       "      <td>0.14</td>\n",
       "      <td>0.90</td>\n",
       "    </tr>\n",
       "    <tr>\n",
       "      <th>...</th>\n",
       "      <td>...</td>\n",
       "      <td>...</td>\n",
       "      <td>...</td>\n",
       "      <td>...</td>\n",
       "      <td>...</td>\n",
       "      <td>...</td>\n",
       "      <td>...</td>\n",
       "      <td>...</td>\n",
       "      <td>...</td>\n",
       "      <td>...</td>\n",
       "      <td>...</td>\n",
       "      <td>...</td>\n",
       "      <td>...</td>\n",
       "      <td>...</td>\n",
       "      <td>...</td>\n",
       "      <td>...</td>\n",
       "      <td>...</td>\n",
       "      <td>...</td>\n",
       "      <td>...</td>\n",
       "      <td>...</td>\n",
       "      <td>...</td>\n",
       "    </tr>\n",
       "    <tr>\n",
       "      <th>28690</th>\n",
       "      <td>0.73</td>\n",
       "      <td>0.73</td>\n",
       "      <td>0.00</td>\n",
       "      <td>0.55</td>\n",
       "      <td>0.00</td>\n",
       "      <td>0.36</td>\n",
       "      <td>0.36</td>\n",
       "      <td>0.73</td>\n",
       "      <td>0.00</td>\n",
       "      <td>0.00</td>\n",
       "      <td>...</td>\n",
       "      <td>0.55</td>\n",
       "      <td>0.18</td>\n",
       "      <td>0.18</td>\n",
       "      <td>0.55</td>\n",
       "      <td>0.55</td>\n",
       "      <td>0.36</td>\n",
       "      <td>0.00</td>\n",
       "      <td>0.55</td>\n",
       "      <td>0.18</td>\n",
       "      <td>0.91</td>\n",
       "    </tr>\n",
       "    <tr>\n",
       "      <th>28691</th>\n",
       "      <td>1.07</td>\n",
       "      <td>0.21</td>\n",
       "      <td>0.85</td>\n",
       "      <td>0.64</td>\n",
       "      <td>0.00</td>\n",
       "      <td>0.43</td>\n",
       "      <td>0.21</td>\n",
       "      <td>0.85</td>\n",
       "      <td>0.43</td>\n",
       "      <td>0.64</td>\n",
       "      <td>...</td>\n",
       "      <td>0.64</td>\n",
       "      <td>0.43</td>\n",
       "      <td>0.21</td>\n",
       "      <td>0.21</td>\n",
       "      <td>0.21</td>\n",
       "      <td>0.43</td>\n",
       "      <td>0.00</td>\n",
       "      <td>0.00</td>\n",
       "      <td>0.21</td>\n",
       "      <td>0.85</td>\n",
       "    </tr>\n",
       "    <tr>\n",
       "      <th>28692</th>\n",
       "      <td>0.79</td>\n",
       "      <td>0.00</td>\n",
       "      <td>1.57</td>\n",
       "      <td>0.00</td>\n",
       "      <td>0.00</td>\n",
       "      <td>1.57</td>\n",
       "      <td>0.79</td>\n",
       "      <td>0.79</td>\n",
       "      <td>1.57</td>\n",
       "      <td>0.79</td>\n",
       "      <td>...</td>\n",
       "      <td>0.79</td>\n",
       "      <td>0.79</td>\n",
       "      <td>0.00</td>\n",
       "      <td>0.00</td>\n",
       "      <td>0.79</td>\n",
       "      <td>0.00</td>\n",
       "      <td>0.79</td>\n",
       "      <td>0.00</td>\n",
       "      <td>0.00</td>\n",
       "      <td>0.79</td>\n",
       "    </tr>\n",
       "    <tr>\n",
       "      <th>28693</th>\n",
       "      <td>1.01</td>\n",
       "      <td>0.68</td>\n",
       "      <td>0.00</td>\n",
       "      <td>0.34</td>\n",
       "      <td>0.00</td>\n",
       "      <td>0.51</td>\n",
       "      <td>0.17</td>\n",
       "      <td>0.68</td>\n",
       "      <td>0.17</td>\n",
       "      <td>0.84</td>\n",
       "      <td>...</td>\n",
       "      <td>1.01</td>\n",
       "      <td>0.34</td>\n",
       "      <td>0.34</td>\n",
       "      <td>0.51</td>\n",
       "      <td>0.17</td>\n",
       "      <td>0.84</td>\n",
       "      <td>0.34</td>\n",
       "      <td>0.00</td>\n",
       "      <td>0.17</td>\n",
       "      <td>1.01</td>\n",
       "    </tr>\n",
       "    <tr>\n",
       "      <th>28694</th>\n",
       "      <td>0.37</td>\n",
       "      <td>0.19</td>\n",
       "      <td>0.56</td>\n",
       "      <td>0.19</td>\n",
       "      <td>0.00</td>\n",
       "      <td>0.37</td>\n",
       "      <td>0.19</td>\n",
       "      <td>0.37</td>\n",
       "      <td>0.37</td>\n",
       "      <td>0.37</td>\n",
       "      <td>...</td>\n",
       "      <td>1.31</td>\n",
       "      <td>0.19</td>\n",
       "      <td>0.37</td>\n",
       "      <td>0.19</td>\n",
       "      <td>0.37</td>\n",
       "      <td>0.37</td>\n",
       "      <td>0.56</td>\n",
       "      <td>0.19</td>\n",
       "      <td>0.37</td>\n",
       "      <td>0.56</td>\n",
       "    </tr>\n",
       "  </tbody>\n",
       "</table>\n",
       "<p>28695 rows × 400 columns</p>\n",
       "</div>"
      ],
      "text/plain": [
       "         AA    AR    AN    AD    AC    AE    AQ    AG    AH    AI  ...    VL  \\\n",
       "0      2.35  0.88  0.29  0.29  0.00  0.59  0.59  1.18  0.00  0.59  ...  0.88   \n",
       "1      0.70  0.70  0.35  0.35  0.00  1.40  2.46  0.70  0.00  0.35  ...  0.35   \n",
       "2      1.21  0.20  0.40  0.60  0.00  0.60  0.60  1.61  0.20  0.20  ...  0.40   \n",
       "3      0.38  0.38  0.00  0.76  0.38  0.76  0.38  0.76  0.00  0.38  ...  0.38   \n",
       "4      0.28  0.14  0.34  0.28  0.07  0.34  0.34  0.41  0.34  0.34  ...  0.34   \n",
       "...     ...   ...   ...   ...   ...   ...   ...   ...   ...   ...  ...   ...   \n",
       "28690  0.73  0.73  0.00  0.55  0.00  0.36  0.36  0.73  0.00  0.00  ...  0.55   \n",
       "28691  1.07  0.21  0.85  0.64  0.00  0.43  0.21  0.85  0.43  0.64  ...  0.64   \n",
       "28692  0.79  0.00  1.57  0.00  0.00  1.57  0.79  0.79  1.57  0.79  ...  0.79   \n",
       "28693  1.01  0.68  0.00  0.34  0.00  0.51  0.17  0.68  0.17  0.84  ...  1.01   \n",
       "28694  0.37  0.19  0.56  0.19  0.00  0.37  0.19  0.37  0.37  0.37  ...  1.31   \n",
       "\n",
       "         VK    VM    VF    VP    VS    VT    VW    VY    VV  \n",
       "0      0.29  0.00  0.29  0.59  0.29  1.18  0.00  0.29  1.76  \n",
       "1      0.00  0.00  0.00  0.00  0.70  0.00  0.00  0.00  0.70  \n",
       "2      0.20  0.40  0.00  0.60  0.40  0.40  0.00  0.20  0.20  \n",
       "3      0.38  0.00  0.00  0.38  0.38  0.76  0.00  0.00  0.38  \n",
       "4      0.48  0.21  0.28  0.62  0.55  0.83  0.00  0.14  0.90  \n",
       "...     ...   ...   ...   ...   ...   ...   ...   ...   ...  \n",
       "28690  0.18  0.18  0.55  0.55  0.36  0.00  0.55  0.18  0.91  \n",
       "28691  0.43  0.21  0.21  0.21  0.43  0.00  0.00  0.21  0.85  \n",
       "28692  0.79  0.00  0.00  0.79  0.00  0.79  0.00  0.00  0.79  \n",
       "28693  0.34  0.34  0.51  0.17  0.84  0.34  0.00  0.17  1.01  \n",
       "28694  0.19  0.37  0.19  0.37  0.37  0.56  0.19  0.37  0.56  \n",
       "\n",
       "[28695 rows x 400 columns]"
      ]
     },
     "execution_count": 259,
     "metadata": {},
     "output_type": "execute_result"
    }
   ],
   "source": [
    "di_dataframe"
   ]
  },
  {
   "cell_type": "code",
   "execution_count": 260,
   "metadata": {},
   "outputs": [],
   "source": [
    "molecular_weight = Calculate_molecular_weight(train_array)\n",
    "isoelectric_point = Calculate_isoelectric_point(train_array)\n",
    "aromaticity = Calculate_aromaticity(train_array)\n",
    "instability_index = Calculate_instability_index(train_array)"
   ]
  },
  {
   "cell_type": "code",
   "execution_count": 261,
   "metadata": {},
   "outputs": [],
   "source": [
    "train[\"molecular_weight\"]=molecular_weight\n",
    "train[\"isoelectric_point\"]=isoelectric_point\n",
    "train[\"aromaticity\"]=aromaticity\n",
    "train[\"instability_index\"]=instability_index"
   ]
  },
  {
   "cell_type": "code",
   "execution_count": 262,
   "metadata": {},
   "outputs": [
    {
     "data": {
      "text/plain": [
       "0        7.0\n",
       "1        7.0\n",
       "2        7.0\n",
       "3        7.0\n",
       "4        7.0\n",
       "        ... \n",
       "28690    7.0\n",
       "28691    7.0\n",
       "28692    7.0\n",
       "28693    7.0\n",
       "28694    7.0\n",
       "Name: pH, Length: 28695, dtype: float64"
      ]
     },
     "execution_count": 262,
     "metadata": {},
     "output_type": "execute_result"
    }
   ],
   "source": [
    "train[\"pH\"]"
   ]
  },
  {
   "cell_type": "code",
   "execution_count": 269,
   "metadata": {},
   "outputs": [
    {
     "data": {
      "text/html": [
       "<div>\n",
       "<style scoped>\n",
       "    .dataframe tbody tr th:only-of-type {\n",
       "        vertical-align: middle;\n",
       "    }\n",
       "\n",
       "    .dataframe tbody tr th {\n",
       "        vertical-align: top;\n",
       "    }\n",
       "\n",
       "    .dataframe thead th {\n",
       "        text-align: right;\n",
       "    }\n",
       "</style>\n",
       "<table border=\"1\" class=\"dataframe\">\n",
       "  <thead>\n",
       "    <tr style=\"text-align: right;\">\n",
       "      <th></th>\n",
       "      <th>seq_id</th>\n",
       "      <th>protein_sequence</th>\n",
       "      <th>pH</th>\n",
       "      <th>molecular_weight</th>\n",
       "      <th>isoelectric_point</th>\n",
       "      <th>aromaticity</th>\n",
       "      <th>instability_index</th>\n",
       "      <th>AA</th>\n",
       "      <th>AR</th>\n",
       "      <th>AN</th>\n",
       "      <th>...</th>\n",
       "      <th>VL</th>\n",
       "      <th>VK</th>\n",
       "      <th>VM</th>\n",
       "      <th>VF</th>\n",
       "      <th>VP</th>\n",
       "      <th>VS</th>\n",
       "      <th>VT</th>\n",
       "      <th>VW</th>\n",
       "      <th>VY</th>\n",
       "      <th>VV</th>\n",
       "    </tr>\n",
       "  </thead>\n",
       "  <tbody>\n",
       "    <tr>\n",
       "      <th>10162</th>\n",
       "      <td>10694</td>\n",
       "      <td>MFQQLAARLQEAIDRLRGRGRITEEDLKGTLREIRRALIEADVNLE...</td>\n",
       "      <td>7.0</td>\n",
       "      <td>48134.221</td>\n",
       "      <td>9.78232</td>\n",
       "      <td>0.04157</td>\n",
       "      <td>41.12358</td>\n",
       "      <td>1.39</td>\n",
       "      <td>1.39</td>\n",
       "      <td>0.0</td>\n",
       "      <td>...</td>\n",
       "      <td>2.08</td>\n",
       "      <td>0.23</td>\n",
       "      <td>0.0</td>\n",
       "      <td>0.0</td>\n",
       "      <td>0.23</td>\n",
       "      <td>0.23</td>\n",
       "      <td>0.46</td>\n",
       "      <td>0.23</td>\n",
       "      <td>0.23</td>\n",
       "      <td>0.23</td>\n",
       "    </tr>\n",
       "  </tbody>\n",
       "</table>\n",
       "<p>1 rows × 407 columns</p>\n",
       "</div>"
      ],
      "text/plain": [
       "       seq_id                                   protein_sequence   pH  \\\n",
       "10162   10694  MFQQLAARLQEAIDRLRGRGRITEEDLKGTLREIRRALIEADVNLE...  7.0   \n",
       "\n",
       "       molecular_weight  isoelectric_point  aromaticity  instability_index  \\\n",
       "10162         48134.221            9.78232      0.04157           41.12358   \n",
       "\n",
       "         AA    AR   AN  ...    VL    VK   VM   VF    VP    VS    VT    VW  \\\n",
       "10162  1.39  1.39  0.0  ...  2.08  0.23  0.0  0.0  0.23  0.23  0.46  0.23   \n",
       "\n",
       "         VY    VV  \n",
       "10162  0.23  0.23  \n",
       "\n",
       "[1 rows x 407 columns]"
      ]
     },
     "execution_count": 269,
     "metadata": {},
     "output_type": "execute_result"
    }
   ],
   "source": [
    "train_dataset = train.join(di_dataframe)\n",
    "train_dataset= train_dataset.drop(columns=[\"tm\"])#.drop(columns=[\"protein_sequence\"]).drop(columns=[\"seq_id\"])\n",
    "train_dataset.sample()"
   ]
  },
  {
   "cell_type": "code",
   "execution_count": 266,
   "metadata": {},
   "outputs": [
    {
     "data": {
      "text/plain": [
       "0        75.7\n",
       "1        50.5\n",
       "2        40.5\n",
       "3        47.2\n",
       "4        49.5\n",
       "         ... \n",
       "28690    51.8\n",
       "28691    37.2\n",
       "28692    64.6\n",
       "28693    50.7\n",
       "28694    37.6\n",
       "Name: tm, Length: 28695, dtype: float64"
      ]
     },
     "execution_count": 266,
     "metadata": {},
     "output_type": "execute_result"
    }
   ],
   "source": [
    "train_y= train[\"tm\"]\n",
    "train_y"
   ]
  },
  {
   "cell_type": "code",
   "execution_count": 274,
   "metadata": {},
   "outputs": [
    {
     "data": {
      "text/html": [
       "<div>\n",
       "<style scoped>\n",
       "    .dataframe tbody tr th:only-of-type {\n",
       "        vertical-align: middle;\n",
       "    }\n",
       "\n",
       "    .dataframe tbody tr th {\n",
       "        vertical-align: top;\n",
       "    }\n",
       "\n",
       "    .dataframe thead th {\n",
       "        text-align: right;\n",
       "    }\n",
       "</style>\n",
       "<table border=\"1\" class=\"dataframe\">\n",
       "  <thead>\n",
       "    <tr style=\"text-align: right;\">\n",
       "      <th></th>\n",
       "      <th>id</th>\n",
       "      <th>sequence</th>\n",
       "    </tr>\n",
       "  </thead>\n",
       "  <tbody>\n",
       "    <tr>\n",
       "      <th>21334</th>\n",
       "      <td>23571</td>\n",
       "      <td>[M, S, E, P, V, I, K, S, L, L, D, T, D, M, Y, ...</td>\n",
       "    </tr>\n",
       "  </tbody>\n",
       "</table>\n",
       "</div>"
      ],
      "text/plain": [
       "          id                                           sequence\n",
       "21334  23571  [M, S, E, P, V, I, K, S, L, L, D, T, D, M, Y, ..."
      ]
     },
     "execution_count": 274,
     "metadata": {},
     "output_type": "execute_result"
    }
   ],
   "source": [
    "corpus= train_dataset.copy()\n",
    "corpus['protein_sequence'] = corpus['protein_sequence'].map(list)\n",
    "#corpus.set_index('id', inplace=True)\n",
    "corpus = corpus [['seq_id', 'protein_sequence']]\n",
    "# change index column name becuase otherwise SGT does not work\n",
    "corpus.columns = ['id', 'sequence']\n",
    "corpus.sample(1)"
   ]
  },
  {
   "cell_type": "code",
   "execution_count": 276,
   "metadata": {},
   "outputs": [
    {
     "name": "stdout",
     "output_type": "stream",
     "text": [
      "INFO: Pandarallel will run on 11 workers.\n",
      "INFO: Pandarallel will use standard multiprocessing data transfer (pipe) to transfer data between the main process and workers.\n",
      "\n",
      "WARNING: You are on Windows. If you detect any issue with pandarallel, be sure you checked out the Troubleshooting page:\n",
      "https://nalepae.github.io/pandarallel/troubleshooting/\n"
     ]
    },
    {
     "data": {
      "text/html": [
       "<div>\n",
       "<style scoped>\n",
       "    .dataframe tbody tr th:only-of-type {\n",
       "        vertical-align: middle;\n",
       "    }\n",
       "\n",
       "    .dataframe tbody tr th {\n",
       "        vertical-align: top;\n",
       "    }\n",
       "\n",
       "    .dataframe thead th {\n",
       "        text-align: right;\n",
       "    }\n",
       "</style>\n",
       "<table border=\"1\" class=\"dataframe\">\n",
       "  <thead>\n",
       "    <tr style=\"text-align: right;\">\n",
       "      <th></th>\n",
       "      <th>id</th>\n",
       "      <th>(A, A)</th>\n",
       "      <th>(A, C)</th>\n",
       "      <th>(A, D)</th>\n",
       "      <th>(A, E)</th>\n",
       "      <th>(A, F)</th>\n",
       "      <th>(A, G)</th>\n",
       "      <th>(A, H)</th>\n",
       "      <th>(A, I)</th>\n",
       "      <th>(A, K)</th>\n",
       "      <th>...</th>\n",
       "      <th>(Y, M)</th>\n",
       "      <th>(Y, N)</th>\n",
       "      <th>(Y, P)</th>\n",
       "      <th>(Y, Q)</th>\n",
       "      <th>(Y, R)</th>\n",
       "      <th>(Y, S)</th>\n",
       "      <th>(Y, T)</th>\n",
       "      <th>(Y, V)</th>\n",
       "      <th>(Y, W)</th>\n",
       "      <th>(Y, Y)</th>\n",
       "    </tr>\n",
       "  </thead>\n",
       "  <tbody>\n",
       "    <tr>\n",
       "      <th>20610</th>\n",
       "      <td>22767</td>\n",
       "      <td>0.003061</td>\n",
       "      <td>0.000971</td>\n",
       "      <td>0.002625</td>\n",
       "      <td>0.002509</td>\n",
       "      <td>0.001626</td>\n",
       "      <td>0.001176</td>\n",
       "      <td>0.015469</td>\n",
       "      <td>0.002102</td>\n",
       "      <td>0.012541</td>\n",
       "      <td>...</td>\n",
       "      <td>0.006154</td>\n",
       "      <td>0.008415</td>\n",
       "      <td>0.000006</td>\n",
       "      <td>0.000023</td>\n",
       "      <td>0.022851</td>\n",
       "      <td>0.007942</td>\n",
       "      <td>0.013914</td>\n",
       "      <td>0.000301</td>\n",
       "      <td>1.385881e-07</td>\n",
       "      <td>3.329054e-07</td>\n",
       "    </tr>\n",
       "  </tbody>\n",
       "</table>\n",
       "<p>1 rows × 401 columns</p>\n",
       "</div>"
      ],
      "text/plain": [
       "          id    (A, A)    (A, C)    (A, D)    (A, E)    (A, F)    (A, G)  \\\n",
       "20610  22767  0.003061  0.000971  0.002625  0.002509  0.001626  0.001176   \n",
       "\n",
       "         (A, H)    (A, I)    (A, K)  ...    (Y, M)    (Y, N)    (Y, P)  \\\n",
       "20610  0.015469  0.002102  0.012541  ...  0.006154  0.008415  0.000006   \n",
       "\n",
       "         (Y, Q)    (Y, R)    (Y, S)    (Y, T)    (Y, V)        (Y, W)  \\\n",
       "20610  0.000023  0.022851  0.007942  0.013914  0.000301  1.385881e-07   \n",
       "\n",
       "             (Y, Y)  \n",
       "20610  3.329054e-07  \n",
       "\n",
       "[1 rows x 401 columns]"
      ]
     },
     "execution_count": 276,
     "metadata": {},
     "output_type": "execute_result"
    }
   ],
   "source": [
    "sgt = SGT(kappa=1, \n",
    "           lengthsensitive=False, \n",
    "           mode='multiprocessing')\n",
    "embeddings = sgt.fit_transform(corpus)\n",
    "embeddings.sample()\n",
    "\n",
    "embeddings['id'] = embeddings['id'].astype('int32')\n",
    "embeddings.sample()"
   ]
  },
  {
   "cell_type": "code",
   "execution_count": 200,
   "metadata": {},
   "outputs": [
    {
     "name": "stdout",
     "output_type": "stream",
     "text": [
      "Media global:  -4.803197298218468e-18\n",
      "Desvio padrao global:  1.0000000000000002\n",
      "\n",
      "Verificar se a média e o desvio padrão estão próximos dos valores 0 e 1, respetivamente.\n",
      "\tMédia: True\n",
      "\tDesvio Padrão: True\n"
     ]
    }
   ],
   "source": [
    "\n",
    "pre_processed_data = preprocessing.scale(train_dataset)\n",
    "\n",
    "print(\"Media global: \", pre_processed_data.mean())\n",
    "print(\"Desvio padrao global: \", pre_processed_data.std())\n",
    "print(\"\\nVerificar se a média e o desvio padrão estão próximos dos valores 0 e 1, respetivamente.\")\n",
    "print(\"\\tMédia:\", ((pre_processed_data.mean(axis=0) < 0.000001) & (pre_processed_data.mean(axis=0) > -0.000001)).all())\n",
    "print(\"\\tDesvio Padrão:\", ((pre_processed_data.std(axis=0) < 1.000001) & (pre_processed_data.std(axis=0) > 0.999999)).all())"
   ]
  },
  {
   "cell_type": "code",
   "execution_count": 201,
   "metadata": {},
   "outputs": [
    {
     "name": "stdout",
     "output_type": "stream",
     "text": [
      "Numero de exemplos para teste:  14347\n"
     ]
    }
   ],
   "source": [
    "num_test = int(pre_processed_data.shape[0] * 0.5)\n",
    "\n",
    "print(\"Numero de exemplos para teste: \", num_test)\n",
    "\n",
    "indices = np.random.permutation(len(train_dataset))\n",
    "\n",
    "# Get the Input data pre-processed according with the indexes\n",
    "train_input = pre_processed_data[indices[1:-num_test]]\n",
    "test_input = pre_processed_data[indices[-num_test:]]\n",
    "\n",
    "# Get the output data according with the indexes\n",
    "train_output = train_y[indices[1:-num_test]]\n",
    "test_output = train_y[indices[-num_test:]]"
   ]
  },
  {
   "attachments": {},
   "cell_type": "markdown",
   "metadata": {},
   "source": [
    "# Unsupervised machine learning"
   ]
  },
  {
   "attachments": {},
   "cell_type": "markdown",
   "metadata": {},
   "source": [
    "# PCA"
   ]
  },
  {
   "attachments": {},
   "cell_type": "markdown",
   "metadata": {},
   "source": []
  },
  {
   "cell_type": "code",
   "execution_count": null,
   "metadata": {},
   "outputs": [],
   "source": []
  },
  {
   "cell_type": "code",
   "execution_count": 279,
   "metadata": {},
   "outputs": [
    {
     "name": "stdout",
     "output_type": "stream",
     "text": [
      "[0.03420232 0.02436656 0.02147971 0.01816462 0.01661    0.0146259\n",
      " 0.01373552 0.0131678  0.01197574 0.01111917 0.01088909 0.01044854\n",
      " 0.0096601  0.0089777  0.00861417]\n"
     ]
    },
    {
     "data": {
      "image/png": "[encoded data removed]",
      "text/plain": [
       "<Figure size 432x288 with 1 Axes>"
      ]
     },
     "metadata": {
      "needs_background": "light"
     },
     "output_type": "display_data"
    }
   ],
   "source": [
    "n=15\n",
    "\n",
    "pca_train= PCA(n_components=n)\n",
    "pca_train.fit_transform(train_input)\n",
    "\n",
    "print(pca_train.explained_variance_ratio_)\n",
    "\n",
    "plt.bar(range(n), pca_train.explained_variance_ratio_*100)\n",
    "plt.xticks(range(n), ['PC'+str(i) for i in range(1,n+1)])\n",
    "plt.title(\"Variância explicada por PC\")\n",
    "plt.ylabel(\"Percentagem\")\n",
    "plt.show()\n"
   ]
  },
  {
   "cell_type": "code",
   "execution_count": 277,
   "metadata": {},
   "outputs": [
    {
     "name": "stdout",
     "output_type": "stream",
     "text": [
      "0.22802894680734412\n",
      "91.65658883183829\n"
     ]
    },
    {
     "data": {
      "text/plain": [
       "<matplotlib.legend.Legend at 0x19c84c2abb0>"
      ]
     },
     "execution_count": 277,
     "metadata": {},
     "output_type": "execute_result"
    },
    {
     "data": {
      "image/png": "[encoded data removed]",
      "text/plain": [
       "<Figure size 720x360 with 2 Axes>"
      ]
     },
     "metadata": {
      "needs_background": "light"
     },
     "output_type": "display_data"
    }
   ],
   "source": [
    "n=15\n",
    "pca = PCA(n_components=n)\n",
    "\n",
    "X = pca.fit_transform(train_input)\n",
    "print(np.sum(pca.explained_variance_ratio_))\n",
    "print(np.sum(pca.explained_variance_))\n",
    "df_pca = pd.DataFrame(data=X)\n",
    "\n",
    "features = range(pca.n_components_)\n",
    "# кумулятивная сумма союственных векторов, поможет визуализировать объясняемую компонентами дисперсию\n",
    "exp_var_pca = pca.explained_variance_ratio_\n",
    "cumsum = np.cumsum(exp_var_pca)   \n",
    "explained_variance = pca.explained_variance_\n",
    "\n",
    "f, ax = plt.subplots(1, 2, figsize=(10, 5))\n",
    "ax[0].bar(features, pca.explained_variance_ratio_)\n",
    "ax[0].set_xlabel('PCA components')\n",
    "ax[0].set_ylabel('% variance explained')\n",
    "ax[0].set_xticks(features)\n",
    "ax[0].axvline(x=1.5, c='r')\n",
    "\n",
    "ax[1].bar(range(0,len(exp_var_pca)), exp_var_pca, alpha=0.5, align='center', label='Individual variance explained')\n",
    "ax[1].step(range(0,len(cumsum)), cumsum, where='mid',label='Cumsum variance')\n",
    "ax[1].set_ylabel('Variance explained')\n",
    "ax[1].set_xlabel('Component index')\n",
    "ax[1].legend(loc='best')"
   ]
  },
  {
   "attachments": {},
   "cell_type": "markdown",
   "metadata": {},
   "source": [
    "### K-Means"
   ]
  },
  {
   "attachments": {},
   "cell_type": "markdown",
   "metadata": {},
   "source": [
    "K-Means is a unsupervised machine learning algorithm used to group data into clusters based on similarities.\n",
    "The goal of K-means is to partition a dataset into a specified number of clusters (k) in a way that minimizes the within-cluster sum of squares. Here we present the following steps to run this algotithm:\n",
    "\n",
    "1. Randomly selecting k initial centroids (points in the dataset that represent the center of the clusters)\n",
    "2. Data point assigned to the cluster corresponding to the nearest centroid\n",
    "3. The centroids are then updated to be the mean of the points in their respective clusters\n",
    "\n",
    "This process is repeated until the centroids no longer change, or a maximum number of iterations is reached (In this case we set a maximum number of iterations)"
   ]
  },
  {
   "cell_type": "code",
   "execution_count": 203,
   "metadata": {},
   "outputs": [],
   "source": [
    "ph_array=train_input[:, 0]\n",
    "train_input= train_input[:, 1:]\n",
    "test_input= test_input[:, 1:]"
   ]
  },
  {
   "cell_type": "code",
   "execution_count": 222,
   "metadata": {},
   "outputs": [
    {
     "data": {
      "text/plain": [
       "404"
      ]
     },
     "execution_count": 222,
     "metadata": {},
     "output_type": "execute_result"
    }
   ],
   "source": [
    "len(train_input[0])\n"
   ]
  },
  {
   "cell_type": "code",
   "execution_count": 223,
   "metadata": {},
   "outputs": [
    {
     "data": {
      "text/plain": [
       "404"
      ]
     },
     "execution_count": 223,
     "metadata": {},
     "output_type": "execute_result"
    }
   ],
   "source": [
    "len(test_input[0])"
   ]
  },
  {
   "cell_type": "code",
   "execution_count": 242,
   "metadata": {},
   "outputs": [
    {
     "data": {
      "image/png": "[encoded data removed]",
      "text/plain": [
       "<Figure size 432x288 with 1 Axes>"
      ]
     },
     "metadata": {
      "needs_background": "light"
     },
     "output_type": "display_data"
    }
   ],
   "source": [
    "k=list(range(2,15))\n",
    "ssd=[]\n",
    "for i in k:\n",
    "    kmeans=KMeans(n_clusters=i).fit(train_input)\n",
    "    ssd.append(kmeans.inertia_)\n",
    "    \n",
    "plt.plot(k, ssd, 'o-')\n",
    "plt.xlabel('k-nearest neighbors')\n",
    "#plt.ylabel('Sum of squared error')\n",
    "ii=kmeans.inertia_\n",
    "plt.title('Inertia:{}'.format(ii))\n",
    "plt.show()"
   ]
  },
  {
   "cell_type": "code",
   "execution_count": 238,
   "metadata": {},
   "outputs": [
    {
     "data": {
      "text/plain": [
       "5040241.403022012"
      ]
     },
     "execution_count": 238,
     "metadata": {},
     "output_type": "execute_result"
    }
   ],
   "source": [
    "kmeans_train= KMeans(n_clusters=k,max_iter=1000).fit(train_input)\n",
    "kmeans_result=kmeans_train.predict(test_input)\n",
    "inertia=kmeans_train.inertia_"
   ]
  },
  {
   "cell_type": "code",
   "execution_count": 232,
   "metadata": {},
   "outputs": [],
   "source": [
    "centroids= kmeans_train.cluster_centers_\n",
    "labels= kmeans_train.labels_"
   ]
  },
  {
   "cell_type": "code",
   "execution_count": 225,
   "metadata": {},
   "outputs": [
    {
     "name": "stdout",
     "output_type": "stream",
     "text": [
      "14347\n",
      "14347\n"
     ]
    }
   ],
   "source": [
    "print(len(ph_array))\n",
    "print(len(train_input))"
   ]
  },
  {
   "cell_type": "code",
   "execution_count": 227,
   "metadata": {},
   "outputs": [
    {
     "data": {
      "text/plain": [
       "<matplotlib.collections.PathCollection at 0x19c84c02760>"
      ]
     },
     "execution_count": 227,
     "metadata": {},
     "output_type": "execute_result"
    },
    {
     "data": {
      "image/png": "[encoded data removed]",
      "text/plain": [
       "<Figure size 432x288 with 1 Axes>"
      ]
     },
     "metadata": {
      "needs_background": "light"
     },
     "output_type": "display_data"
    }
   ],
   "source": [
    "plt.scatter(ph_array, kmeans_result, c=kmeans_result, cmap='plasma')\n"
   ]
  },
  {
   "cell_type": "code",
   "execution_count": 235,
   "metadata": {},
   "outputs": [
    {
     "data": {
      "image/png": "[encoded data removed]",
      "text/plain": [
       "<Figure size 432x288 with 1 Axes>"
      ]
     },
     "metadata": {
      "needs_background": "light"
     },
     "output_type": "display_data"
    }
   ],
   "source": [
    "for i in range(k):\n",
    "    # select only data observations with cluster label == i\n",
    "    ds = train_input[np.where(labels==i)]\n",
    "    # plot the data observations (only 2 first colums)\n",
    "    plt.plot(ds[:,0],ds[:,1],'o')\n",
    "    # plot the centroids\n",
    "    lines = plt.plot(centroids[i,0],centroids[i,1],'kx')\n",
    "    # make the centroid x's bigger\n",
    "    plt.setp(lines,ms=10.0)    # x size \n",
    "    plt.setp(lines,mew=2.0)    #grossura da linha\n",
    "plt.show()"
   ]
  },
  {
   "cell_type": "code",
   "execution_count": 110,
   "metadata": {},
   "outputs": [],
   "source": [
    "kmeans_test = kmeans_train.predict(test_input)"
   ]
  },
  {
   "cell_type": "code",
   "execution_count": 112,
   "metadata": {},
   "outputs": [
    {
     "data": {
      "text/html": [
       "<div>\n",
       "<style scoped>\n",
       "    .dataframe tbody tr th:only-of-type {\n",
       "        vertical-align: middle;\n",
       "    }\n",
       "\n",
       "    .dataframe tbody tr th {\n",
       "        vertical-align: top;\n",
       "    }\n",
       "\n",
       "    .dataframe thead th {\n",
       "        text-align: right;\n",
       "    }\n",
       "</style>\n",
       "<table border=\"1\" class=\"dataframe\">\n",
       "  <thead>\n",
       "    <tr style=\"text-align: right;\">\n",
       "      <th>col_0</th>\n",
       "      <th>0</th>\n",
       "      <th>1</th>\n",
       "      <th>2</th>\n",
       "    </tr>\n",
       "    <tr>\n",
       "      <th>row_0</th>\n",
       "      <th></th>\n",
       "      <th></th>\n",
       "      <th></th>\n",
       "    </tr>\n",
       "  </thead>\n",
       "  <tbody>\n",
       "    <tr>\n",
       "      <th>0</th>\n",
       "      <td>1427</td>\n",
       "      <td>99</td>\n",
       "      <td>2926</td>\n",
       "    </tr>\n",
       "    <tr>\n",
       "      <th>1</th>\n",
       "      <td>137</td>\n",
       "      <td>8</td>\n",
       "      <td>212</td>\n",
       "    </tr>\n",
       "    <tr>\n",
       "      <th>2</th>\n",
       "      <td>2967</td>\n",
       "      <td>244</td>\n",
       "      <td>6327</td>\n",
       "    </tr>\n",
       "  </tbody>\n",
       "</table>\n",
       "</div>"
      ],
      "text/plain": [
       "col_0     0    1     2\n",
       "row_0                 \n",
       "0      1427   99  2926\n",
       "1       137    8   212\n",
       "2      2967  244  6327"
      ]
     },
     "execution_count": 112,
     "metadata": {},
     "output_type": "execute_result"
    }
   ],
   "source": [
    "pd.crosstab(labels, kmeans_test)"
   ]
  },
  {
   "cell_type": "markdown",
   "metadata": {},
   "source": []
  },
  {
   "attachments": {},
   "cell_type": "markdown",
   "metadata": {},
   "source": [
    "# t-SNE"
   ]
  },
  {
   "cell_type": "code",
   "execution_count": 138,
   "metadata": {},
   "outputs": [],
   "source": [
    "from sklearn.manifold import TSNE"
   ]
  },
  {
   "cell_type": "code",
   "execution_count": 139,
   "metadata": {},
   "outputs": [
    {
     "name": "stderr",
     "output_type": "stream",
     "text": [
      "c:\\ProgramData\\Anaconda3\\lib\\site-packages\\sklearn\\manifold\\_t_sne.py:800: FutureWarning: The default initialization in TSNE will change from 'random' to 'pca' in 1.2.\n",
      "  warnings.warn(\n",
      "c:\\ProgramData\\Anaconda3\\lib\\site-packages\\sklearn\\manifold\\_t_sne.py:810: FutureWarning: The default learning rate in TSNE will change from 200.0 to 'auto' in 1.2.\n",
      "  warnings.warn(\n"
     ]
    }
   ],
   "source": [
    "tsne = TSNE(n_components=2, n_iter=1000,perplexity=40)\n",
    "points = tsne.fit_transform(train_input)"
   ]
  },
  {
   "cell_type": "code",
   "execution_count": 140,
   "metadata": {},
   "outputs": [
    {
     "data": {
      "text/plain": [
       "<matplotlib.collections.PathCollection at 0x19cc5f46e20>"
      ]
     },
     "execution_count": 140,
     "metadata": {},
     "output_type": "execute_result"
    },
    {
     "data": {
      "image/png": "[encoded data removed]",
      "text/plain": [
       "<Figure size 432x288 with 1 Axes>"
      ]
     },
     "metadata": {
      "needs_background": "light"
     },
     "output_type": "display_data"
    }
   ],
   "source": [
    "plt.scatter(points[:,0],points[:,1])"
   ]
  },
  {
   "cell_type": "code",
   "execution_count": 281,
   "metadata": {},
   "outputs": [
    {
     "data": {
      "image/png": "[encoded data removed]",
      "text/plain": [
       "<Figure size 720x720 with 1 Axes>"
      ]
     },
     "metadata": {
      "needs_background": "light"
     },
     "output_type": "display_data"
    },
    {
     "data": {
      "text/plain": [
       "<Figure size 432x288 with 0 Axes>"
      ]
     },
     "metadata": {},
     "output_type": "display_data"
    }
   ],
   "source": [
    "plt.figure(figsize=(10,10))\n",
    "plt.plot(points[:,0], points[:,1], 'r.')\n",
    "plt.title('TSNE Transformation')\n",
    "plt.show()\n",
    "plt.savefig('creature.png') "
   ]
  }
 ],
 "metadata": {
  "kernelspec": {
   "display_name": "Python 3.9.7 ('base')",
   "language": "python",
   "name": "python3"
  },
  "language_info": {
   "codemirror_mode": {
    "name": "ipython",
    "version": 3
   },
   "file_extension": ".py",
   "mimetype": "text/x-python",
   "name": "python",
   "nbconvert_exporter": "python",
   "pygments_lexer": "ipython3",
   "version": "3.9.7"
  },
  "orig_nbformat": 4,
  "vscode": {
   "interpreter": {
    "hash": "ad2bdc8ecc057115af97d19610ffacc2b4e99fae6737bb82f5d7fb13d2f2c186"
   }
  }
 },
 "nbformat": 4,
 "nbformat_minor": 2
}
