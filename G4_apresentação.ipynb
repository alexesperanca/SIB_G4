{
  "cells": [
    {
      "cell_type": "markdown",
      "metadata": {
        "id": "eTgqtU5dN0Sq"
      },
      "source": [
        "# Data Analysis using Machine Learning\n",
        "\n",
        "This project consists in the analysis of dataset, through the use of machine learning algorithms, using Python as a programming language. This Jupyter Notebook is organized into sections, which include the steps of the analysis performed and explain very succinctly the procedures performed and decisions taken during the analysis."
      ]
    },
    {
      "cell_type": "markdown",
      "metadata": {
        "id": "T7Z9vetbN0Sq"
      },
      "source": [
        "## Table of contents\n",
        "\n",
        "1. [Introduction](#chapter1)\n",
        "    1. [About Us](#section1_1)\n",
        "    2. [Data Selection and Context of this Project](#section1_2)\n",
        "    3. [Credits](#section1_3)\n",
        "2. [Initial Data Exploration and Preprocessing](#chapter2)\n",
        "    1. [Importing Packages](#section2_1)\n",
        "    2. [Importing datasets](#section2_2)\n",
        "    3. [Exploring the data](#section2_3)\n",
        "    4. [Protein Descriptors](#section2_4)\n",
        "    5. [Preprocessing](#section2_5)\n",
        "3. [Non-Supervised Analysis](#chapter3)\n",
        "    1. [PCA](#section3_1)\n",
        "    2. [Kmeans](#section3_2)\n",
        "    3. [tSNE](#section3_3)\n",
        "4. [Machine Learning](#chapter4)\n",
        "    1. [Regression Analysis](#section4_1)\n",
        "    2. [Binary Analysis](#section4_2)\n",
        "5. [Deep Learning ](#chapter5)\n",
        "6. [Conclusions](#chapter6)"
      ]
    },
    {
      "cell_type": "markdown",
      "metadata": {
        "id": "tujikqaNN0Sr"
      },
      "source": [
        "<a class=\"anchor\" id=\"chapter1\"></a>\n",
        "\n",
        "## 1. Introduction"
      ]
    },
    {
      "cell_type": "markdown",
      "metadata": {
        "id": "_WkUPsS3N0Ss"
      },
      "source": [
        "<a class=\"anchor\" id=\"section1_1\"></a>\n",
        "\n",
        "### 1.1 About Us"
      ]
    },
    {
      "cell_type": "markdown",
      "metadata": {
        "id": "DHAq9nAqN0Ss"
      },
      "source": [
        "This project is part of the subject `Sistemas Inteligentes para a Bioinformática` in the Master in Bioinformatics (University of Minho - 2022/2023).\n",
        "\n",
        "This project was developed by the following elements:\n",
        "- Alexandre Miguel Magalhães Esperança - pg45963\n",
        "- André Filipe Pereira da Silva - pg45462\n",
        "- Mónica Rafaela Machado Leiras - pg45473"
      ]
    },
    {
      "cell_type": "markdown",
      "metadata": {
        "id": "AfeMPvrkN0St"
      },
      "source": [
        "<a class=\"anchor\" id=\"section1_2\"></a>\n",
        "\n",
        "### 1.2 Data Selection and Context of this Project"
      ]
    },
    {
      "cell_type": "markdown",
      "metadata": {
        "id": "dmnlLK11N0Su"
      },
      "source": [
        "For the execution of this project, the dataset of the \"Novozymes Enzyme Stability Prediction\" Competition on the Kaggle platform was selected. You can view the [Competition and Corresponding Data here](https://www.kaggle.com/competitions/novozymes-enzyme-stability-prediction/data).\n",
        "\n",
        "The main goal of this competition is to predict the thermostability of enzyme variants. The experimentally measured thermostability (melting temperature) data includes natural sequences, as well as engineered sequences with single or multiple mutations upon the natural sequences.\n",
        "\n",
        "The test dataset contains experimental melting temperatures of over 2,413 single mutation variants of an enzyme (GenBank: KOC15878.1), obtained by Novozymes A/S. The wild-type amino acid sequence is:\n",
        "\n",
        "    VPVNPEPDATSVENVALKTGSGDSQSDPIKADLEVKGQSALPFDVDCWAILCKGAPNVLQRVNEKTKNSNRDRSGANKGPFKDPQKWGIKALPPKNPSWSAQDFKSPEEYAFASSLQGGTNAILAPVNLASQNSQGGVLNGFYSANKVAQFDPSKPQQTKGTWFQITKFTGAAGPYCKALGSNDKSVCDKNKNIAGDWGFDPAKWAYQYDEKNNKFNYVGK"
      ]
    },
    {
      "cell_type": "markdown",
      "metadata": {
        "id": "J4XYXBN4N0Sv"
      },
      "source": [
        "For this competition several files were given for the development of this work:\n",
        "\n",
        "- `train.csv` - the training data, with columns as follows:\n",
        "  - `seq_id`: unique identifier of each protein variants\n",
        "  - `protein_sequence`: amino acid sequence of each protein variant. The stability (as measured by tm) of protein is determined by its protein sequence.\n",
        "  - `pH`: the scale used to specify the acidity of an aqueous solution under which the stability of protein was measured. Stability of the same protein can change at different pH levels.\n",
        "  - `data_source`: source where the data was published\n",
        "  - `tm`: target column. Since only the spearman correlation will be used for the evaluation, the correct prediction of the relative order is more important than the absolute tm values. (Higher tm means the protein variant is more stable.)\n",
        "- `train_updates_20220929.csv` - correction file for train dataset, where some rows have the values ​​of `pH` and `tm` switched, in addition to identifying lines with NaN values. For more details, you can check the [original explanation here](https://www.kaggle.com/competitions/novozymes-enzyme-stability-prediction/discussion/356251)\n",
        "\n",
        "- `test.csv` - the test data; your task is to predict the target tm for each protein_sequence (indicated by a unique seq_id)\n",
        "\n",
        "- `sample_submission.csv` - a sample submission file in the correct format, with seq_id values corresponding to test.csv\n",
        "\n",
        "- `wildtype_structure_prediction_af2.pdb` - the 3 dimensional structure of the enzyme listed above, as predicted by AlphaFold\n"
      ]
    },
    {
      "cell_type": "markdown",
      "metadata": {
        "id": "qpwmzkjmN0Sw"
      },
      "source": [
        "<a class=\"anchor\" id=\"section1_3\"></a>\n",
        "\n",
        "### 1.3 Credits"
      ]
    },
    {
      "cell_type": "markdown",
      "metadata": {
        "id": "NXSWEFwbLBep"
      },
      "source": [
        "To execute this project, we found some useful code and/or ideas on the forum of the competition. So, we would like to credit the following people with the corresponding notebooks:\n",
        "\n",
        "[Luca Olga Sharp](https://www.kaggle.com/code/olgashevtsova/enzimes-stability-search-for-the-best-model)\n",
        "\n",
        "[Alexander Chervov](https://www.kaggle.com/code/alexandervc/novozymes-eda1-ordinalencvisualizationscorrrelat)\n",
        "\n",
        "[Chris Deotte](https://www.kaggle.com/code/cdeotte/train-data-contains-mutations-like-test-data)"
      ]
    },
    {
      "cell_type": "markdown",
      "metadata": {
        "id": "vsPWJG2lN0Sx"
      },
      "source": [
        "<a class=\"anchor\" id=\"chapter2\"></a>\n",
        "\n",
        "## 2. Initial Data Exploration and Preprocessing"
      ]
    },
    {
      "cell_type": "markdown",
      "metadata": {
        "id": "PFoDJqdFN0Sx"
      },
      "source": [
        "This step corresponds to the following objectives:\n",
        "- description and characterization of the assigned data according to the existing documentation/literature;\n",
        "- brief description of the characteristics of the data available from the initial exploratory analysis;\n",
        "- description of data preparation and pre-processing steps;\n",
        "- initial exploratory graphs that illustrate the main characteristics of the data."
      ]
    },
    {
      "attachments": {},
      "cell_type": "markdown",
      "metadata": {
        "id": "edizHRV4N0Sy"
      },
      "source": [
        "<a class=\"anchor\" id=\"section2_1\"></a>\n",
        "\n",
        "### 2.1 Importing Required Packages\n"
      ]
    },
    {
      "cell_type": "code",
      "execution_count": 5,
      "metadata": {
        "colab": {
          "base_uri": "https://localhost:8080/"
        },
        "id": "TS_6vDNQN0Sy",
        "outputId": "f30cb73f-703e-4cd7-c211-d01efa5c05e3"
      },
      "outputs": [
        {
          "name": "stdout",
          "output_type": "stream",
          "text": [
            "Looking in indexes: https://pypi.org/simple, https://us-python.pkg.dev/colab-wheels/public/simple/\n",
            "Collecting sgt\n",
            "  Downloading sgt-2.0.3-py3-none-any.whl (27 kB)\n",
            "Installing collected packages: sgt\n",
            "Successfully installed sgt-2.0.3\n"
          ]
        }
      ],
      "source": [
        "pip install sgt"
      ]
    },
    {
      "cell_type": "code",
      "execution_count": 6,
      "metadata": {
        "colab": {
          "base_uri": "https://localhost:8080/"
        },
        "id": "X4z92IObOLs8",
        "outputId": "29f38c68-f6c5-45e6-97e1-6fd37f7cb089"
      },
      "outputs": [
        {
          "name": "stdout",
          "output_type": "stream",
          "text": [
            "Looking in indexes: https://pypi.org/simple, https://us-python.pkg.dev/colab-wheels/public/simple/\n",
            "Collecting propy3\n",
            "  Downloading propy3-1.1.1-py3-none-any.whl (290 kB)\n",
            "\u001b[2K     \u001b[90m━━━━━━━━━━━━━━━━━━━━━━━━━━━━━━━━━━━━━━\u001b[0m \u001b[32m290.3/290.3 KB\u001b[0m \u001b[31m20.0 MB/s\u001b[0m eta \u001b[36m0:00:00\u001b[0m\n",
            "\u001b[?25hInstalling collected packages: propy3\n",
            "Successfully installed propy3-1.1.1\n"
          ]
        }
      ],
      "source": [
        "pip install propy3"
      ]
    },
    {
      "cell_type": "code",
      "execution_count": 7,
      "metadata": {
        "colab": {
          "base_uri": "https://localhost:8080/"
        },
        "id": "hN2Et4LAS-mx",
        "outputId": "71fc43fa-65d2-41c2-b51c-d2354ddcb808"
      },
      "outputs": [
        {
          "name": "stdout",
          "output_type": "stream",
          "text": [
            "Looking in indexes: https://pypi.org/simple, https://us-python.pkg.dev/colab-wheels/public/simple/\n",
            "Collecting biopython\n",
            "  Downloading biopython-1.80-cp38-cp38-manylinux_2_17_x86_64.manylinux2014_x86_64.whl (3.1 MB)\n",
            "\u001b[2K     \u001b[90m━━━━━━━━━━━━━━━━━━━━━━━━━━━━━━━━━━━━━━━━\u001b[0m \u001b[32m3.1/3.1 MB\u001b[0m \u001b[31m53.3 MB/s\u001b[0m eta \u001b[36m0:00:00\u001b[0m\n",
            "\u001b[?25hRequirement already satisfied: numpy in /usr/local/lib/python3.8/dist-packages (from biopython) (1.21.6)\n",
            "Installing collected packages: biopython\n",
            "Successfully installed biopython-1.80\n"
          ]
        }
      ],
      "source": [
        "pip install biopython"
      ]
    },
    {
      "cell_type": "code",
      "execution_count": 8,
      "metadata": {
        "colab": {
          "base_uri": "https://localhost:8080/"
        },
        "id": "BhcSRdEVPMZG",
        "outputId": "d7161fea-1889-4e44-ee23-1e5217d0acd2"
      },
      "outputs": [
        {
          "name": "stdout",
          "output_type": "stream",
          "text": [
            "Looking in indexes: https://pypi.org/simple, https://us-python.pkg.dev/colab-wheels/public/simple/\n",
            "Collecting pandarallel\n",
            "  Downloading pandarallel-1.6.4.tar.gz (12 kB)\n",
            "  Preparing metadata (setup.py) ... \u001b[?25l\u001b[?25hdone\n",
            "Requirement already satisfied: dill>=0.3.1 in /usr/local/lib/python3.8/dist-packages (from pandarallel) (0.3.6)\n",
            "Requirement already satisfied: pandas>=1 in /usr/local/lib/python3.8/dist-packages (from pandarallel) (1.3.5)\n",
            "Requirement already satisfied: psutil in /usr/local/lib/python3.8/dist-packages (from pandarallel) (5.4.8)\n",
            "Requirement already satisfied: pytz>=2017.3 in /usr/local/lib/python3.8/dist-packages (from pandas>=1->pandarallel) (2022.7)\n",
            "Requirement already satisfied: python-dateutil>=2.7.3 in /usr/local/lib/python3.8/dist-packages (from pandas>=1->pandarallel) (2.8.2)\n",
            "Requirement already satisfied: numpy>=1.17.3 in /usr/local/lib/python3.8/dist-packages (from pandas>=1->pandarallel) (1.21.6)\n",
            "Requirement already satisfied: six>=1.5 in /usr/local/lib/python3.8/dist-packages (from python-dateutil>=2.7.3->pandas>=1->pandarallel) (1.15.0)\n",
            "Building wheels for collected packages: pandarallel\n",
            "  Building wheel for pandarallel (setup.py) ... \u001b[?25l\u001b[?25hdone\n",
            "  Created wheel for pandarallel: filename=pandarallel-1.6.4-py3-none-any.whl size=16678 sha256=d064708b23f8498b2d7eac4af6e8ec463039dff2a8f99568ccb43a5abee5bb37\n",
            "  Stored in directory: /root/.cache/pip/wheels/62/1e/e7/f9ee096e5cc02890a6934a5670ff6e45a3400f330605bd8210\n",
            "Successfully built pandarallel\n",
            "Installing collected packages: pandarallel\n",
            "Successfully installed pandarallel-1.6.4\n"
          ]
        }
      ],
      "source": [
        "pip install pandarallel"
      ]
    },
    {
      "cell_type": "code",
      "execution_count": null,
      "metadata": {
        "id": "g-XVFd6CONTg"
      },
      "outputs": [],
      "source": [
        "# pip install nbconvert"
      ]
    },
    {
      "cell_type": "code",
      "execution_count": 1,
      "metadata": {
        "colab": {
          "base_uri": "https://localhost:8080/"
        },
        "id": "EFufWuVznS4d",
        "outputId": "890071f1-54c9-45fb-8703-c6b04c7ca2a5"
      },
      "outputs": [
        {
          "name": "stdout",
          "output_type": "stream",
          "text": [
            "Mounted at /content/drive\n"
          ]
        }
      ],
      "source": [
        "from google.colab import drive\n",
        "drive.mount('/content/drive')"
      ]
    },
    {
      "cell_type": "code",
      "execution_count": 2,
      "metadata": {
        "id": "EMXQwnH9NnkB"
      },
      "outputs": [],
      "source": [
        "import sys\n",
        "sys.path.insert(0,'/content/drive/My Drive/ColabNotebooks/SIB_G4')"
      ]
    },
    {
      "cell_type": "code",
      "execution_count": 3,
      "metadata": {
        "colab": {
          "base_uri": "https://localhost:8080/"
        },
        "id": "1DfxWdCIOhWS",
        "outputId": "542117a3-2fa5-4d52-dc16-e0154e126420"
      },
      "outputs": [
        {
          "name": "stdout",
          "output_type": "stream",
          "text": [
            "/content/drive/My Drive/Colab Notebooks/SIB_G4\n"
          ]
        }
      ],
      "source": [
        "%cd /content/drive/My Drive/Colab Notebooks/SIB_G4"
      ]
    },
    {
      "cell_type": "code",
      "execution_count": 74,
      "metadata": {
        "id": "ZOOEZTj9N0Sz"
      },
      "outputs": [],
      "source": [
        "#Imports\n",
        "\n",
        "import pandas as pd\n",
        "import numpy as np\n",
        "import matplotlib.pyplot as plt\n",
        "import matplotlib.cm as cm\n",
        "from matplotlib.colors import Normalize\n",
        "import propy\n",
        "from propy import *\n",
        "from sklearn.decomposition import PCA\n",
        "from sklearn.cluster import KMeans\n",
        "from sklearn.preprocessing import StandardScaler\n",
        "from sklearn.preprocessing import scale\n",
        "from sklearn import preprocessing \n",
        "from sklearn.linear_model import LogisticRegression\n",
        "from sklearn.model_selection import train_test_split\n",
        "from sklearn.metrics import accuracy_score\n",
        "from sklearn.model_selection import RandomizedSearchCV\n",
        "from sklearn.metrics import mean_squared_error, r2_score\n",
        "from sklearn.manifold import TSNE\n",
        "from sgt import SGT\n",
        "from keras import metrics\n",
        "from keras.models import Sequential\n",
        "from keras.wrappers.scikit_learn import KerasRegressor\n",
        "from keras.layers import Input, Dense, Embedding, Dropout, Conv1D, MaxPooling1D, Flatten, LSTM, concatenate, BatchNormalization\n",
        "from keras.optimizers import Adam\n",
        "from keras.callbacks import EarlyStopping\n",
        "from copy import deepcopy\n",
        "from file_func import *\n",
        "from models import SupervisedModelOptimization"
      ]
    },
    {
      "cell_type": "markdown",
      "metadata": {
        "id": "oaTioWjkN0S0",
        "tags": [
          "parameters"
        ]
      },
      "source": [
        "<a class=\"anchor\" id=\"section2_2\"></a>\n",
        "\n",
        "### 2.2 Importing datasets"
      ]
    },
    {
      "cell_type": "code",
      "execution_count": 10,
      "metadata": {
        "id": "KOujPHZrN0S1"
      },
      "outputs": [],
      "source": [
        "#Train dataframe\n",
        "train = pd.read_csv(\"train.csv\",index_col=\"seq_id\")\n",
        "#Validation dataframe (test dataset for the competition scoring)\n",
        "validation = pd.read_csv(\"test.csv\",index_col=\"seq_id\")"
      ]
    },
    {
      "cell_type": "code",
      "execution_count": 11,
      "metadata": {
        "colab": {
          "base_uri": "https://localhost:8080/",
          "height": 237
        },
        "id": "sy9EeNcvN0S2",
        "outputId": "8e634d3b-5e03-460e-af42-7ab40530b5f1"
      },
      "outputs": [
        {
          "data": {
            "text/html": [
              "\n",
              "  <div id=\"df-1fe28544-5719-4318-8174-1e9082be6b66\">\n",
              "    <div class=\"colab-df-container\">\n",
              "      <div>\n",
              "<style scoped>\n",
              "    .dataframe tbody tr th:only-of-type {\n",
              "        vertical-align: middle;\n",
              "    }\n",
              "\n",
              "    .dataframe tbody tr th {\n",
              "        vertical-align: top;\n",
              "    }\n",
              "\n",
              "    .dataframe thead th {\n",
              "        text-align: right;\n",
              "    }\n",
              "</style>\n",
              "<table border=\"1\" class=\"dataframe\">\n",
              "  <thead>\n",
              "    <tr style=\"text-align: right;\">\n",
              "      <th></th>\n",
              "      <th>protein_sequence</th>\n",
              "      <th>pH</th>\n",
              "      <th>data_source</th>\n",
              "      <th>tm</th>\n",
              "    </tr>\n",
              "    <tr>\n",
              "      <th>seq_id</th>\n",
              "      <th></th>\n",
              "      <th></th>\n",
              "      <th></th>\n",
              "      <th></th>\n",
              "    </tr>\n",
              "  </thead>\n",
              "  <tbody>\n",
              "    <tr>\n",
              "      <th>0</th>\n",
              "      <td>AAAAKAAALALLGEAPEVVDIWLPAGWRQPFRVFRLERKGDGVLVG...</td>\n",
              "      <td>7.0</td>\n",
              "      <td>doi.org/10.1038/s41592-020-0801-4</td>\n",
              "      <td>75.7</td>\n",
              "    </tr>\n",
              "    <tr>\n",
              "      <th>1</th>\n",
              "      <td>AAADGEPLHNEEERAGAGQVGRSLPQESEEQRTGSRPRRRRDLGSR...</td>\n",
              "      <td>7.0</td>\n",
              "      <td>doi.org/10.1038/s41592-020-0801-4</td>\n",
              "      <td>50.5</td>\n",
              "    </tr>\n",
              "    <tr>\n",
              "      <th>2</th>\n",
              "      <td>AAAFSTPRATSYRILSSAGSGSTRADAPQVRRLHTTRDLLAKDYYA...</td>\n",
              "      <td>7.0</td>\n",
              "      <td>doi.org/10.1038/s41592-020-0801-4</td>\n",
              "      <td>40.5</td>\n",
              "    </tr>\n",
              "    <tr>\n",
              "      <th>3</th>\n",
              "      <td>AAASGLRTAIPAQPLRHLLQPAPRPCLRPFGLLSVRAGSARRSGLL...</td>\n",
              "      <td>7.0</td>\n",
              "      <td>doi.org/10.1038/s41592-020-0801-4</td>\n",
              "      <td>47.2</td>\n",
              "    </tr>\n",
              "    <tr>\n",
              "      <th>4</th>\n",
              "      <td>AAATKSGPRRQSQGASVRTFTPFYFLVEPVDTLSVRGSSVILNCSA...</td>\n",
              "      <td>7.0</td>\n",
              "      <td>doi.org/10.1038/s41592-020-0801-4</td>\n",
              "      <td>49.5</td>\n",
              "    </tr>\n",
              "  </tbody>\n",
              "</table>\n",
              "</div>\n",
              "      <button class=\"colab-df-convert\" onclick=\"convertToInteractive('df-1fe28544-5719-4318-8174-1e9082be6b66')\"\n",
              "              title=\"Convert this dataframe to an interactive table.\"\n",
              "              style=\"display:none;\">\n",
              "        \n",
              "  <svg xmlns=\"http://www.w3.org/2000/svg\" height=\"24px\"viewBox=\"0 0 24 24\"\n",
              "       width=\"24px\">\n",
              "    <path d=\"M0 0h24v24H0V0z\" fill=\"none\"/>\n",
              "    <path d=\"M18.56 5.44l.94 2.06.94-2.06 2.06-.94-2.06-.94-.94-2.06-.94 2.06-2.06.94zm-11 1L8.5 8.5l.94-2.06 2.06-.94-2.06-.94L8.5 2.5l-.94 2.06-2.06.94zm10 10l.94 2.06.94-2.06 2.06-.94-2.06-.94-.94-2.06-.94 2.06-2.06.94z\"/><path d=\"M17.41 7.96l-1.37-1.37c-.4-.4-.92-.59-1.43-.59-.52 0-1.04.2-1.43.59L10.3 9.45l-7.72 7.72c-.78.78-.78 2.05 0 2.83L4 21.41c.39.39.9.59 1.41.59.51 0 1.02-.2 1.41-.59l7.78-7.78 2.81-2.81c.8-.78.8-2.07 0-2.86zM5.41 20L4 18.59l7.72-7.72 1.47 1.35L5.41 20z\"/>\n",
              "  </svg>\n",
              "      </button>\n",
              "      \n",
              "  <style>\n",
              "    .colab-df-container {\n",
              "      display:flex;\n",
              "      flex-wrap:wrap;\n",
              "      gap: 12px;\n",
              "    }\n",
              "\n",
              "    .colab-df-convert {\n",
              "      background-color: #E8F0FE;\n",
              "      border: none;\n",
              "      border-radius: 50%;\n",
              "      cursor: pointer;\n",
              "      display: none;\n",
              "      fill: #1967D2;\n",
              "      height: 32px;\n",
              "      padding: 0 0 0 0;\n",
              "      width: 32px;\n",
              "    }\n",
              "\n",
              "    .colab-df-convert:hover {\n",
              "      background-color: #E2EBFA;\n",
              "      box-shadow: 0px 1px 2px rgba(60, 64, 67, 0.3), 0px 1px 3px 1px rgba(60, 64, 67, 0.15);\n",
              "      fill: #174EA6;\n",
              "    }\n",
              "\n",
              "    [theme=dark] .colab-df-convert {\n",
              "      background-color: #3B4455;\n",
              "      fill: #D2E3FC;\n",
              "    }\n",
              "\n",
              "    [theme=dark] .colab-df-convert:hover {\n",
              "      background-color: #434B5C;\n",
              "      box-shadow: 0px 1px 3px 1px rgba(0, 0, 0, 0.15);\n",
              "      filter: drop-shadow(0px 1px 2px rgba(0, 0, 0, 0.3));\n",
              "      fill: #FFFFFF;\n",
              "    }\n",
              "  </style>\n",
              "\n",
              "      <script>\n",
              "        const buttonEl =\n",
              "          document.querySelector('#df-1fe28544-5719-4318-8174-1e9082be6b66 button.colab-df-convert');\n",
              "        buttonEl.style.display =\n",
              "          google.colab.kernel.accessAllowed ? 'block' : 'none';\n",
              "\n",
              "        async function convertToInteractive(key) {\n",
              "          const element = document.querySelector('#df-1fe28544-5719-4318-8174-1e9082be6b66');\n",
              "          const dataTable =\n",
              "            await google.colab.kernel.invokeFunction('convertToInteractive',\n",
              "                                                     [key], {});\n",
              "          if (!dataTable) return;\n",
              "\n",
              "          const docLinkHtml = 'Like what you see? Visit the ' +\n",
              "            '<a target=\"_blank\" href=https://colab.research.google.com/notebooks/data_table.ipynb>data table notebook</a>'\n",
              "            + ' to learn more about interactive tables.';\n",
              "          element.innerHTML = '';\n",
              "          dataTable['output_type'] = 'display_data';\n",
              "          await google.colab.output.renderOutput(dataTable, element);\n",
              "          const docLink = document.createElement('div');\n",
              "          docLink.innerHTML = docLinkHtml;\n",
              "          element.appendChild(docLink);\n",
              "        }\n",
              "      </script>\n",
              "    </div>\n",
              "  </div>\n",
              "  "
            ],
            "text/plain": [
              "                                         protein_sequence   pH  \\\n",
              "seq_id                                                           \n",
              "0       AAAAKAAALALLGEAPEVVDIWLPAGWRQPFRVFRLERKGDGVLVG...  7.0   \n",
              "1       AAADGEPLHNEEERAGAGQVGRSLPQESEEQRTGSRPRRRRDLGSR...  7.0   \n",
              "2       AAAFSTPRATSYRILSSAGSGSTRADAPQVRRLHTTRDLLAKDYYA...  7.0   \n",
              "3       AAASGLRTAIPAQPLRHLLQPAPRPCLRPFGLLSVRAGSARRSGLL...  7.0   \n",
              "4       AAATKSGPRRQSQGASVRTFTPFYFLVEPVDTLSVRGSSVILNCSA...  7.0   \n",
              "\n",
              "                              data_source    tm  \n",
              "seq_id                                           \n",
              "0       doi.org/10.1038/s41592-020-0801-4  75.7  \n",
              "1       doi.org/10.1038/s41592-020-0801-4  50.5  \n",
              "2       doi.org/10.1038/s41592-020-0801-4  40.5  \n",
              "3       doi.org/10.1038/s41592-020-0801-4  47.2  \n",
              "4       doi.org/10.1038/s41592-020-0801-4  49.5  "
            ]
          },
          "execution_count": 11,
          "metadata": {},
          "output_type": "execute_result"
        }
      ],
      "source": [
        "train.head()"
      ]
    },
    {
      "cell_type": "code",
      "execution_count": 12,
      "metadata": {
        "colab": {
          "base_uri": "https://localhost:8080/",
          "height": 237
        },
        "id": "6OhtOpyWN0S2",
        "outputId": "53b9afe4-860b-4fa3-f539-b573f3bc2728"
      },
      "outputs": [
        {
          "data": {
            "text/html": [
              "\n",
              "  <div id=\"df-362ffd6f-419b-477a-888c-2e838098ef9b\">\n",
              "    <div class=\"colab-df-container\">\n",
              "      <div>\n",
              "<style scoped>\n",
              "    .dataframe tbody tr th:only-of-type {\n",
              "        vertical-align: middle;\n",
              "    }\n",
              "\n",
              "    .dataframe tbody tr th {\n",
              "        vertical-align: top;\n",
              "    }\n",
              "\n",
              "    .dataframe thead th {\n",
              "        text-align: right;\n",
              "    }\n",
              "</style>\n",
              "<table border=\"1\" class=\"dataframe\">\n",
              "  <thead>\n",
              "    <tr style=\"text-align: right;\">\n",
              "      <th></th>\n",
              "      <th>protein_sequence</th>\n",
              "      <th>pH</th>\n",
              "      <th>data_source</th>\n",
              "    </tr>\n",
              "    <tr>\n",
              "      <th>seq_id</th>\n",
              "      <th></th>\n",
              "      <th></th>\n",
              "      <th></th>\n",
              "    </tr>\n",
              "  </thead>\n",
              "  <tbody>\n",
              "    <tr>\n",
              "      <th>31390</th>\n",
              "      <td>VPVNPEPDATSVENVAEKTGSGDSQSDPIKADLEVKGQSALPFDVD...</td>\n",
              "      <td>8</td>\n",
              "      <td>Novozymes</td>\n",
              "    </tr>\n",
              "    <tr>\n",
              "      <th>31391</th>\n",
              "      <td>VPVNPEPDATSVENVAKKTGSGDSQSDPIKADLEVKGQSALPFDVD...</td>\n",
              "      <td>8</td>\n",
              "      <td>Novozymes</td>\n",
              "    </tr>\n",
              "    <tr>\n",
              "      <th>31392</th>\n",
              "      <td>VPVNPEPDATSVENVAKTGSGDSQSDPIKADLEVKGQSALPFDVDC...</td>\n",
              "      <td>8</td>\n",
              "      <td>Novozymes</td>\n",
              "    </tr>\n",
              "    <tr>\n",
              "      <th>31393</th>\n",
              "      <td>VPVNPEPDATSVENVALCTGSGDSQSDPIKADLEVKGQSALPFDVD...</td>\n",
              "      <td>8</td>\n",
              "      <td>Novozymes</td>\n",
              "    </tr>\n",
              "    <tr>\n",
              "      <th>31394</th>\n",
              "      <td>VPVNPEPDATSVENVALFTGSGDSQSDPIKADLEVKGQSALPFDVD...</td>\n",
              "      <td>8</td>\n",
              "      <td>Novozymes</td>\n",
              "    </tr>\n",
              "  </tbody>\n",
              "</table>\n",
              "</div>\n",
              "      <button class=\"colab-df-convert\" onclick=\"convertToInteractive('df-362ffd6f-419b-477a-888c-2e838098ef9b')\"\n",
              "              title=\"Convert this dataframe to an interactive table.\"\n",
              "              style=\"display:none;\">\n",
              "        \n",
              "  <svg xmlns=\"http://www.w3.org/2000/svg\" height=\"24px\"viewBox=\"0 0 24 24\"\n",
              "       width=\"24px\">\n",
              "    <path d=\"M0 0h24v24H0V0z\" fill=\"none\"/>\n",
              "    <path d=\"M18.56 5.44l.94 2.06.94-2.06 2.06-.94-2.06-.94-.94-2.06-.94 2.06-2.06.94zm-11 1L8.5 8.5l.94-2.06 2.06-.94-2.06-.94L8.5 2.5l-.94 2.06-2.06.94zm10 10l.94 2.06.94-2.06 2.06-.94-2.06-.94-.94-2.06-.94 2.06-2.06.94z\"/><path d=\"M17.41 7.96l-1.37-1.37c-.4-.4-.92-.59-1.43-.59-.52 0-1.04.2-1.43.59L10.3 9.45l-7.72 7.72c-.78.78-.78 2.05 0 2.83L4 21.41c.39.39.9.59 1.41.59.51 0 1.02-.2 1.41-.59l7.78-7.78 2.81-2.81c.8-.78.8-2.07 0-2.86zM5.41 20L4 18.59l7.72-7.72 1.47 1.35L5.41 20z\"/>\n",
              "  </svg>\n",
              "      </button>\n",
              "      \n",
              "  <style>\n",
              "    .colab-df-container {\n",
              "      display:flex;\n",
              "      flex-wrap:wrap;\n",
              "      gap: 12px;\n",
              "    }\n",
              "\n",
              "    .colab-df-convert {\n",
              "      background-color: #E8F0FE;\n",
              "      border: none;\n",
              "      border-radius: 50%;\n",
              "      cursor: pointer;\n",
              "      display: none;\n",
              "      fill: #1967D2;\n",
              "      height: 32px;\n",
              "      padding: 0 0 0 0;\n",
              "      width: 32px;\n",
              "    }\n",
              "\n",
              "    .colab-df-convert:hover {\n",
              "      background-color: #E2EBFA;\n",
              "      box-shadow: 0px 1px 2px rgba(60, 64, 67, 0.3), 0px 1px 3px 1px rgba(60, 64, 67, 0.15);\n",
              "      fill: #174EA6;\n",
              "    }\n",
              "\n",
              "    [theme=dark] .colab-df-convert {\n",
              "      background-color: #3B4455;\n",
              "      fill: #D2E3FC;\n",
              "    }\n",
              "\n",
              "    [theme=dark] .colab-df-convert:hover {\n",
              "      background-color: #434B5C;\n",
              "      box-shadow: 0px 1px 3px 1px rgba(0, 0, 0, 0.15);\n",
              "      filter: drop-shadow(0px 1px 2px rgba(0, 0, 0, 0.3));\n",
              "      fill: #FFFFFF;\n",
              "    }\n",
              "  </style>\n",
              "\n",
              "      <script>\n",
              "        const buttonEl =\n",
              "          document.querySelector('#df-362ffd6f-419b-477a-888c-2e838098ef9b button.colab-df-convert');\n",
              "        buttonEl.style.display =\n",
              "          google.colab.kernel.accessAllowed ? 'block' : 'none';\n",
              "\n",
              "        async function convertToInteractive(key) {\n",
              "          const element = document.querySelector('#df-362ffd6f-419b-477a-888c-2e838098ef9b');\n",
              "          const dataTable =\n",
              "            await google.colab.kernel.invokeFunction('convertToInteractive',\n",
              "                                                     [key], {});\n",
              "          if (!dataTable) return;\n",
              "\n",
              "          const docLinkHtml = 'Like what you see? Visit the ' +\n",
              "            '<a target=\"_blank\" href=https://colab.research.google.com/notebooks/data_table.ipynb>data table notebook</a>'\n",
              "            + ' to learn more about interactive tables.';\n",
              "          element.innerHTML = '';\n",
              "          dataTable['output_type'] = 'display_data';\n",
              "          await google.colab.output.renderOutput(dataTable, element);\n",
              "          const docLink = document.createElement('div');\n",
              "          docLink.innerHTML = docLinkHtml;\n",
              "          element.appendChild(docLink);\n",
              "        }\n",
              "      </script>\n",
              "    </div>\n",
              "  </div>\n",
              "  "
            ],
            "text/plain": [
              "                                         protein_sequence  pH data_source\n",
              "seq_id                                                                   \n",
              "31390   VPVNPEPDATSVENVAEKTGSGDSQSDPIKADLEVKGQSALPFDVD...   8   Novozymes\n",
              "31391   VPVNPEPDATSVENVAKKTGSGDSQSDPIKADLEVKGQSALPFDVD...   8   Novozymes\n",
              "31392   VPVNPEPDATSVENVAKTGSGDSQSDPIKADLEVKGQSALPFDVDC...   8   Novozymes\n",
              "31393   VPVNPEPDATSVENVALCTGSGDSQSDPIKADLEVKGQSALPFDVD...   8   Novozymes\n",
              "31394   VPVNPEPDATSVENVALFTGSGDSQSDPIKADLEVKGQSALPFDVD...   8   Novozymes"
            ]
          },
          "execution_count": 12,
          "metadata": {},
          "output_type": "execute_result"
        }
      ],
      "source": [
        "validation.head()"
      ]
    },
    {
      "cell_type": "markdown",
      "metadata": {
        "id": "myEuv_YDN0S3"
      },
      "source": [
        "<a class=\"anchor\" id=\"section2_3\"></a>\n",
        "\n",
        "### 2.3 Exploring the data"
      ]
    },
    {
      "cell_type": "code",
      "execution_count": 13,
      "metadata": {
        "colab": {
          "base_uri": "https://localhost:8080/"
        },
        "id": "y0Jszxt5N0S3",
        "outputId": "057287d2-af47-40fd-bd68-3d7c066ac454"
      },
      "outputs": [
        {
          "name": "stdout",
          "output_type": "stream",
          "text": [
            "Train data is divided in 31390 samples and 4 features\n",
            "Validation data is divided in 2413 samples and 3 features\n",
            "Labels for train: ['protein_sequence', 'pH', 'data_source', 'tm']\n"
          ]
        }
      ],
      "source": [
        "print(f\"Train data is divided in {train.shape[0]} samples and {train.shape[1]} features\")\n",
        "print(f\"Validation data is divided in {validation.shape[0]} samples and {validation.shape[1]} features\")\n",
        "print(f\"Labels for train: {[labels for labels in train.columns]}\")"
      ]
    },
    {
      "cell_type": "code",
      "execution_count": 14,
      "metadata": {
        "colab": {
          "base_uri": "https://localhost:8080/",
          "height": 300
        },
        "id": "NlCbqN1zN0S4",
        "outputId": "da0c341c-ee2b-414b-f091-3fdbea4285f4"
      },
      "outputs": [
        {
          "data": {
            "text/html": [
              "\n",
              "  <div id=\"df-4555e284-8ae1-4929-8383-598d5a9ccfe7\">\n",
              "    <div class=\"colab-df-container\">\n",
              "      <div>\n",
              "<style scoped>\n",
              "    .dataframe tbody tr th:only-of-type {\n",
              "        vertical-align: middle;\n",
              "    }\n",
              "\n",
              "    .dataframe tbody tr th {\n",
              "        vertical-align: top;\n",
              "    }\n",
              "\n",
              "    .dataframe thead th {\n",
              "        text-align: right;\n",
              "    }\n",
              "</style>\n",
              "<table border=\"1\" class=\"dataframe\">\n",
              "  <thead>\n",
              "    <tr style=\"text-align: right;\">\n",
              "      <th></th>\n",
              "      <th>pH</th>\n",
              "      <th>tm</th>\n",
              "    </tr>\n",
              "  </thead>\n",
              "  <tbody>\n",
              "    <tr>\n",
              "      <th>count</th>\n",
              "      <td>31104.000000</td>\n",
              "      <td>31390.000000</td>\n",
              "    </tr>\n",
              "    <tr>\n",
              "      <th>mean</th>\n",
              "      <td>6.892339</td>\n",
              "      <td>49.147337</td>\n",
              "    </tr>\n",
              "    <tr>\n",
              "      <th>std</th>\n",
              "      <td>1.612225</td>\n",
              "      <td>14.010089</td>\n",
              "    </tr>\n",
              "    <tr>\n",
              "      <th>min</th>\n",
              "      <td>1.990000</td>\n",
              "      <td>-1.000000</td>\n",
              "    </tr>\n",
              "    <tr>\n",
              "      <th>25%</th>\n",
              "      <td>7.000000</td>\n",
              "      <td>42.100000</td>\n",
              "    </tr>\n",
              "    <tr>\n",
              "      <th>50%</th>\n",
              "      <td>7.000000</td>\n",
              "      <td>48.000000</td>\n",
              "    </tr>\n",
              "    <tr>\n",
              "      <th>75%</th>\n",
              "      <td>7.000000</td>\n",
              "      <td>53.800000</td>\n",
              "    </tr>\n",
              "    <tr>\n",
              "      <th>max</th>\n",
              "      <td>64.900000</td>\n",
              "      <td>130.000000</td>\n",
              "    </tr>\n",
              "  </tbody>\n",
              "</table>\n",
              "</div>\n",
              "      <button class=\"colab-df-convert\" onclick=\"convertToInteractive('df-4555e284-8ae1-4929-8383-598d5a9ccfe7')\"\n",
              "              title=\"Convert this dataframe to an interactive table.\"\n",
              "              style=\"display:none;\">\n",
              "        \n",
              "  <svg xmlns=\"http://www.w3.org/2000/svg\" height=\"24px\"viewBox=\"0 0 24 24\"\n",
              "       width=\"24px\">\n",
              "    <path d=\"M0 0h24v24H0V0z\" fill=\"none\"/>\n",
              "    <path d=\"M18.56 5.44l.94 2.06.94-2.06 2.06-.94-2.06-.94-.94-2.06-.94 2.06-2.06.94zm-11 1L8.5 8.5l.94-2.06 2.06-.94-2.06-.94L8.5 2.5l-.94 2.06-2.06.94zm10 10l.94 2.06.94-2.06 2.06-.94-2.06-.94-.94-2.06-.94 2.06-2.06.94z\"/><path d=\"M17.41 7.96l-1.37-1.37c-.4-.4-.92-.59-1.43-.59-.52 0-1.04.2-1.43.59L10.3 9.45l-7.72 7.72c-.78.78-.78 2.05 0 2.83L4 21.41c.39.39.9.59 1.41.59.51 0 1.02-.2 1.41-.59l7.78-7.78 2.81-2.81c.8-.78.8-2.07 0-2.86zM5.41 20L4 18.59l7.72-7.72 1.47 1.35L5.41 20z\"/>\n",
              "  </svg>\n",
              "      </button>\n",
              "      \n",
              "  <style>\n",
              "    .colab-df-container {\n",
              "      display:flex;\n",
              "      flex-wrap:wrap;\n",
              "      gap: 12px;\n",
              "    }\n",
              "\n",
              "    .colab-df-convert {\n",
              "      background-color: #E8F0FE;\n",
              "      border: none;\n",
              "      border-radius: 50%;\n",
              "      cursor: pointer;\n",
              "      display: none;\n",
              "      fill: #1967D2;\n",
              "      height: 32px;\n",
              "      padding: 0 0 0 0;\n",
              "      width: 32px;\n",
              "    }\n",
              "\n",
              "    .colab-df-convert:hover {\n",
              "      background-color: #E2EBFA;\n",
              "      box-shadow: 0px 1px 2px rgba(60, 64, 67, 0.3), 0px 1px 3px 1px rgba(60, 64, 67, 0.15);\n",
              "      fill: #174EA6;\n",
              "    }\n",
              "\n",
              "    [theme=dark] .colab-df-convert {\n",
              "      background-color: #3B4455;\n",
              "      fill: #D2E3FC;\n",
              "    }\n",
              "\n",
              "    [theme=dark] .colab-df-convert:hover {\n",
              "      background-color: #434B5C;\n",
              "      box-shadow: 0px 1px 3px 1px rgba(0, 0, 0, 0.15);\n",
              "      filter: drop-shadow(0px 1px 2px rgba(0, 0, 0, 0.3));\n",
              "      fill: #FFFFFF;\n",
              "    }\n",
              "  </style>\n",
              "\n",
              "      <script>\n",
              "        const buttonEl =\n",
              "          document.querySelector('#df-4555e284-8ae1-4929-8383-598d5a9ccfe7 button.colab-df-convert');\n",
              "        buttonEl.style.display =\n",
              "          google.colab.kernel.accessAllowed ? 'block' : 'none';\n",
              "\n",
              "        async function convertToInteractive(key) {\n",
              "          const element = document.querySelector('#df-4555e284-8ae1-4929-8383-598d5a9ccfe7');\n",
              "          const dataTable =\n",
              "            await google.colab.kernel.invokeFunction('convertToInteractive',\n",
              "                                                     [key], {});\n",
              "          if (!dataTable) return;\n",
              "\n",
              "          const docLinkHtml = 'Like what you see? Visit the ' +\n",
              "            '<a target=\"_blank\" href=https://colab.research.google.com/notebooks/data_table.ipynb>data table notebook</a>'\n",
              "            + ' to learn more about interactive tables.';\n",
              "          element.innerHTML = '';\n",
              "          dataTable['output_type'] = 'display_data';\n",
              "          await google.colab.output.renderOutput(dataTable, element);\n",
              "          const docLink = document.createElement('div');\n",
              "          docLink.innerHTML = docLinkHtml;\n",
              "          element.appendChild(docLink);\n",
              "        }\n",
              "      </script>\n",
              "    </div>\n",
              "  </div>\n",
              "  "
            ],
            "text/plain": [
              "                 pH            tm\n",
              "count  31104.000000  31390.000000\n",
              "mean       6.892339     49.147337\n",
              "std        1.612225     14.010089\n",
              "min        1.990000     -1.000000\n",
              "25%        7.000000     42.100000\n",
              "50%        7.000000     48.000000\n",
              "75%        7.000000     53.800000\n",
              "max       64.900000    130.000000"
            ]
          },
          "execution_count": 14,
          "metadata": {},
          "output_type": "execute_result"
        }
      ],
      "source": [
        "train.describe()"
      ]
    },
    {
      "cell_type": "code",
      "execution_count": 15,
      "metadata": {
        "colab": {
          "base_uri": "https://localhost:8080/",
          "height": 300
        },
        "id": "qaR2K27MN0S4",
        "outputId": "15179006-d4cc-4b25-d7dd-d1e0ccd323a0"
      },
      "outputs": [
        {
          "data": {
            "text/html": [
              "\n",
              "  <div id=\"df-a3ab90c0-9869-445e-a00b-27e6e964039a\">\n",
              "    <div class=\"colab-df-container\">\n",
              "      <div>\n",
              "<style scoped>\n",
              "    .dataframe tbody tr th:only-of-type {\n",
              "        vertical-align: middle;\n",
              "    }\n",
              "\n",
              "    .dataframe tbody tr th {\n",
              "        vertical-align: top;\n",
              "    }\n",
              "\n",
              "    .dataframe thead th {\n",
              "        text-align: right;\n",
              "    }\n",
              "</style>\n",
              "<table border=\"1\" class=\"dataframe\">\n",
              "  <thead>\n",
              "    <tr style=\"text-align: right;\">\n",
              "      <th></th>\n",
              "      <th>pH</th>\n",
              "    </tr>\n",
              "  </thead>\n",
              "  <tbody>\n",
              "    <tr>\n",
              "      <th>count</th>\n",
              "      <td>2413.0</td>\n",
              "    </tr>\n",
              "    <tr>\n",
              "      <th>mean</th>\n",
              "      <td>8.0</td>\n",
              "    </tr>\n",
              "    <tr>\n",
              "      <th>std</th>\n",
              "      <td>0.0</td>\n",
              "    </tr>\n",
              "    <tr>\n",
              "      <th>min</th>\n",
              "      <td>8.0</td>\n",
              "    </tr>\n",
              "    <tr>\n",
              "      <th>25%</th>\n",
              "      <td>8.0</td>\n",
              "    </tr>\n",
              "    <tr>\n",
              "      <th>50%</th>\n",
              "      <td>8.0</td>\n",
              "    </tr>\n",
              "    <tr>\n",
              "      <th>75%</th>\n",
              "      <td>8.0</td>\n",
              "    </tr>\n",
              "    <tr>\n",
              "      <th>max</th>\n",
              "      <td>8.0</td>\n",
              "    </tr>\n",
              "  </tbody>\n",
              "</table>\n",
              "</div>\n",
              "      <button class=\"colab-df-convert\" onclick=\"convertToInteractive('df-a3ab90c0-9869-445e-a00b-27e6e964039a')\"\n",
              "              title=\"Convert this dataframe to an interactive table.\"\n",
              "              style=\"display:none;\">\n",
              "        \n",
              "  <svg xmlns=\"http://www.w3.org/2000/svg\" height=\"24px\"viewBox=\"0 0 24 24\"\n",
              "       width=\"24px\">\n",
              "    <path d=\"M0 0h24v24H0V0z\" fill=\"none\"/>\n",
              "    <path d=\"M18.56 5.44l.94 2.06.94-2.06 2.06-.94-2.06-.94-.94-2.06-.94 2.06-2.06.94zm-11 1L8.5 8.5l.94-2.06 2.06-.94-2.06-.94L8.5 2.5l-.94 2.06-2.06.94zm10 10l.94 2.06.94-2.06 2.06-.94-2.06-.94-.94-2.06-.94 2.06-2.06.94z\"/><path d=\"M17.41 7.96l-1.37-1.37c-.4-.4-.92-.59-1.43-.59-.52 0-1.04.2-1.43.59L10.3 9.45l-7.72 7.72c-.78.78-.78 2.05 0 2.83L4 21.41c.39.39.9.59 1.41.59.51 0 1.02-.2 1.41-.59l7.78-7.78 2.81-2.81c.8-.78.8-2.07 0-2.86zM5.41 20L4 18.59l7.72-7.72 1.47 1.35L5.41 20z\"/>\n",
              "  </svg>\n",
              "      </button>\n",
              "      \n",
              "  <style>\n",
              "    .colab-df-container {\n",
              "      display:flex;\n",
              "      flex-wrap:wrap;\n",
              "      gap: 12px;\n",
              "    }\n",
              "\n",
              "    .colab-df-convert {\n",
              "      background-color: #E8F0FE;\n",
              "      border: none;\n",
              "      border-radius: 50%;\n",
              "      cursor: pointer;\n",
              "      display: none;\n",
              "      fill: #1967D2;\n",
              "      height: 32px;\n",
              "      padding: 0 0 0 0;\n",
              "      width: 32px;\n",
              "    }\n",
              "\n",
              "    .colab-df-convert:hover {\n",
              "      background-color: #E2EBFA;\n",
              "      box-shadow: 0px 1px 2px rgba(60, 64, 67, 0.3), 0px 1px 3px 1px rgba(60, 64, 67, 0.15);\n",
              "      fill: #174EA6;\n",
              "    }\n",
              "\n",
              "    [theme=dark] .colab-df-convert {\n",
              "      background-color: #3B4455;\n",
              "      fill: #D2E3FC;\n",
              "    }\n",
              "\n",
              "    [theme=dark] .colab-df-convert:hover {\n",
              "      background-color: #434B5C;\n",
              "      box-shadow: 0px 1px 3px 1px rgba(0, 0, 0, 0.15);\n",
              "      filter: drop-shadow(0px 1px 2px rgba(0, 0, 0, 0.3));\n",
              "      fill: #FFFFFF;\n",
              "    }\n",
              "  </style>\n",
              "\n",
              "      <script>\n",
              "        const buttonEl =\n",
              "          document.querySelector('#df-a3ab90c0-9869-445e-a00b-27e6e964039a button.colab-df-convert');\n",
              "        buttonEl.style.display =\n",
              "          google.colab.kernel.accessAllowed ? 'block' : 'none';\n",
              "\n",
              "        async function convertToInteractive(key) {\n",
              "          const element = document.querySelector('#df-a3ab90c0-9869-445e-a00b-27e6e964039a');\n",
              "          const dataTable =\n",
              "            await google.colab.kernel.invokeFunction('convertToInteractive',\n",
              "                                                     [key], {});\n",
              "          if (!dataTable) return;\n",
              "\n",
              "          const docLinkHtml = 'Like what you see? Visit the ' +\n",
              "            '<a target=\"_blank\" href=https://colab.research.google.com/notebooks/data_table.ipynb>data table notebook</a>'\n",
              "            + ' to learn more about interactive tables.';\n",
              "          element.innerHTML = '';\n",
              "          dataTable['output_type'] = 'display_data';\n",
              "          await google.colab.output.renderOutput(dataTable, element);\n",
              "          const docLink = document.createElement('div');\n",
              "          docLink.innerHTML = docLinkHtml;\n",
              "          element.appendChild(docLink);\n",
              "        }\n",
              "      </script>\n",
              "    </div>\n",
              "  </div>\n",
              "  "
            ],
            "text/plain": [
              "           pH\n",
              "count  2413.0\n",
              "mean      8.0\n",
              "std       0.0\n",
              "min       8.0\n",
              "25%       8.0\n",
              "50%       8.0\n",
              "75%       8.0\n",
              "max       8.0"
            ]
          },
          "execution_count": 15,
          "metadata": {},
          "output_type": "execute_result"
        }
      ],
      "source": [
        "validation.describe()"
      ]
    },
    {
      "cell_type": "markdown",
      "metadata": {
        "id": "5n9LjxW8BQ7n"
      },
      "source": []
    },
    {
      "cell_type": "markdown",
      "metadata": {
        "id": "Ijqrb5cIN0S5"
      },
      "source": [
        "With this information, we can make some observations:\n",
        "\n",
        "- the `data_source` variable is not nominal, so we can't more information about this feature.\n",
        "- the `validation` dataset corresponds to ~7% of total samples, while `train` dataset corresponds to ~93%.\n",
        "- the `validation` dataset corresponds to the test dataset for the competition scoring, so it misses the `tm` feature (the variable to be predicted).\n",
        "- the `pH` variable on the `train` dataset has a maximum value of 64.9.\n",
        "- the `pH` variable on the `train` dataset has 31104 samples, while `tm` has 31390 (which is the total number of samples of that dataset).\n",
        "- the `pH` variable on the `validation` dataset has all the samples with the same value of 8. "
      ]
    },
    {
      "cell_type": "markdown",
      "metadata": {
        "id": "BOMc7zJWN0S5"
      },
      "source": [
        "#### Data sources\n",
        "\n",
        "Para verificar a distribuição das sources na bases de dados, converte-se para uma variável nominal e observa-se a distribuição."
      ]
    },
    {
      "cell_type": "code",
      "execution_count": 16,
      "metadata": {
        "colab": {
          "base_uri": "https://localhost:8080/"
        },
        "id": "WiKwBEZaN0S5",
        "outputId": "77695874-105c-4165-fa44-9fcc88109816"
      },
      "outputs": [
        {
          "data": {
            "text/plain": [
              "325"
            ]
          },
          "execution_count": 16,
          "metadata": {},
          "output_type": "execute_result"
        }
      ],
      "source": [
        "len(pd.unique(train[\"data_source\"]))"
      ]
    },
    {
      "cell_type": "code",
      "execution_count": 17,
      "metadata": {
        "colab": {
          "base_uri": "https://localhost:8080/"
        },
        "id": "JhllOturN0S5",
        "outputId": "a4bcccc1-ee6e-483e-86c4-9ca108e2ca74"
      },
      "outputs": [
        {
          "name": "stdout",
          "output_type": "stream",
          "text": [
            "seq_id\n",
            "0        doi.org/10.1038/s41592-020-0801-4\n",
            "1        doi.org/10.1038/s41592-020-0801-4\n",
            "2        doi.org/10.1038/s41592-020-0801-4\n",
            "3        doi.org/10.1038/s41592-020-0801-4\n",
            "4        doi.org/10.1038/s41592-020-0801-4\n",
            "                       ...                \n",
            "31385    doi.org/10.1038/s41592-020-0801-4\n",
            "31386    doi.org/10.1038/s41592-020-0801-4\n",
            "31387    doi.org/10.1038/s41592-020-0801-4\n",
            "31388    doi.org/10.1038/s41592-020-0801-4\n",
            "31389    doi.org/10.1038/s41592-020-0801-4\n",
            "Name: data_source, Length: 31390, dtype: object\n"
          ]
        }
      ],
      "source": [
        "print(train.data_source)"
      ]
    },
    {
      "cell_type": "code",
      "execution_count": 18,
      "metadata": {
        "colab": {
          "base_uri": "https://localhost:8080/"
        },
        "id": "g9D9uPeAN0S6",
        "outputId": "42d9f3e5-5332-4b43-8dc4-b03c27afdfc8"
      },
      "outputs": [
        {
          "name": "stderr",
          "output_type": "stream",
          "text": [
            "<ipython-input-18-83b7b2af4e21>:6: SettingWithCopyWarning: \n",
            "A value is trying to be set on a copy of a slice from a DataFrame\n",
            "\n",
            "See the caveats in the documentation: https://pandas.pydata.org/pandas-docs/stable/user_guide/indexing.html#returning-a-view-versus-a-copy\n",
            "  train.data_source[n] = sources[i]\n",
            "<ipython-input-18-83b7b2af4e21>:9: SettingWithCopyWarning: \n",
            "A value is trying to be set on a copy of a slice from a DataFrame\n",
            "\n",
            "See the caveats in the documentation: https://pandas.pydata.org/pandas-docs/stable/user_guide/indexing.html#returning-a-view-versus-a-copy\n",
            "  train.data_source[n] = sources[i]\n"
          ]
        }
      ],
      "source": [
        "sources = {}\n",
        "count = 1\n",
        "for n, i in enumerate(train.data_source):\n",
        "    if i not in sources.keys():\n",
        "        sources[i] = count\n",
        "        train.data_source[n] = sources[i]\n",
        "        count += 1\n",
        "    else:\n",
        "        train.data_source[n] = sources[i]\n",
        "\n",
        "# print(train.data_source)"
      ]
    },
    {
      "cell_type": "code",
      "execution_count": 19,
      "metadata": {
        "colab": {
          "base_uri": "https://localhost:8080/"
        },
        "id": "YZQ6YCvXN0S6",
        "outputId": "901ff2a6-70ed-46cc-dfe7-20604dd6e6b6"
      },
      "outputs": [
        {
          "name": "stdout",
          "output_type": "stream",
          "text": [
            "count     31390\n",
            "unique      325\n",
            "top           1\n",
            "freq      24525\n",
            "Name: data_source, dtype: int64\n"
          ]
        }
      ],
      "source": [
        "print(pd.Series(train.data_source).describe())"
      ]
    },
    {
      "cell_type": "code",
      "execution_count": 20,
      "metadata": {
        "colab": {
          "base_uri": "https://localhost:8080/"
        },
        "id": "IiuKjcwtN0S7",
        "outputId": "7003949c-59cf-40f6-ab35-04bf92f7f6ad"
      },
      "outputs": [
        {
          "name": "stdout",
          "output_type": "stream",
          "text": [
            "Data Source:  1 Counts:  24525\n",
            "Percentage of total counts:  78.13 %\n",
            "Data Source:  2 Counts:  3347\n",
            "Percentage of total counts:  10.66 %\n"
          ]
        }
      ],
      "source": [
        "unique, counts = np.unique(train.data_source, return_counts=True)\n",
        "dicion = dict(zip(unique, counts))\n",
        "\n",
        "for i,a in dicion.items():\n",
        "    if a > 300: # 1% do total counts\n",
        "        print('Data Source: ', i, 'Counts: ', a)\n",
        "        print('Percentage of total counts: ', round((a*100)/train.data_source.describe()[0], 2), '%')\n"
      ]
    },
    {
      "cell_type": "code",
      "execution_count": 21,
      "metadata": {
        "colab": {
          "base_uri": "https://localhost:8080/",
          "height": 265
        },
        "id": "gJYj-KhDN0S7",
        "outputId": "bef562f0-9487-4095-b2ca-92c3a9f054d7"
      },
      "outputs": [
        {
          "data": {
            "image/png": "[encoded data removed]",
            "text/plain": [
              "<Figure size 432x288 with 1 Axes>"
            ]
          },
          "metadata": {
            "needs_background": "light"
          },
          "output_type": "display_data"
        }
      ],
      "source": [
        "plt.hist(train.data_source, bins=325)\n",
        "plt.show()"
      ]
    },
    {
      "cell_type": "markdown",
      "metadata": {
        "id": "7h3btYUDN0S8"
      },
      "source": [
        "We can observe that 78% of the dataset corresponds to one unique data source.\n",
        "\n",
        "Although this feature (`data source`) is interesting to explore how the data was obtained, it contains a large number of null values (NA) and is not essential to the main goal of this project (**to predict `tm`**).\n",
        "So, it was decided to drop this column from the dataset (presented further ahead)."
      ]
    },
    {
      "cell_type": "markdown",
      "metadata": {
        "id": "yJ5PAexmN0S8"
      },
      "source": [
        "#### Swap pH e tm (to correct data)"
      ]
    },
    {
      "cell_type": "markdown",
      "metadata": {
        "id": "4Sq-NtKSN0S9"
      },
      "source": [
        "Here it is possible to verify that the `pH` variable has errors in the \"train\" dataset since its maximum is 64.9 (a value impossible to obtain). According to the source of the data, the variable pH and tm have some examples with the values changed. Thus, it is necessary to change these values in the identified sequences (dataset \"train_updates\").\n",
        "\n",
        "Here it is possible to verify that the `pH` variable has errors in the `train` dataset, since its maximum is 64.9 (impossible pH value to obtain). According to the [source of the competition](https://www.kaggle.com/competitions/novozymes-enzyme-stability-prediction/discussion/356251), the variable `pH` and `tm` has some samples with the values swapped. Thus, it is necessary to change these values in the identified sequences (dataset `train_updates`)."
      ]
    },
    {
      "cell_type": "code",
      "execution_count": 22,
      "metadata": {
        "id": "1jEVok-vN0S9"
      },
      "outputs": [],
      "source": [
        "update_train = pd.read_csv(\"train_updates_20220929.csv\",index_col=\"seq_id\")\n",
        "train = swap_ph_tm(train,update_train)"
      ]
    },
    {
      "cell_type": "code",
      "execution_count": 23,
      "metadata": {
        "colab": {
          "base_uri": "https://localhost:8080/"
        },
        "id": "nr6Z9k5PN0S9",
        "outputId": "a2cefebe-2d90-4918-fe62-3ed4e7249a7b"
      },
      "outputs": [
        {
          "name": "stdout",
          "output_type": "stream",
          "text": [
            "Labels: ['protein_sequence', 'pH', 'data_source', 'tm']\n",
            "Labels: ['protein_sequence', 'pH', 'data_source']\n"
          ]
        }
      ],
      "source": [
        "print(f\"Labels: {[labels for labels in train.columns]}\")\n",
        "print(f\"Labels: {[labels for labels in validation.columns]}\")"
      ]
    },
    {
      "cell_type": "markdown",
      "metadata": {
        "id": "AipBne-iN0S-"
      },
      "source": [
        "#### Drop NA Values\n",
        "\n",
        "As said above, the column `data_source` will be eliminated from the dataset, as well as the rest of the samples with null values."
      ]
    },
    {
      "cell_type": "code",
      "execution_count": 24,
      "metadata": {
        "colab": {
          "base_uri": "https://localhost:8080/"
        },
        "id": "liuQFnpjN0S-",
        "outputId": "6807d9b5-df2e-4703-f91d-6bee01c8dc1c"
      },
      "outputs": [
        {
          "name": "stdout",
          "output_type": "stream",
          "text": [
            "Remove data_source\n",
            "Train data is divided in 28981 lines and 3 col\n",
            "Validation data is divided in 2413 lines and 2 col\n",
            "We want to predict tm values for test data\n"
          ]
        }
      ],
      "source": [
        "print(\"Remove data_source\")\n",
        "train = train.drop(columns=\"data_source\")\n",
        "validation = validation.drop(columns=\"data_source\")\n",
        "print(f\"Train data is divided in {train.shape[0]} lines and {train.shape[1]} col\")\n",
        "print(f\"Validation data is divided in {validation.shape[0]} lines and {validation.shape[1]} col\")\n",
        "print(\"We want to predict tm values for test data\")"
      ]
    },
    {
      "cell_type": "code",
      "execution_count": 25,
      "metadata": {
        "colab": {
          "base_uri": "https://localhost:8080/"
        },
        "id": "gtr0sc3bN0S_",
        "outputId": "1f67ac6a-58d1-439a-8de3-13e11e340d96"
      },
      "outputs": [
        {
          "name": "stdout",
          "output_type": "stream",
          "text": [
            "pH                  286\n",
            "protein_sequence      0\n",
            "tm                    0\n",
            "dtype: int64\n",
            "protein_sequence    0\n",
            "pH                  0\n",
            "dtype: int64\n"
          ]
        }
      ],
      "source": [
        "print(train.isnull().sum().sort_values(ascending=False))\n",
        "print(validation.isnull().sum().sort_values(ascending=False))"
      ]
    },
    {
      "cell_type": "code",
      "execution_count": 26,
      "metadata": {
        "id": "veltdPjHN0S_"
      },
      "outputs": [],
      "source": [
        "missing_data = train[train[\"pH\"].isnull()]\n",
        "# missing_data"
      ]
    },
    {
      "cell_type": "code",
      "execution_count": 27,
      "metadata": {
        "colab": {
          "base_uri": "https://localhost:8080/",
          "height": 424
        },
        "id": "FJ0Pt34LN0TA",
        "outputId": "917d843e-8120-46b3-d922-93156d79771d"
      },
      "outputs": [
        {
          "data": {
            "text/html": [
              "\n",
              "  <div id=\"df-73a5e61f-0dd7-4764-b762-57bc8b211ac7\">\n",
              "    <div class=\"colab-df-container\">\n",
              "      <div>\n",
              "<style scoped>\n",
              "    .dataframe tbody tr th:only-of-type {\n",
              "        vertical-align: middle;\n",
              "    }\n",
              "\n",
              "    .dataframe tbody tr th {\n",
              "        vertical-align: top;\n",
              "    }\n",
              "\n",
              "    .dataframe thead th {\n",
              "        text-align: right;\n",
              "    }\n",
              "</style>\n",
              "<table border=\"1\" class=\"dataframe\">\n",
              "  <thead>\n",
              "    <tr style=\"text-align: right;\">\n",
              "      <th></th>\n",
              "      <th>protein_sequence</th>\n",
              "      <th>pH</th>\n",
              "      <th>tm</th>\n",
              "    </tr>\n",
              "  </thead>\n",
              "  <tbody>\n",
              "    <tr>\n",
              "      <th>0</th>\n",
              "      <td>AAAAKAAALALLGEAPEVVDIWLPAGWRQPFRVFRLERKGDGVLVG...</td>\n",
              "      <td>7.0</td>\n",
              "      <td>75.7</td>\n",
              "    </tr>\n",
              "    <tr>\n",
              "      <th>1</th>\n",
              "      <td>AAADGEPLHNEEERAGAGQVGRSLPQESEEQRTGSRPRRRRDLGSR...</td>\n",
              "      <td>7.0</td>\n",
              "      <td>50.5</td>\n",
              "    </tr>\n",
              "    <tr>\n",
              "      <th>2</th>\n",
              "      <td>AAAFSTPRATSYRILSSAGSGSTRADAPQVRRLHTTRDLLAKDYYA...</td>\n",
              "      <td>7.0</td>\n",
              "      <td>40.5</td>\n",
              "    </tr>\n",
              "    <tr>\n",
              "      <th>3</th>\n",
              "      <td>AAASGLRTAIPAQPLRHLLQPAPRPCLRPFGLLSVRAGSARRSGLL...</td>\n",
              "      <td>7.0</td>\n",
              "      <td>47.2</td>\n",
              "    </tr>\n",
              "    <tr>\n",
              "      <th>4</th>\n",
              "      <td>AAATKSGPRRQSQGASVRTFTPFYFLVEPVDTLSVRGSSVILNCSA...</td>\n",
              "      <td>7.0</td>\n",
              "      <td>49.5</td>\n",
              "    </tr>\n",
              "    <tr>\n",
              "      <th>...</th>\n",
              "      <td>...</td>\n",
              "      <td>...</td>\n",
              "      <td>...</td>\n",
              "    </tr>\n",
              "    <tr>\n",
              "      <th>28690</th>\n",
              "      <td>YYMYSGGGSALAAGGGGAGRKGDWNDIDSIKKKDLHHSRGDEKAQG...</td>\n",
              "      <td>7.0</td>\n",
              "      <td>51.8</td>\n",
              "    </tr>\n",
              "    <tr>\n",
              "      <th>28691</th>\n",
              "      <td>YYNDQHRLSSYSVETAMFLSWERAIVKPGAMFKKAVIGFNCNVDLI...</td>\n",
              "      <td>7.0</td>\n",
              "      <td>37.2</td>\n",
              "    </tr>\n",
              "    <tr>\n",
              "      <th>28692</th>\n",
              "      <td>YYQRTLGAELLYKISFGEMPKSAQDSAENCPSGMQFPDTAIAHANV...</td>\n",
              "      <td>7.0</td>\n",
              "      <td>64.6</td>\n",
              "    </tr>\n",
              "    <tr>\n",
              "      <th>28693</th>\n",
              "      <td>YYSFSDNITTVFLSRQAIDDDHSLSLGTISDVVESENGVVAADDAR...</td>\n",
              "      <td>7.0</td>\n",
              "      <td>50.7</td>\n",
              "    </tr>\n",
              "    <tr>\n",
              "      <th>28694</th>\n",
              "      <td>YYVPDEYWQSLEVAHKLTFGYGYLTWEWVQGIRSYVYPLLIAGLYK...</td>\n",
              "      <td>7.0</td>\n",
              "      <td>37.6</td>\n",
              "    </tr>\n",
              "  </tbody>\n",
              "</table>\n",
              "<p>28695 rows × 3 columns</p>\n",
              "</div>\n",
              "      <button class=\"colab-df-convert\" onclick=\"convertToInteractive('df-73a5e61f-0dd7-4764-b762-57bc8b211ac7')\"\n",
              "              title=\"Convert this dataframe to an interactive table.\"\n",
              "              style=\"display:none;\">\n",
              "        \n",
              "  <svg xmlns=\"http://www.w3.org/2000/svg\" height=\"24px\"viewBox=\"0 0 24 24\"\n",
              "       width=\"24px\">\n",
              "    <path d=\"M0 0h24v24H0V0z\" fill=\"none\"/>\n",
              "    <path d=\"M18.56 5.44l.94 2.06.94-2.06 2.06-.94-2.06-.94-.94-2.06-.94 2.06-2.06.94zm-11 1L8.5 8.5l.94-2.06 2.06-.94-2.06-.94L8.5 2.5l-.94 2.06-2.06.94zm10 10l.94 2.06.94-2.06 2.06-.94-2.06-.94-.94-2.06-.94 2.06-2.06.94z\"/><path d=\"M17.41 7.96l-1.37-1.37c-.4-.4-.92-.59-1.43-.59-.52 0-1.04.2-1.43.59L10.3 9.45l-7.72 7.72c-.78.78-.78 2.05 0 2.83L4 21.41c.39.39.9.59 1.41.59.51 0 1.02-.2 1.41-.59l7.78-7.78 2.81-2.81c.8-.78.8-2.07 0-2.86zM5.41 20L4 18.59l7.72-7.72 1.47 1.35L5.41 20z\"/>\n",
              "  </svg>\n",
              "      </button>\n",
              "      \n",
              "  <style>\n",
              "    .colab-df-container {\n",
              "      display:flex;\n",
              "      flex-wrap:wrap;\n",
              "      gap: 12px;\n",
              "    }\n",
              "\n",
              "    .colab-df-convert {\n",
              "      background-color: #E8F0FE;\n",
              "      border: none;\n",
              "      border-radius: 50%;\n",
              "      cursor: pointer;\n",
              "      display: none;\n",
              "      fill: #1967D2;\n",
              "      height: 32px;\n",
              "      padding: 0 0 0 0;\n",
              "      width: 32px;\n",
              "    }\n",
              "\n",
              "    .colab-df-convert:hover {\n",
              "      background-color: #E2EBFA;\n",
              "      box-shadow: 0px 1px 2px rgba(60, 64, 67, 0.3), 0px 1px 3px 1px rgba(60, 64, 67, 0.15);\n",
              "      fill: #174EA6;\n",
              "    }\n",
              "\n",
              "    [theme=dark] .colab-df-convert {\n",
              "      background-color: #3B4455;\n",
              "      fill: #D2E3FC;\n",
              "    }\n",
              "\n",
              "    [theme=dark] .colab-df-convert:hover {\n",
              "      background-color: #434B5C;\n",
              "      box-shadow: 0px 1px 3px 1px rgba(0, 0, 0, 0.15);\n",
              "      filter: drop-shadow(0px 1px 2px rgba(0, 0, 0, 0.3));\n",
              "      fill: #FFFFFF;\n",
              "    }\n",
              "  </style>\n",
              "\n",
              "      <script>\n",
              "        const buttonEl =\n",
              "          document.querySelector('#df-73a5e61f-0dd7-4764-b762-57bc8b211ac7 button.colab-df-convert');\n",
              "        buttonEl.style.display =\n",
              "          google.colab.kernel.accessAllowed ? 'block' : 'none';\n",
              "\n",
              "        async function convertToInteractive(key) {\n",
              "          const element = document.querySelector('#df-73a5e61f-0dd7-4764-b762-57bc8b211ac7');\n",
              "          const dataTable =\n",
              "            await google.colab.kernel.invokeFunction('convertToInteractive',\n",
              "                                                     [key], {});\n",
              "          if (!dataTable) return;\n",
              "\n",
              "          const docLinkHtml = 'Like what you see? Visit the ' +\n",
              "            '<a target=\"_blank\" href=https://colab.research.google.com/notebooks/data_table.ipynb>data table notebook</a>'\n",
              "            + ' to learn more about interactive tables.';\n",
              "          element.innerHTML = '';\n",
              "          dataTable['output_type'] = 'display_data';\n",
              "          await google.colab.output.renderOutput(dataTable, element);\n",
              "          const docLink = document.createElement('div');\n",
              "          docLink.innerHTML = docLinkHtml;\n",
              "          element.appendChild(docLink);\n",
              "        }\n",
              "      </script>\n",
              "    </div>\n",
              "  </div>\n",
              "  "
            ],
            "text/plain": [
              "                                        protein_sequence   pH    tm\n",
              "0      AAAAKAAALALLGEAPEVVDIWLPAGWRQPFRVFRLERKGDGVLVG...  7.0  75.7\n",
              "1      AAADGEPLHNEEERAGAGQVGRSLPQESEEQRTGSRPRRRRDLGSR...  7.0  50.5\n",
              "2      AAAFSTPRATSYRILSSAGSGSTRADAPQVRRLHTTRDLLAKDYYA...  7.0  40.5\n",
              "3      AAASGLRTAIPAQPLRHLLQPAPRPCLRPFGLLSVRAGSARRSGLL...  7.0  47.2\n",
              "4      AAATKSGPRRQSQGASVRTFTPFYFLVEPVDTLSVRGSSVILNCSA...  7.0  49.5\n",
              "...                                                  ...  ...   ...\n",
              "28690  YYMYSGGGSALAAGGGGAGRKGDWNDIDSIKKKDLHHSRGDEKAQG...  7.0  51.8\n",
              "28691  YYNDQHRLSSYSVETAMFLSWERAIVKPGAMFKKAVIGFNCNVDLI...  7.0  37.2\n",
              "28692  YYQRTLGAELLYKISFGEMPKSAQDSAENCPSGMQFPDTAIAHANV...  7.0  64.6\n",
              "28693  YYSFSDNITTVFLSRQAIDDDHSLSLGTISDVVESENGVVAADDAR...  7.0  50.7\n",
              "28694  YYVPDEYWQSLEVAHKLTFGYGYLTWEWVQGIRSYVYPLLIAGLYK...  7.0  37.6\n",
              "\n",
              "[28695 rows x 3 columns]"
            ]
          },
          "execution_count": 27,
          "metadata": {},
          "output_type": "execute_result"
        }
      ],
      "source": [
        "train= train.drop((missing_data).index).reset_index(drop=True)\n",
        "train"
      ]
    },
    {
      "cell_type": "code",
      "execution_count": 28,
      "metadata": {
        "colab": {
          "base_uri": "https://localhost:8080/"
        },
        "id": "uHorOXLJN0TA",
        "outputId": "9c366222-0a7b-4567-9ba7-58d8ca290a8f"
      },
      "outputs": [
        {
          "name": "stdout",
          "output_type": "stream",
          "text": [
            "protein_sequence    0\n",
            "pH                  0\n",
            "tm                  0\n",
            "dtype: int64\n",
            "protein_sequence    0\n",
            "pH                  0\n",
            "dtype: int64\n"
          ]
        }
      ],
      "source": [
        "print(train.isnull().sum().sort_values(ascending=False))\n",
        "print(validation.isnull().sum().sort_values(ascending=False))"
      ]
    },
    {
      "attachments": {},
      "cell_type": "markdown",
      "metadata": {
        "id": "ssKMGs7lN0TA"
      },
      "source": [
        "#### Summary"
      ]
    },
    {
      "cell_type": "code",
      "execution_count": 29,
      "metadata": {
        "colab": {
          "base_uri": "https://localhost:8080/"
        },
        "id": "cMDOuTWUN0TA",
        "outputId": "1fe19f9f-7c57-420d-cdd7-a6d8b5a28df1"
      },
      "outputs": [
        {
          "data": {
            "text/plain": [
              "count    28695.000000\n",
              "mean       451.729535\n",
              "std        416.889872\n",
              "min          5.000000\n",
              "25%        210.000000\n",
              "50%        352.000000\n",
              "75%        537.000000\n",
              "max       8798.000000\n",
              "dtype: float64"
            ]
          },
          "execution_count": 29,
          "metadata": {},
          "output_type": "execute_result"
        }
      ],
      "source": [
        "# Tamanho das sequencias de proteina e distribuição\n",
        "lista = [len(train['protein_sequence'].iat[i]) for i in range(len(train))]\n",
        "pd.Series(lista).describe()"
      ]
    },
    {
      "cell_type": "code",
      "execution_count": 30,
      "metadata": {
        "colab": {
          "base_uri": "https://localhost:8080/",
          "height": 265
        },
        "id": "e2VziagTN0TB",
        "outputId": "bdd09dda-4154-40fc-a560-5e17f20581cc"
      },
      "outputs": [
        {
          "data": {
            "image/png": "[encoded data removed]",
            "text/plain": [
              "<Figure size 432x288 with 1 Axes>"
            ]
          },
          "metadata": {
            "needs_background": "light"
          },
          "output_type": "display_data"
        }
      ],
      "source": [
        "plt.hist(lista, bins=75)\n",
        "plt.show()\n",
        "\n",
        "#adicionar titulos aos eixos e grafico"
      ]
    },
    {
      "cell_type": "code",
      "execution_count": 71,
      "metadata": {
        "colab": {
          "base_uri": "https://localhost:8080/"
        },
        "id": "fUOKWWKqB4pX",
        "outputId": "58d2114a-6f6f-496d-f8dd-d934f5393df8"
      },
      "outputs": [
        {
          "name": "stdout",
          "output_type": "stream",
          "text": [
            "count                                                 28695\n",
            "unique                                                27141\n",
            "top       MRNTGAGPSPSVSRPPPSAAPLSGAALAAPGDAPSALYAPSALVLT...\n",
            "freq                                                     13\n",
            "Name: protein_sequence, dtype: object\n"
          ]
        }
      ],
      "source": [
        "print(pd.Series(train.protein_sequence).describe())"
      ]
    },
    {
      "cell_type": "code",
      "execution_count": 31,
      "metadata": {
        "colab": {
          "base_uri": "https://localhost:8080/",
          "height": 300
        },
        "id": "6QD9_eznN0TB",
        "outputId": "5d1f490b-44a9-45f1-8e06-1bb88f30943d"
      },
      "outputs": [
        {
          "data": {
            "text/html": [
              "\n",
              "  <div id=\"df-d88faf8d-22c6-4343-9266-9509cb236143\">\n",
              "    <div class=\"colab-df-container\">\n",
              "      <div>\n",
              "<style scoped>\n",
              "    .dataframe tbody tr th:only-of-type {\n",
              "        vertical-align: middle;\n",
              "    }\n",
              "\n",
              "    .dataframe tbody tr th {\n",
              "        vertical-align: top;\n",
              "    }\n",
              "\n",
              "    .dataframe thead th {\n",
              "        text-align: right;\n",
              "    }\n",
              "</style>\n",
              "<table border=\"1\" class=\"dataframe\">\n",
              "  <thead>\n",
              "    <tr style=\"text-align: right;\">\n",
              "      <th></th>\n",
              "      <th>pH</th>\n",
              "      <th>tm</th>\n",
              "    </tr>\n",
              "  </thead>\n",
              "  <tbody>\n",
              "    <tr>\n",
              "      <th>count</th>\n",
              "      <td>28695.000000</td>\n",
              "      <td>28695.000000</td>\n",
              "    </tr>\n",
              "    <tr>\n",
              "      <th>mean</th>\n",
              "      <td>6.872467</td>\n",
              "      <td>51.385604</td>\n",
              "    </tr>\n",
              "    <tr>\n",
              "      <th>std</th>\n",
              "      <td>0.793184</td>\n",
              "      <td>12.076609</td>\n",
              "    </tr>\n",
              "    <tr>\n",
              "      <th>min</th>\n",
              "      <td>1.990000</td>\n",
              "      <td>25.100000</td>\n",
              "    </tr>\n",
              "    <tr>\n",
              "      <th>25%</th>\n",
              "      <td>7.000000</td>\n",
              "      <td>43.700000</td>\n",
              "    </tr>\n",
              "    <tr>\n",
              "      <th>50%</th>\n",
              "      <td>7.000000</td>\n",
              "      <td>48.800000</td>\n",
              "    </tr>\n",
              "    <tr>\n",
              "      <th>75%</th>\n",
              "      <td>7.000000</td>\n",
              "      <td>54.600000</td>\n",
              "    </tr>\n",
              "    <tr>\n",
              "      <th>max</th>\n",
              "      <td>11.000000</td>\n",
              "      <td>130.000000</td>\n",
              "    </tr>\n",
              "  </tbody>\n",
              "</table>\n",
              "</div>\n",
              "      <button class=\"colab-df-convert\" onclick=\"convertToInteractive('df-d88faf8d-22c6-4343-9266-9509cb236143')\"\n",
              "              title=\"Convert this dataframe to an interactive table.\"\n",
              "              style=\"display:none;\">\n",
              "        \n",
              "  <svg xmlns=\"http://www.w3.org/2000/svg\" height=\"24px\"viewBox=\"0 0 24 24\"\n",
              "       width=\"24px\">\n",
              "    <path d=\"M0 0h24v24H0V0z\" fill=\"none\"/>\n",
              "    <path d=\"M18.56 5.44l.94 2.06.94-2.06 2.06-.94-2.06-.94-.94-2.06-.94 2.06-2.06.94zm-11 1L8.5 8.5l.94-2.06 2.06-.94-2.06-.94L8.5 2.5l-.94 2.06-2.06.94zm10 10l.94 2.06.94-2.06 2.06-.94-2.06-.94-.94-2.06-.94 2.06-2.06.94z\"/><path d=\"M17.41 7.96l-1.37-1.37c-.4-.4-.92-.59-1.43-.59-.52 0-1.04.2-1.43.59L10.3 9.45l-7.72 7.72c-.78.78-.78 2.05 0 2.83L4 21.41c.39.39.9.59 1.41.59.51 0 1.02-.2 1.41-.59l7.78-7.78 2.81-2.81c.8-.78.8-2.07 0-2.86zM5.41 20L4 18.59l7.72-7.72 1.47 1.35L5.41 20z\"/>\n",
              "  </svg>\n",
              "      </button>\n",
              "      \n",
              "  <style>\n",
              "    .colab-df-container {\n",
              "      display:flex;\n",
              "      flex-wrap:wrap;\n",
              "      gap: 12px;\n",
              "    }\n",
              "\n",
              "    .colab-df-convert {\n",
              "      background-color: #E8F0FE;\n",
              "      border: none;\n",
              "      border-radius: 50%;\n",
              "      cursor: pointer;\n",
              "      display: none;\n",
              "      fill: #1967D2;\n",
              "      height: 32px;\n",
              "      padding: 0 0 0 0;\n",
              "      width: 32px;\n",
              "    }\n",
              "\n",
              "    .colab-df-convert:hover {\n",
              "      background-color: #E2EBFA;\n",
              "      box-shadow: 0px 1px 2px rgba(60, 64, 67, 0.3), 0px 1px 3px 1px rgba(60, 64, 67, 0.15);\n",
              "      fill: #174EA6;\n",
              "    }\n",
              "\n",
              "    [theme=dark] .colab-df-convert {\n",
              "      background-color: #3B4455;\n",
              "      fill: #D2E3FC;\n",
              "    }\n",
              "\n",
              "    [theme=dark] .colab-df-convert:hover {\n",
              "      background-color: #434B5C;\n",
              "      box-shadow: 0px 1px 3px 1px rgba(0, 0, 0, 0.15);\n",
              "      filter: drop-shadow(0px 1px 2px rgba(0, 0, 0, 0.3));\n",
              "      fill: #FFFFFF;\n",
              "    }\n",
              "  </style>\n",
              "\n",
              "      <script>\n",
              "        const buttonEl =\n",
              "          document.querySelector('#df-d88faf8d-22c6-4343-9266-9509cb236143 button.colab-df-convert');\n",
              "        buttonEl.style.display =\n",
              "          google.colab.kernel.accessAllowed ? 'block' : 'none';\n",
              "\n",
              "        async function convertToInteractive(key) {\n",
              "          const element = document.querySelector('#df-d88faf8d-22c6-4343-9266-9509cb236143');\n",
              "          const dataTable =\n",
              "            await google.colab.kernel.invokeFunction('convertToInteractive',\n",
              "                                                     [key], {});\n",
              "          if (!dataTable) return;\n",
              "\n",
              "          const docLinkHtml = 'Like what you see? Visit the ' +\n",
              "            '<a target=\"_blank\" href=https://colab.research.google.com/notebooks/data_table.ipynb>data table notebook</a>'\n",
              "            + ' to learn more about interactive tables.';\n",
              "          element.innerHTML = '';\n",
              "          dataTable['output_type'] = 'display_data';\n",
              "          await google.colab.output.renderOutput(dataTable, element);\n",
              "          const docLink = document.createElement('div');\n",
              "          docLink.innerHTML = docLinkHtml;\n",
              "          element.appendChild(docLink);\n",
              "        }\n",
              "      </script>\n",
              "    </div>\n",
              "  </div>\n",
              "  "
            ],
            "text/plain": [
              "                 pH            tm\n",
              "count  28695.000000  28695.000000\n",
              "mean       6.872467     51.385604\n",
              "std        0.793184     12.076609\n",
              "min        1.990000     25.100000\n",
              "25%        7.000000     43.700000\n",
              "50%        7.000000     48.800000\n",
              "75%        7.000000     54.600000\n",
              "max       11.000000    130.000000"
            ]
          },
          "execution_count": 31,
          "metadata": {},
          "output_type": "execute_result"
        }
      ],
      "source": [
        "train.describe()"
      ]
    },
    {
      "cell_type": "code",
      "execution_count": 32,
      "metadata": {
        "colab": {
          "base_uri": "https://localhost:8080/"
        },
        "id": "MhQOYtP8N0TB",
        "outputId": "0b61d303-2086-4691-876c-47b50ef52f33"
      },
      "outputs": [
        {
          "name": "stdout",
          "output_type": "stream",
          "text": [
            "Train data is divided in 28695 samples and 3 features\n",
            "Labels for train: ['protein_sequence', 'pH', 'tm']\n"
          ]
        }
      ],
      "source": [
        "print(f\"Train data is divided in {train.shape[0]} samples and {train.shape[1]} features\")\n",
        "print(f\"Labels for train: {[labels for labels in train.columns]}\")"
      ]
    },
    {
      "cell_type": "markdown",
      "metadata": {
        "id": "mIzKDrUyN0TC"
      },
      "source": [
        "Now, other observations can be made:\n",
        "\n",
        "- the `train` dataset without null values has a total of 28695 samples and only 3 features: `protein_sequence`, `pH` and `tm`.\n",
        "- the `pH` feature has values between 1.9 and 11 but, the majority of samples have a pH value of 7.\n",
        "- the `tm` feature has values between 25 and 130, but 50% of samples have a smaller range: 44-55.\n",
        "- the `protein_sequence` samples have a large range of lenghts (between 5 and 8798), but 50% of samples have lenghts between 210 and 537). The mean lenght of the 28695 sequences is 451.\n",
        "- to use some machine learning techniques it is needed to transform the feature `protein_sequence` into descriptors (multiple features)."
      ]
    },
    {
      "cell_type": "markdown",
      "metadata": {
        "id": "bWQijFnHy5eR"
      },
      "source": [
        "<a class=\"anchor\" id=\"section2_4\"></a>\n",
        "\n",
        "### 2.4 Protein Descriptors"
      ]
    },
    {
      "cell_type": "markdown",
      "metadata": {
        "id": "pNSn32RfwqnV"
      },
      "source": [
        "As we only have two features to work with in the ML step, and one of them is the protein sequence, we need to extract from these sequences a set of descriptors.\n",
        "\n",
        "Protein descriptors are quantitative measures that characterize various properties of a protein, such as its structure, stability, or function.\n",
        "\n",
        "Here is a set of examples for these descriptors:\n",
        "\n",
        "*   Sequence lenght (1 feature)\n",
        "*   Amonoacid composition (20 features)\n",
        "*   dipeptide composition (400 features)\n",
        "*   tripeptide composition (8000 features)\n",
        "*   Molecular weight (1 feature)\n",
        "*   Aromaticity (1 feature)\n",
        "*   Instability index ( 1 feature)\n",
        "*   Isoeletric point (1 feature)\n",
        "\n"
      ]
    },
    {
      "cell_type": "markdown",
      "metadata": {
        "id": "tKTfVyCVRBq4"
      },
      "source": [
        "The only useful variable for this stage is the `protein_sequence`.\n",
        "With this data, functions based on the `propy` and `biopython` packages were used:\n",
        "- `calculate_dipeptide_composition`: DPC - dipeptide composition descriptors (400) for each protein. [propy package](https://pypi.org/project/propy3/)\n",
        "- `calculate_molecular_weight`: Calculate MW from Protein sequence. [Biopython](https://biopython.org/docs/1.76/api/Bio.SeqUtils.ProtParam.html)\n",
        "- `calculate_isoelectric_point`: Uses the module IsoelectricPoint to calculate the pI of a protein. [Biopython](https://biopython.org/docs/1.76/api/Bio.SeqUtils.ProtParam.html)\n",
        "- `calculate_aromaticity`: Calculates the aromaticity value of a protein according to Lobry, 1994. It is simply the relative frequency of Phe+Trp+Tyr. [Biopython](https://biopython.org/docs/1.76/api/Bio.SeqUtils.ProtParam.html)\n",
        "- `calculate_instability_index`: Implementation of the method of Guruprasad et al. 1990 to test a protein for stability. Any value above 40 means the protein is unstable. [Biopython](https://biopython.org/docs/1.76/api/Bio.SeqUtils.ProtParam.html)\n",
        "\n"
      ]
    },
    {
      "cell_type": "code",
      "execution_count": 33,
      "metadata": {
        "id": "LQ61YLEe0NNM"
      },
      "outputs": [],
      "source": [
        "train_array = np.array(train.loc[:,[\"protein_sequence\"]])"
      ]
    },
    {
      "cell_type": "code",
      "execution_count": 34,
      "metadata": {
        "id": "7Ylo0XW2zKh4"
      },
      "outputs": [],
      "source": [
        "# Calculate dipeptide\n",
        "di_peptide = calculate_dipeptide_composition(train_array)\n",
        "di_dataframe= pd.DataFrame(di_peptide)\n",
        "#Calulate molecular_weight\n",
        "molecular_weight = calculate_molecular_weight(train_array)\n",
        "#Calulate isoelectric_point\n",
        "isoelectric_point = calculate_isoelectric_point(train_array)\n",
        "#Calulate aromaticity\n",
        "aromaticity = calculate_aromaticity(train_array)\n",
        "#Calulate instability_index\n",
        "instability_index = calculate_instability_index(train_array)"
      ]
    },
    {
      "cell_type": "code",
      "execution_count": 35,
      "metadata": {
        "id": "cevylN3FzvUW"
      },
      "outputs": [],
      "source": [
        "#Add all new features\n",
        "train[\"molecular_weight\"]=molecular_weight\n",
        "train[\"isoelectric_point\"]=isoelectric_point\n",
        "train[\"aromaticity\"]=aromaticity\n",
        "train[\"instability_index\"]=instability_index"
      ]
    },
    {
      "cell_type": "code",
      "execution_count": null,
      "metadata": {
        "id": "c9Ys_dTlBaSC"
      },
      "outputs": [],
      "source": [
        "# from propy import PyPro\n",
        "\n",
        "# def calculate_tri(train_array: pd.DataFrame) -> np.ndarray:\n",
        "#     \"\"\"CalculatesTripeptideComposition for len(tran_array[\"protein_sequence\"])\n",
        "#     Args:\n",
        "#         train_array (pd.DataFrame): _description_\n",
        "\n",
        "#     Returns:\n",
        "#         np.ndarray: _description_\n",
        "#     \"\"\"\n",
        "    \n",
        "#     final = []\n",
        "#     for i in train_array:\n",
        "#         protein = \"\".join(i)\n",
        "#         result = PyPro.GetSpectrumDict(protein)\n",
        "#         final.append(result)\n",
        "\n",
        "#     return final\n"
      ]
    },
    {
      "cell_type": "code",
      "execution_count": null,
      "metadata": {
        "id": "6MFfjN0QIwFE"
      },
      "outputs": [],
      "source": [
        "#tripeptide= calculate_tri(train_array)"
      ]
    },
    {
      "cell_type": "code",
      "execution_count": 36,
      "metadata": {
        "colab": {
          "base_uri": "https://localhost:8080/",
          "height": 174
        },
        "id": "qlCx9uLXzO07",
        "outputId": "8a186956-5e35-4562-dc00-4e9f6f20b57d"
      },
      "outputs": [
        {
          "data": {
            "text/html": [
              "\n",
              "  <div id=\"df-35347311-7893-4fb2-8199-0944e87064d1\">\n",
              "    <div class=\"colab-df-container\">\n",
              "      <div>\n",
              "<style scoped>\n",
              "    .dataframe tbody tr th:only-of-type {\n",
              "        vertical-align: middle;\n",
              "    }\n",
              "\n",
              "    .dataframe tbody tr th {\n",
              "        vertical-align: top;\n",
              "    }\n",
              "\n",
              "    .dataframe thead th {\n",
              "        text-align: right;\n",
              "    }\n",
              "</style>\n",
              "<table border=\"1\" class=\"dataframe\">\n",
              "  <thead>\n",
              "    <tr style=\"text-align: right;\">\n",
              "      <th></th>\n",
              "      <th>protein_sequence</th>\n",
              "      <th>pH</th>\n",
              "      <th>tm</th>\n",
              "      <th>molecular_weight</th>\n",
              "      <th>isoelectric_point</th>\n",
              "      <th>aromaticity</th>\n",
              "      <th>instability_index</th>\n",
              "      <th>AA</th>\n",
              "      <th>AR</th>\n",
              "      <th>AN</th>\n",
              "      <th>...</th>\n",
              "      <th>VL</th>\n",
              "      <th>VK</th>\n",
              "      <th>VM</th>\n",
              "      <th>VF</th>\n",
              "      <th>VP</th>\n",
              "      <th>VS</th>\n",
              "      <th>VT</th>\n",
              "      <th>VW</th>\n",
              "      <th>VY</th>\n",
              "      <th>VV</th>\n",
              "    </tr>\n",
              "  </thead>\n",
              "  <tbody>\n",
              "    <tr>\n",
              "      <th>1746</th>\n",
              "      <td>GLTLGKSTDYRDTYDASLLQGVPRSLNRDPLGLKADNLPFHGTDIW...</td>\n",
              "      <td>7.0</td>\n",
              "      <td>54.0</td>\n",
              "      <td>31284.6895</td>\n",
              "      <td>5.641804</td>\n",
              "      <td>0.103704</td>\n",
              "      <td>22.241111</td>\n",
              "      <td>0.0</td>\n",
              "      <td>0.37</td>\n",
              "      <td>0.0</td>\n",
              "      <td>...</td>\n",
              "      <td>0.0</td>\n",
              "      <td>0.0</td>\n",
              "      <td>0.0</td>\n",
              "      <td>0.0</td>\n",
              "      <td>0.74</td>\n",
              "      <td>0.74</td>\n",
              "      <td>0.0</td>\n",
              "      <td>0.0</td>\n",
              "      <td>0.37</td>\n",
              "      <td>0.37</td>\n",
              "    </tr>\n",
              "  </tbody>\n",
              "</table>\n",
              "<p>1 rows × 407 columns</p>\n",
              "</div>\n",
              "      <button class=\"colab-df-convert\" onclick=\"convertToInteractive('df-35347311-7893-4fb2-8199-0944e87064d1')\"\n",
              "              title=\"Convert this dataframe to an interactive table.\"\n",
              "              style=\"display:none;\">\n",
              "        \n",
              "  <svg xmlns=\"http://www.w3.org/2000/svg\" height=\"24px\"viewBox=\"0 0 24 24\"\n",
              "       width=\"24px\">\n",
              "    <path d=\"M0 0h24v24H0V0z\" fill=\"none\"/>\n",
              "    <path d=\"M18.56 5.44l.94 2.06.94-2.06 2.06-.94-2.06-.94-.94-2.06-.94 2.06-2.06.94zm-11 1L8.5 8.5l.94-2.06 2.06-.94-2.06-.94L8.5 2.5l-.94 2.06-2.06.94zm10 10l.94 2.06.94-2.06 2.06-.94-2.06-.94-.94-2.06-.94 2.06-2.06.94z\"/><path d=\"M17.41 7.96l-1.37-1.37c-.4-.4-.92-.59-1.43-.59-.52 0-1.04.2-1.43.59L10.3 9.45l-7.72 7.72c-.78.78-.78 2.05 0 2.83L4 21.41c.39.39.9.59 1.41.59.51 0 1.02-.2 1.41-.59l7.78-7.78 2.81-2.81c.8-.78.8-2.07 0-2.86zM5.41 20L4 18.59l7.72-7.72 1.47 1.35L5.41 20z\"/>\n",
              "  </svg>\n",
              "      </button>\n",
              "      \n",
              "  <style>\n",
              "    .colab-df-container {\n",
              "      display:flex;\n",
              "      flex-wrap:wrap;\n",
              "      gap: 12px;\n",
              "    }\n",
              "\n",
              "    .colab-df-convert {\n",
              "      background-color: #E8F0FE;\n",
              "      border: none;\n",
              "      border-radius: 50%;\n",
              "      cursor: pointer;\n",
              "      display: none;\n",
              "      fill: #1967D2;\n",
              "      height: 32px;\n",
              "      padding: 0 0 0 0;\n",
              "      width: 32px;\n",
              "    }\n",
              "\n",
              "    .colab-df-convert:hover {\n",
              "      background-color: #E2EBFA;\n",
              "      box-shadow: 0px 1px 2px rgba(60, 64, 67, 0.3), 0px 1px 3px 1px rgba(60, 64, 67, 0.15);\n",
              "      fill: #174EA6;\n",
              "    }\n",
              "\n",
              "    [theme=dark] .colab-df-convert {\n",
              "      background-color: #3B4455;\n",
              "      fill: #D2E3FC;\n",
              "    }\n",
              "\n",
              "    [theme=dark] .colab-df-convert:hover {\n",
              "      background-color: #434B5C;\n",
              "      box-shadow: 0px 1px 3px 1px rgba(0, 0, 0, 0.15);\n",
              "      filter: drop-shadow(0px 1px 2px rgba(0, 0, 0, 0.3));\n",
              "      fill: #FFFFFF;\n",
              "    }\n",
              "  </style>\n",
              "\n",
              "      <script>\n",
              "        const buttonEl =\n",
              "          document.querySelector('#df-35347311-7893-4fb2-8199-0944e87064d1 button.colab-df-convert');\n",
              "        buttonEl.style.display =\n",
              "          google.colab.kernel.accessAllowed ? 'block' : 'none';\n",
              "\n",
              "        async function convertToInteractive(key) {\n",
              "          const element = document.querySelector('#df-35347311-7893-4fb2-8199-0944e87064d1');\n",
              "          const dataTable =\n",
              "            await google.colab.kernel.invokeFunction('convertToInteractive',\n",
              "                                                     [key], {});\n",
              "          if (!dataTable) return;\n",
              "\n",
              "          const docLinkHtml = 'Like what you see? Visit the ' +\n",
              "            '<a target=\"_blank\" href=https://colab.research.google.com/notebooks/data_table.ipynb>data table notebook</a>'\n",
              "            + ' to learn more about interactive tables.';\n",
              "          element.innerHTML = '';\n",
              "          dataTable['output_type'] = 'display_data';\n",
              "          await google.colab.output.renderOutput(dataTable, element);\n",
              "          const docLink = document.createElement('div');\n",
              "          docLink.innerHTML = docLinkHtml;\n",
              "          element.appendChild(docLink);\n",
              "        }\n",
              "      </script>\n",
              "    </div>\n",
              "  </div>\n",
              "  "
            ],
            "text/plain": [
              "                                       protein_sequence   pH    tm  \\\n",
              "1746  GLTLGKSTDYRDTYDASLLQGVPRSLNRDPLGLKADNLPFHGTDIW...  7.0  54.0   \n",
              "\n",
              "      molecular_weight  isoelectric_point  aromaticity  instability_index  \\\n",
              "1746        31284.6895           5.641804     0.103704          22.241111   \n",
              "\n",
              "       AA    AR   AN  ...   VL   VK   VM   VF    VP    VS   VT   VW    VY  \\\n",
              "1746  0.0  0.37  0.0  ...  0.0  0.0  0.0  0.0  0.74  0.74  0.0  0.0  0.37   \n",
              "\n",
              "        VV  \n",
              "1746  0.37  \n",
              "\n",
              "[1 rows x 407 columns]"
            ]
          },
          "execution_count": 36,
          "metadata": {},
          "output_type": "execute_result"
        }
      ],
      "source": [
        "train_dataset = train.join(di_dataframe)\n",
        "train_dataset.sample()"
      ]
    },
    {
      "cell_type": "code",
      "execution_count": 37,
      "metadata": {
        "colab": {
          "base_uri": "https://localhost:8080/"
        },
        "id": "XBSHl8qvzlQz",
        "outputId": "9ffd15db-78de-4e68-d95c-99b555ae0f73"
      },
      "outputs": [
        {
          "data": {
            "text/plain": [
              "0        75.7\n",
              "1        50.5\n",
              "2        40.5\n",
              "3        47.2\n",
              "4        49.5\n",
              "         ... \n",
              "28690    51.8\n",
              "28691    37.2\n",
              "28692    64.6\n",
              "28693    50.7\n",
              "28694    37.6\n",
              "Name: tm, Length: 28695, dtype: float64"
            ]
          },
          "execution_count": 37,
          "metadata": {},
          "output_type": "execute_result"
        }
      ],
      "source": [
        "train_y= train[\"tm\"]\n",
        "train_y"
      ]
    },
    {
      "cell_type": "code",
      "execution_count": 38,
      "metadata": {
        "colab": {
          "base_uri": "https://localhost:8080/",
          "height": 488
        },
        "id": "groIfmztCZI-",
        "outputId": "d8d6c915-5f19-4ffe-e8aa-f9b9f359315c"
      },
      "outputs": [
        {
          "data": {
            "text/html": [
              "\n",
              "  <div id=\"df-ae0b6d21-1669-4930-b729-ffb0318b8d6f\">\n",
              "    <div class=\"colab-df-container\">\n",
              "      <div>\n",
              "<style scoped>\n",
              "    .dataframe tbody tr th:only-of-type {\n",
              "        vertical-align: middle;\n",
              "    }\n",
              "\n",
              "    .dataframe tbody tr th {\n",
              "        vertical-align: top;\n",
              "    }\n",
              "\n",
              "    .dataframe thead th {\n",
              "        text-align: right;\n",
              "    }\n",
              "</style>\n",
              "<table border=\"1\" class=\"dataframe\">\n",
              "  <thead>\n",
              "    <tr style=\"text-align: right;\">\n",
              "      <th></th>\n",
              "      <th>protein_sequence</th>\n",
              "      <th>pH</th>\n",
              "      <th>tm</th>\n",
              "      <th>molecular_weight</th>\n",
              "      <th>isoelectric_point</th>\n",
              "      <th>aromaticity</th>\n",
              "      <th>instability_index</th>\n",
              "      <th>AA</th>\n",
              "      <th>AR</th>\n",
              "      <th>AN</th>\n",
              "      <th>...</th>\n",
              "      <th>VL</th>\n",
              "      <th>VK</th>\n",
              "      <th>VM</th>\n",
              "      <th>VF</th>\n",
              "      <th>VP</th>\n",
              "      <th>VS</th>\n",
              "      <th>VT</th>\n",
              "      <th>VW</th>\n",
              "      <th>VY</th>\n",
              "      <th>VV</th>\n",
              "    </tr>\n",
              "  </thead>\n",
              "  <tbody>\n",
              "    <tr>\n",
              "      <th>0</th>\n",
              "      <td>AAAAKAAALALLGEAPEVVDIWLPAGWRQPFRVFRLERKGDGVLVG...</td>\n",
              "      <td>7.0</td>\n",
              "      <td>75.7</td>\n",
              "      <td>36320.7244</td>\n",
              "      <td>6.109589</td>\n",
              "      <td>0.058651</td>\n",
              "      <td>28.389736</td>\n",
              "      <td>2.35</td>\n",
              "      <td>0.88</td>\n",
              "      <td>0.29</td>\n",
              "      <td>...</td>\n",
              "      <td>0.88</td>\n",
              "      <td>0.29</td>\n",
              "      <td>0.00</td>\n",
              "      <td>0.29</td>\n",
              "      <td>0.59</td>\n",
              "      <td>0.29</td>\n",
              "      <td>1.18</td>\n",
              "      <td>0.00</td>\n",
              "      <td>0.29</td>\n",
              "      <td>1.76</td>\n",
              "    </tr>\n",
              "    <tr>\n",
              "      <th>1</th>\n",
              "      <td>AAADGEPLHNEEERAGAGQVGRSLPQESEEQRTGSRPRRRRDLGSR...</td>\n",
              "      <td>7.0</td>\n",
              "      <td>50.5</td>\n",
              "      <td>32837.9931</td>\n",
              "      <td>5.144349</td>\n",
              "      <td>0.041958</td>\n",
              "      <td>65.108392</td>\n",
              "      <td>0.70</td>\n",
              "      <td>0.70</td>\n",
              "      <td>0.35</td>\n",
              "      <td>...</td>\n",
              "      <td>0.35</td>\n",
              "      <td>0.00</td>\n",
              "      <td>0.00</td>\n",
              "      <td>0.00</td>\n",
              "      <td>0.00</td>\n",
              "      <td>0.70</td>\n",
              "      <td>0.00</td>\n",
              "      <td>0.00</td>\n",
              "      <td>0.00</td>\n",
              "      <td>0.70</td>\n",
              "    </tr>\n",
              "    <tr>\n",
              "      <th>2</th>\n",
              "      <td>AAAFSTPRATSYRILSSAGSGSTRADAPQVRRLHTTRDLLAKDYYA...</td>\n",
              "      <td>7.0</td>\n",
              "      <td>40.5</td>\n",
              "      <td>53428.8034</td>\n",
              "      <td>9.032101</td>\n",
              "      <td>0.080483</td>\n",
              "      <td>35.089336</td>\n",
              "      <td>1.21</td>\n",
              "      <td>0.20</td>\n",
              "      <td>0.40</td>\n",
              "      <td>...</td>\n",
              "      <td>0.40</td>\n",
              "      <td>0.20</td>\n",
              "      <td>0.40</td>\n",
              "      <td>0.00</td>\n",
              "      <td>0.60</td>\n",
              "      <td>0.40</td>\n",
              "      <td>0.40</td>\n",
              "      <td>0.00</td>\n",
              "      <td>0.20</td>\n",
              "      <td>0.20</td>\n",
              "    </tr>\n",
              "    <tr>\n",
              "      <th>3</th>\n",
              "      <td>AAASGLRTAIPAQPLRHLLQPAPRPCLRPFGLLSVRAGSARRSGLL...</td>\n",
              "      <td>7.0</td>\n",
              "      <td>47.2</td>\n",
              "      <td>29475.5996</td>\n",
              "      <td>4.683840</td>\n",
              "      <td>0.071698</td>\n",
              "      <td>50.502264</td>\n",
              "      <td>0.38</td>\n",
              "      <td>0.38</td>\n",
              "      <td>0.00</td>\n",
              "      <td>...</td>\n",
              "      <td>0.38</td>\n",
              "      <td>0.38</td>\n",
              "      <td>0.00</td>\n",
              "      <td>0.00</td>\n",
              "      <td>0.38</td>\n",
              "      <td>0.38</td>\n",
              "      <td>0.76</td>\n",
              "      <td>0.00</td>\n",
              "      <td>0.00</td>\n",
              "      <td>0.38</td>\n",
              "    </tr>\n",
              "    <tr>\n",
              "      <th>4</th>\n",
              "      <td>AAATKSGPRRQSQGASVRTFTPFYFLVEPVDTLSVRGSSVILNCSA...</td>\n",
              "      <td>7.0</td>\n",
              "      <td>49.5</td>\n",
              "      <td>158761.9814</td>\n",
              "      <td>5.917928</td>\n",
              "      <td>0.065472</td>\n",
              "      <td>45.668808</td>\n",
              "      <td>0.28</td>\n",
              "      <td>0.14</td>\n",
              "      <td>0.34</td>\n",
              "      <td>...</td>\n",
              "      <td>0.34</td>\n",
              "      <td>0.48</td>\n",
              "      <td>0.21</td>\n",
              "      <td>0.28</td>\n",
              "      <td>0.62</td>\n",
              "      <td>0.55</td>\n",
              "      <td>0.83</td>\n",
              "      <td>0.00</td>\n",
              "      <td>0.14</td>\n",
              "      <td>0.90</td>\n",
              "    </tr>\n",
              "    <tr>\n",
              "      <th>...</th>\n",
              "      <td>...</td>\n",
              "      <td>...</td>\n",
              "      <td>...</td>\n",
              "      <td>...</td>\n",
              "      <td>...</td>\n",
              "      <td>...</td>\n",
              "      <td>...</td>\n",
              "      <td>...</td>\n",
              "      <td>...</td>\n",
              "      <td>...</td>\n",
              "      <td>...</td>\n",
              "      <td>...</td>\n",
              "      <td>...</td>\n",
              "      <td>...</td>\n",
              "      <td>...</td>\n",
              "      <td>...</td>\n",
              "      <td>...</td>\n",
              "      <td>...</td>\n",
              "      <td>...</td>\n",
              "      <td>...</td>\n",
              "      <td>...</td>\n",
              "    </tr>\n",
              "    <tr>\n",
              "      <th>28690</th>\n",
              "      <td>YYMYSGGGSALAAGGGGAGRKGDWNDIDSIKKKDLHHSRGDEKAQG...</td>\n",
              "      <td>7.0</td>\n",
              "      <td>51.8</td>\n",
              "      <td>61997.6230</td>\n",
              "      <td>8.466327</td>\n",
              "      <td>0.089253</td>\n",
              "      <td>48.604026</td>\n",
              "      <td>0.73</td>\n",
              "      <td>0.73</td>\n",
              "      <td>0.00</td>\n",
              "      <td>...</td>\n",
              "      <td>0.55</td>\n",
              "      <td>0.18</td>\n",
              "      <td>0.18</td>\n",
              "      <td>0.55</td>\n",
              "      <td>0.55</td>\n",
              "      <td>0.36</td>\n",
              "      <td>0.00</td>\n",
              "      <td>0.55</td>\n",
              "      <td>0.18</td>\n",
              "      <td>0.91</td>\n",
              "    </tr>\n",
              "    <tr>\n",
              "      <th>28691</th>\n",
              "      <td>YYNDQHRLSSYSVETAMFLSWERAIVKPGAMFKKAVIGFNCNVDLI...</td>\n",
              "      <td>7.0</td>\n",
              "      <td>37.2</td>\n",
              "      <td>52637.6897</td>\n",
              "      <td>6.532244</td>\n",
              "      <td>0.087420</td>\n",
              "      <td>35.285096</td>\n",
              "      <td>1.07</td>\n",
              "      <td>0.21</td>\n",
              "      <td>0.85</td>\n",
              "      <td>...</td>\n",
              "      <td>0.64</td>\n",
              "      <td>0.43</td>\n",
              "      <td>0.21</td>\n",
              "      <td>0.21</td>\n",
              "      <td>0.21</td>\n",
              "      <td>0.43</td>\n",
              "      <td>0.00</td>\n",
              "      <td>0.00</td>\n",
              "      <td>0.21</td>\n",
              "      <td>0.85</td>\n",
              "    </tr>\n",
              "    <tr>\n",
              "      <th>28692</th>\n",
              "      <td>YYQRTLGAELLYKISFGEMPKSAQDSAENCPSGMQFPDTAIAHANV...</td>\n",
              "      <td>7.0</td>\n",
              "      <td>64.6</td>\n",
              "      <td>14203.9225</td>\n",
              "      <td>5.271214</td>\n",
              "      <td>0.117188</td>\n",
              "      <td>44.198437</td>\n",
              "      <td>0.79</td>\n",
              "      <td>0.00</td>\n",
              "      <td>1.57</td>\n",
              "      <td>...</td>\n",
              "      <td>0.79</td>\n",
              "      <td>0.79</td>\n",
              "      <td>0.00</td>\n",
              "      <td>0.00</td>\n",
              "      <td>0.79</td>\n",
              "      <td>0.00</td>\n",
              "      <td>0.79</td>\n",
              "      <td>0.00</td>\n",
              "      <td>0.00</td>\n",
              "      <td>0.79</td>\n",
              "    </tr>\n",
              "    <tr>\n",
              "      <th>28693</th>\n",
              "      <td>YYSFSDNITTVFLSRQAIDDDHSLSLGTISDVVESENGVVAADDAR...</td>\n",
              "      <td>7.0</td>\n",
              "      <td>50.7</td>\n",
              "      <td>64367.8724</td>\n",
              "      <td>5.688128</td>\n",
              "      <td>0.074199</td>\n",
              "      <td>36.618398</td>\n",
              "      <td>1.01</td>\n",
              "      <td>0.68</td>\n",
              "      <td>0.00</td>\n",
              "      <td>...</td>\n",
              "      <td>1.01</td>\n",
              "      <td>0.34</td>\n",
              "      <td>0.34</td>\n",
              "      <td>0.51</td>\n",
              "      <td>0.17</td>\n",
              "      <td>0.84</td>\n",
              "      <td>0.34</td>\n",
              "      <td>0.00</td>\n",
              "      <td>0.17</td>\n",
              "      <td>1.01</td>\n",
              "    </tr>\n",
              "    <tr>\n",
              "      <th>28694</th>\n",
              "      <td>YYVPDEYWQSLEVAHKLTFGYGYLTWEWVQGIRSYVYPLLIAGLYK...</td>\n",
              "      <td>7.0</td>\n",
              "      <td>37.6</td>\n",
              "      <td>62272.3908</td>\n",
              "      <td>7.139853</td>\n",
              "      <td>0.135940</td>\n",
              "      <td>43.210838</td>\n",
              "      <td>0.37</td>\n",
              "      <td>0.19</td>\n",
              "      <td>0.56</td>\n",
              "      <td>...</td>\n",
              "      <td>1.31</td>\n",
              "      <td>0.19</td>\n",
              "      <td>0.37</td>\n",
              "      <td>0.19</td>\n",
              "      <td>0.37</td>\n",
              "      <td>0.37</td>\n",
              "      <td>0.56</td>\n",
              "      <td>0.19</td>\n",
              "      <td>0.37</td>\n",
              "      <td>0.56</td>\n",
              "    </tr>\n",
              "  </tbody>\n",
              "</table>\n",
              "<p>28695 rows × 407 columns</p>\n",
              "</div>\n",
              "      <button class=\"colab-df-convert\" onclick=\"convertToInteractive('df-ae0b6d21-1669-4930-b729-ffb0318b8d6f')\"\n",
              "              title=\"Convert this dataframe to an interactive table.\"\n",
              "              style=\"display:none;\">\n",
              "        \n",
              "  <svg xmlns=\"http://www.w3.org/2000/svg\" height=\"24px\"viewBox=\"0 0 24 24\"\n",
              "       width=\"24px\">\n",
              "    <path d=\"M0 0h24v24H0V0z\" fill=\"none\"/>\n",
              "    <path d=\"M18.56 5.44l.94 2.06.94-2.06 2.06-.94-2.06-.94-.94-2.06-.94 2.06-2.06.94zm-11 1L8.5 8.5l.94-2.06 2.06-.94-2.06-.94L8.5 2.5l-.94 2.06-2.06.94zm10 10l.94 2.06.94-2.06 2.06-.94-2.06-.94-.94-2.06-.94 2.06-2.06.94z\"/><path d=\"M17.41 7.96l-1.37-1.37c-.4-.4-.92-.59-1.43-.59-.52 0-1.04.2-1.43.59L10.3 9.45l-7.72 7.72c-.78.78-.78 2.05 0 2.83L4 21.41c.39.39.9.59 1.41.59.51 0 1.02-.2 1.41-.59l7.78-7.78 2.81-2.81c.8-.78.8-2.07 0-2.86zM5.41 20L4 18.59l7.72-7.72 1.47 1.35L5.41 20z\"/>\n",
              "  </svg>\n",
              "      </button>\n",
              "      \n",
              "  <style>\n",
              "    .colab-df-container {\n",
              "      display:flex;\n",
              "      flex-wrap:wrap;\n",
              "      gap: 12px;\n",
              "    }\n",
              "\n",
              "    .colab-df-convert {\n",
              "      background-color: #E8F0FE;\n",
              "      border: none;\n",
              "      border-radius: 50%;\n",
              "      cursor: pointer;\n",
              "      display: none;\n",
              "      fill: #1967D2;\n",
              "      height: 32px;\n",
              "      padding: 0 0 0 0;\n",
              "      width: 32px;\n",
              "    }\n",
              "\n",
              "    .colab-df-convert:hover {\n",
              "      background-color: #E2EBFA;\n",
              "      box-shadow: 0px 1px 2px rgba(60, 64, 67, 0.3), 0px 1px 3px 1px rgba(60, 64, 67, 0.15);\n",
              "      fill: #174EA6;\n",
              "    }\n",
              "\n",
              "    [theme=dark] .colab-df-convert {\n",
              "      background-color: #3B4455;\n",
              "      fill: #D2E3FC;\n",
              "    }\n",
              "\n",
              "    [theme=dark] .colab-df-convert:hover {\n",
              "      background-color: #434B5C;\n",
              "      box-shadow: 0px 1px 3px 1px rgba(0, 0, 0, 0.15);\n",
              "      filter: drop-shadow(0px 1px 2px rgba(0, 0, 0, 0.3));\n",
              "      fill: #FFFFFF;\n",
              "    }\n",
              "  </style>\n",
              "\n",
              "      <script>\n",
              "        const buttonEl =\n",
              "          document.querySelector('#df-ae0b6d21-1669-4930-b729-ffb0318b8d6f button.colab-df-convert');\n",
              "        buttonEl.style.display =\n",
              "          google.colab.kernel.accessAllowed ? 'block' : 'none';\n",
              "\n",
              "        async function convertToInteractive(key) {\n",
              "          const element = document.querySelector('#df-ae0b6d21-1669-4930-b729-ffb0318b8d6f');\n",
              "          const dataTable =\n",
              "            await google.colab.kernel.invokeFunction('convertToInteractive',\n",
              "                                                     [key], {});\n",
              "          if (!dataTable) return;\n",
              "\n",
              "          const docLinkHtml = 'Like what you see? Visit the ' +\n",
              "            '<a target=\"_blank\" href=https://colab.research.google.com/notebooks/data_table.ipynb>data table notebook</a>'\n",
              "            + ' to learn more about interactive tables.';\n",
              "          element.innerHTML = '';\n",
              "          dataTable['output_type'] = 'display_data';\n",
              "          await google.colab.output.renderOutput(dataTable, element);\n",
              "          const docLink = document.createElement('div');\n",
              "          docLink.innerHTML = docLinkHtml;\n",
              "          element.appendChild(docLink);\n",
              "        }\n",
              "      </script>\n",
              "    </div>\n",
              "  </div>\n",
              "  "
            ],
            "text/plain": [
              "                                        protein_sequence   pH    tm  \\\n",
              "0      AAAAKAAALALLGEAPEVVDIWLPAGWRQPFRVFRLERKGDGVLVG...  7.0  75.7   \n",
              "1      AAADGEPLHNEEERAGAGQVGRSLPQESEEQRTGSRPRRRRDLGSR...  7.0  50.5   \n",
              "2      AAAFSTPRATSYRILSSAGSGSTRADAPQVRRLHTTRDLLAKDYYA...  7.0  40.5   \n",
              "3      AAASGLRTAIPAQPLRHLLQPAPRPCLRPFGLLSVRAGSARRSGLL...  7.0  47.2   \n",
              "4      AAATKSGPRRQSQGASVRTFTPFYFLVEPVDTLSVRGSSVILNCSA...  7.0  49.5   \n",
              "...                                                  ...  ...   ...   \n",
              "28690  YYMYSGGGSALAAGGGGAGRKGDWNDIDSIKKKDLHHSRGDEKAQG...  7.0  51.8   \n",
              "28691  YYNDQHRLSSYSVETAMFLSWERAIVKPGAMFKKAVIGFNCNVDLI...  7.0  37.2   \n",
              "28692  YYQRTLGAELLYKISFGEMPKSAQDSAENCPSGMQFPDTAIAHANV...  7.0  64.6   \n",
              "28693  YYSFSDNITTVFLSRQAIDDDHSLSLGTISDVVESENGVVAADDAR...  7.0  50.7   \n",
              "28694  YYVPDEYWQSLEVAHKLTFGYGYLTWEWVQGIRSYVYPLLIAGLYK...  7.0  37.6   \n",
              "\n",
              "       molecular_weight  isoelectric_point  aromaticity  instability_index  \\\n",
              "0            36320.7244           6.109589     0.058651          28.389736   \n",
              "1            32837.9931           5.144349     0.041958          65.108392   \n",
              "2            53428.8034           9.032101     0.080483          35.089336   \n",
              "3            29475.5996           4.683840     0.071698          50.502264   \n",
              "4           158761.9814           5.917928     0.065472          45.668808   \n",
              "...                 ...                ...          ...                ...   \n",
              "28690        61997.6230           8.466327     0.089253          48.604026   \n",
              "28691        52637.6897           6.532244     0.087420          35.285096   \n",
              "28692        14203.9225           5.271214     0.117188          44.198437   \n",
              "28693        64367.8724           5.688128     0.074199          36.618398   \n",
              "28694        62272.3908           7.139853     0.135940          43.210838   \n",
              "\n",
              "         AA    AR    AN  ...    VL    VK    VM    VF    VP    VS    VT    VW  \\\n",
              "0      2.35  0.88  0.29  ...  0.88  0.29  0.00  0.29  0.59  0.29  1.18  0.00   \n",
              "1      0.70  0.70  0.35  ...  0.35  0.00  0.00  0.00  0.00  0.70  0.00  0.00   \n",
              "2      1.21  0.20  0.40  ...  0.40  0.20  0.40  0.00  0.60  0.40  0.40  0.00   \n",
              "3      0.38  0.38  0.00  ...  0.38  0.38  0.00  0.00  0.38  0.38  0.76  0.00   \n",
              "4      0.28  0.14  0.34  ...  0.34  0.48  0.21  0.28  0.62  0.55  0.83  0.00   \n",
              "...     ...   ...   ...  ...   ...   ...   ...   ...   ...   ...   ...   ...   \n",
              "28690  0.73  0.73  0.00  ...  0.55  0.18  0.18  0.55  0.55  0.36  0.00  0.55   \n",
              "28691  1.07  0.21  0.85  ...  0.64  0.43  0.21  0.21  0.21  0.43  0.00  0.00   \n",
              "28692  0.79  0.00  1.57  ...  0.79  0.79  0.00  0.00  0.79  0.00  0.79  0.00   \n",
              "28693  1.01  0.68  0.00  ...  1.01  0.34  0.34  0.51  0.17  0.84  0.34  0.00   \n",
              "28694  0.37  0.19  0.56  ...  1.31  0.19  0.37  0.19  0.37  0.37  0.56  0.19   \n",
              "\n",
              "         VY    VV  \n",
              "0      0.29  1.76  \n",
              "1      0.00  0.70  \n",
              "2      0.20  0.20  \n",
              "3      0.00  0.38  \n",
              "4      0.14  0.90  \n",
              "...     ...   ...  \n",
              "28690  0.18  0.91  \n",
              "28691  0.21  0.85  \n",
              "28692  0.00  0.79  \n",
              "28693  0.17  1.01  \n",
              "28694  0.37  0.56  \n",
              "\n",
              "[28695 rows x 407 columns]"
            ]
          },
          "execution_count": 38,
          "metadata": {},
          "output_type": "execute_result"
        }
      ],
      "source": [
        "train_dataset"
      ]
    },
    {
      "cell_type": "markdown",
      "metadata": {
        "id": "PdbAGaA3D7kV"
      },
      "source": [
        "Conclusao "
      ]
    },
    {
      "cell_type": "markdown",
      "metadata": {
        "id": "bBemIyLbGLfq"
      },
      "source": [
        "<a class=\"anchor\" id=\"section2_5\"></a>\n",
        "\n",
        "### 2.5 Embedding\n",
        "\n",
        "An embedding is a relativly low dimensional space into which can be translated into a high-dimensional \n",
        "vectors. This type of preprocessing make it easier to do machine learning on large inputs like sparse vectors representing protein sequences."
      ]
    },
    {
      "cell_type": "markdown",
      "metadata": {
        "id": "u8Jd0hpdvDsO"
      },
      "source": [
        "#### SGT Embedding\n",
        "\n",
        "https://github.com/cran2367/sgt.git\n",
        "\n",
        "this type of embedding embeds long patterns, thin this case long protein patterns, into a finite dimension vector. The main advantage of SGT is that the long and short term patterns embedded in SGT can be tuned without any increase in the computation.\n",
        "\n",
        "\n",
        "kappa -->         Tuning parameter, kappa > 0, to change the extraction of \n",
        "                    long-term dependency. Higher the value the lesser\n",
        "                    the long-term dependency captured in the embedding.\n",
        "                    Typical values for kappa are 1, 5, 10.\n",
        "                    \n",
        "lengthsensitive -->  Default false. This is set to true if the embedding of\n",
        "                    should have the information of the length of the sequence.\n",
        "                    If set to false then the embedding of two sequences with\n",
        "                    similar pattern but different lengths will be the same.\n",
        "                    lengthsensitive = false is similar to length-normalization.\n"
      ]
    },
    {
      "cell_type": "code",
      "execution_count": null,
      "metadata": {
        "colab": {
          "base_uri": "https://localhost:8080/",
          "height": 112
        },
        "id": "c6Ma8OHzvopd",
        "outputId": "f484277d-3641-4fe0-9b8e-52f995481c76"
      },
      "outputs": [
        {
          "data": {
            "text/html": [
              "\n",
              "  <div id=\"df-6463a835-b10d-4c88-badb-341b1ec84555\">\n",
              "    <div class=\"colab-df-container\">\n",
              "      <div>\n",
              "<style scoped>\n",
              "    .dataframe tbody tr th:only-of-type {\n",
              "        vertical-align: middle;\n",
              "    }\n",
              "\n",
              "    .dataframe tbody tr th {\n",
              "        vertical-align: top;\n",
              "    }\n",
              "\n",
              "    .dataframe thead th {\n",
              "        text-align: right;\n",
              "    }\n",
              "</style>\n",
              "<table border=\"1\" class=\"dataframe\">\n",
              "  <thead>\n",
              "    <tr style=\"text-align: right;\">\n",
              "      <th></th>\n",
              "      <th>id</th>\n",
              "      <th>sequence</th>\n",
              "    </tr>\n",
              "    <tr>\n",
              "      <th>seq_id</th>\n",
              "      <th></th>\n",
              "      <th></th>\n",
              "    </tr>\n",
              "  </thead>\n",
              "  <tbody>\n",
              "    <tr>\n",
              "      <th>22237</th>\n",
              "      <td>20120</td>\n",
              "      <td>[M, R, P, H, R, A, F, S, P, G, L, T, G, V, L, ...</td>\n",
              "    </tr>\n",
              "  </tbody>\n",
              "</table>\n",
              "</div>\n",
              "      <button class=\"colab-df-convert\" onclick=\"convertToInteractive('df-6463a835-b10d-4c88-badb-341b1ec84555')\"\n",
              "              title=\"Convert this dataframe to an interactive table.\"\n",
              "              style=\"display:none;\">\n",
              "        \n",
              "  <svg xmlns=\"http://www.w3.org/2000/svg\" height=\"24px\"viewBox=\"0 0 24 24\"\n",
              "       width=\"24px\">\n",
              "    <path d=\"M0 0h24v24H0V0z\" fill=\"none\"/>\n",
              "    <path d=\"M18.56 5.44l.94 2.06.94-2.06 2.06-.94-2.06-.94-.94-2.06-.94 2.06-2.06.94zm-11 1L8.5 8.5l.94-2.06 2.06-.94-2.06-.94L8.5 2.5l-.94 2.06-2.06.94zm10 10l.94 2.06.94-2.06 2.06-.94-2.06-.94-.94-2.06-.94 2.06-2.06.94z\"/><path d=\"M17.41 7.96l-1.37-1.37c-.4-.4-.92-.59-1.43-.59-.52 0-1.04.2-1.43.59L10.3 9.45l-7.72 7.72c-.78.78-.78 2.05 0 2.83L4 21.41c.39.39.9.59 1.41.59.51 0 1.02-.2 1.41-.59l7.78-7.78 2.81-2.81c.8-.78.8-2.07 0-2.86zM5.41 20L4 18.59l7.72-7.72 1.47 1.35L5.41 20z\"/>\n",
              "  </svg>\n",
              "      </button>\n",
              "      \n",
              "  <style>\n",
              "    .colab-df-container {\n",
              "      display:flex;\n",
              "      flex-wrap:wrap;\n",
              "      gap: 12px;\n",
              "    }\n",
              "\n",
              "    .colab-df-convert {\n",
              "      background-color: #E8F0FE;\n",
              "      border: none;\n",
              "      border-radius: 50%;\n",
              "      cursor: pointer;\n",
              "      display: none;\n",
              "      fill: #1967D2;\n",
              "      height: 32px;\n",
              "      padding: 0 0 0 0;\n",
              "      width: 32px;\n",
              "    }\n",
              "\n",
              "    .colab-df-convert:hover {\n",
              "      background-color: #E2EBFA;\n",
              "      box-shadow: 0px 1px 2px rgba(60, 64, 67, 0.3), 0px 1px 3px 1px rgba(60, 64, 67, 0.15);\n",
              "      fill: #174EA6;\n",
              "    }\n",
              "\n",
              "    [theme=dark] .colab-df-convert {\n",
              "      background-color: #3B4455;\n",
              "      fill: #D2E3FC;\n",
              "    }\n",
              "\n",
              "    [theme=dark] .colab-df-convert:hover {\n",
              "      background-color: #434B5C;\n",
              "      box-shadow: 0px 1px 3px 1px rgba(0, 0, 0, 0.15);\n",
              "      filter: drop-shadow(0px 1px 2px rgba(0, 0, 0, 0.3));\n",
              "      fill: #FFFFFF;\n",
              "    }\n",
              "  </style>\n",
              "\n",
              "      <script>\n",
              "        const buttonEl =\n",
              "          document.querySelector('#df-6463a835-b10d-4c88-badb-341b1ec84555 button.colab-df-convert');\n",
              "        buttonEl.style.display =\n",
              "          google.colab.kernel.accessAllowed ? 'block' : 'none';\n",
              "\n",
              "        async function convertToInteractive(key) {\n",
              "          const element = document.querySelector('#df-6463a835-b10d-4c88-badb-341b1ec84555');\n",
              "          const dataTable =\n",
              "            await google.colab.kernel.invokeFunction('convertToInteractive',\n",
              "                                                     [key], {});\n",
              "          if (!dataTable) return;\n",
              "\n",
              "          const docLinkHtml = 'Like what you see? Visit the ' +\n",
              "            '<a target=\"_blank\" href=https://colab.research.google.com/notebooks/data_table.ipynb>data table notebook</a>'\n",
              "            + ' to learn more about interactive tables.';\n",
              "          element.innerHTML = '';\n",
              "          dataTable['output_type'] = 'display_data';\n",
              "          await google.colab.output.renderOutput(dataTable, element);\n",
              "          const docLink = document.createElement('div');\n",
              "          docLink.innerHTML = docLinkHtml;\n",
              "          element.appendChild(docLink);\n",
              "        }\n",
              "      </script>\n",
              "    </div>\n",
              "  </div>\n",
              "  "
            ],
            "text/plain": [
              "           id                                           sequence\n",
              "seq_id                                                          \n",
              "22237   20120  [M, R, P, H, R, A, F, S, P, G, L, T, G, V, L, ..."
            ]
          },
          "execution_count": 65,
          "metadata": {},
          "output_type": "execute_result"
        }
      ],
      "source": [
        "#Get protein sequence with seq_id \n",
        "corpus= train.copy()\n",
        "corpus['protein_sequence'] = corpus['protein_sequence'].map(list)\n",
        "ids= np.array([i for i in range(len(corpus['protein_sequence']))])\n",
        "corpus=corpus[['protein_sequence']]\n",
        "corpus.insert(0, 'ids', ids)\n",
        "corpus.columns = ['id', 'sequence']\n",
        "corpus.sample(1)"
      ]
    },
    {
      "cell_type": "code",
      "execution_count": null,
      "metadata": {
        "colab": {
          "base_uri": "https://localhost:8080/",
          "height": 240
        },
        "id": "bNLTJV-O04C5",
        "outputId": "4892fca8-bcd9-4636-e7f3-c70b7680636a"
      },
      "outputs": [
        {
          "name": "stdout",
          "output_type": "stream",
          "text": [
            "INFO: Pandarallel will run on 1 workers.\n",
            "INFO: Pandarallel will use Memory file system to transfer data between the main process and workers.\n"
          ]
        },
        {
          "data": {
            "text/html": [
              "\n",
              "  <div id=\"df-97c28d98-8808-4355-9618-f954a905e7b3\">\n",
              "    <div class=\"colab-df-container\">\n",
              "      <div>\n",
              "<style scoped>\n",
              "    .dataframe tbody tr th:only-of-type {\n",
              "        vertical-align: middle;\n",
              "    }\n",
              "\n",
              "    .dataframe tbody tr th {\n",
              "        vertical-align: top;\n",
              "    }\n",
              "\n",
              "    .dataframe thead th {\n",
              "        text-align: right;\n",
              "    }\n",
              "</style>\n",
              "<table border=\"1\" class=\"dataframe\">\n",
              "  <thead>\n",
              "    <tr style=\"text-align: right;\">\n",
              "      <th></th>\n",
              "      <th>id</th>\n",
              "      <th>(A, A)</th>\n",
              "      <th>(A, C)</th>\n",
              "      <th>(A, D)</th>\n",
              "      <th>(A, E)</th>\n",
              "      <th>(A, F)</th>\n",
              "      <th>(A, G)</th>\n",
              "      <th>(A, H)</th>\n",
              "      <th>(A, I)</th>\n",
              "      <th>(A, K)</th>\n",
              "      <th>...</th>\n",
              "      <th>(Y, M)</th>\n",
              "      <th>(Y, N)</th>\n",
              "      <th>(Y, P)</th>\n",
              "      <th>(Y, Q)</th>\n",
              "      <th>(Y, R)</th>\n",
              "      <th>(Y, S)</th>\n",
              "      <th>(Y, T)</th>\n",
              "      <th>(Y, V)</th>\n",
              "      <th>(Y, W)</th>\n",
              "      <th>(Y, Y)</th>\n",
              "    </tr>\n",
              "    <tr>\n",
              "      <th>seq_id</th>\n",
              "      <th></th>\n",
              "      <th></th>\n",
              "      <th></th>\n",
              "      <th></th>\n",
              "      <th></th>\n",
              "      <th></th>\n",
              "      <th></th>\n",
              "      <th></th>\n",
              "      <th></th>\n",
              "      <th></th>\n",
              "      <th></th>\n",
              "      <th></th>\n",
              "      <th></th>\n",
              "      <th></th>\n",
              "      <th></th>\n",
              "      <th></th>\n",
              "      <th></th>\n",
              "      <th></th>\n",
              "      <th></th>\n",
              "      <th></th>\n",
              "      <th></th>\n",
              "    </tr>\n",
              "  </thead>\n",
              "  <tbody>\n",
              "    <tr>\n",
              "      <th>7765</th>\n",
              "      <td>7491</td>\n",
              "      <td>0.000214</td>\n",
              "      <td>0.002607</td>\n",
              "      <td>0.002735</td>\n",
              "      <td>0.00325</td>\n",
              "      <td>0.003435</td>\n",
              "      <td>0.002003</td>\n",
              "      <td>0.000308</td>\n",
              "      <td>0.002719</td>\n",
              "      <td>0.002741</td>\n",
              "      <td>...</td>\n",
              "      <td>0.000009</td>\n",
              "      <td>0.00039</td>\n",
              "      <td>0.003867</td>\n",
              "      <td>2.933070e-07</td>\n",
              "      <td>0.000143</td>\n",
              "      <td>0.000006</td>\n",
              "      <td>0.000257</td>\n",
              "      <td>0.001749</td>\n",
              "      <td>1.900573e-11</td>\n",
              "      <td>1.053209e-21</td>\n",
              "    </tr>\n",
              "  </tbody>\n",
              "</table>\n",
              "<p>1 rows × 401 columns</p>\n",
              "</div>\n",
              "      <button class=\"colab-df-convert\" onclick=\"convertToInteractive('df-97c28d98-8808-4355-9618-f954a905e7b3')\"\n",
              "              title=\"Convert this dataframe to an interactive table.\"\n",
              "              style=\"display:none;\">\n",
              "        \n",
              "  <svg xmlns=\"http://www.w3.org/2000/svg\" height=\"24px\"viewBox=\"0 0 24 24\"\n",
              "       width=\"24px\">\n",
              "    <path d=\"M0 0h24v24H0V0z\" fill=\"none\"/>\n",
              "    <path d=\"M18.56 5.44l.94 2.06.94-2.06 2.06-.94-2.06-.94-.94-2.06-.94 2.06-2.06.94zm-11 1L8.5 8.5l.94-2.06 2.06-.94-2.06-.94L8.5 2.5l-.94 2.06-2.06.94zm10 10l.94 2.06.94-2.06 2.06-.94-2.06-.94-.94-2.06-.94 2.06-2.06.94z\"/><path d=\"M17.41 7.96l-1.37-1.37c-.4-.4-.92-.59-1.43-.59-.52 0-1.04.2-1.43.59L10.3 9.45l-7.72 7.72c-.78.78-.78 2.05 0 2.83L4 21.41c.39.39.9.59 1.41.59.51 0 1.02-.2 1.41-.59l7.78-7.78 2.81-2.81c.8-.78.8-2.07 0-2.86zM5.41 20L4 18.59l7.72-7.72 1.47 1.35L5.41 20z\"/>\n",
              "  </svg>\n",
              "      </button>\n",
              "      \n",
              "  <style>\n",
              "    .colab-df-container {\n",
              "      display:flex;\n",
              "      flex-wrap:wrap;\n",
              "      gap: 12px;\n",
              "    }\n",
              "\n",
              "    .colab-df-convert {\n",
              "      background-color: #E8F0FE;\n",
              "      border: none;\n",
              "      border-radius: 50%;\n",
              "      cursor: pointer;\n",
              "      display: none;\n",
              "      fill: #1967D2;\n",
              "      height: 32px;\n",
              "      padding: 0 0 0 0;\n",
              "      width: 32px;\n",
              "    }\n",
              "\n",
              "    .colab-df-convert:hover {\n",
              "      background-color: #E2EBFA;\n",
              "      box-shadow: 0px 1px 2px rgba(60, 64, 67, 0.3), 0px 1px 3px 1px rgba(60, 64, 67, 0.15);\n",
              "      fill: #174EA6;\n",
              "    }\n",
              "\n",
              "    [theme=dark] .colab-df-convert {\n",
              "      background-color: #3B4455;\n",
              "      fill: #D2E3FC;\n",
              "    }\n",
              "\n",
              "    [theme=dark] .colab-df-convert:hover {\n",
              "      background-color: #434B5C;\n",
              "      box-shadow: 0px 1px 3px 1px rgba(0, 0, 0, 0.15);\n",
              "      filter: drop-shadow(0px 1px 2px rgba(0, 0, 0, 0.3));\n",
              "      fill: #FFFFFF;\n",
              "    }\n",
              "  </style>\n",
              "\n",
              "      <script>\n",
              "        const buttonEl =\n",
              "          document.querySelector('#df-97c28d98-8808-4355-9618-f954a905e7b3 button.colab-df-convert');\n",
              "        buttonEl.style.display =\n",
              "          google.colab.kernel.accessAllowed ? 'block' : 'none';\n",
              "\n",
              "        async function convertToInteractive(key) {\n",
              "          const element = document.querySelector('#df-97c28d98-8808-4355-9618-f954a905e7b3');\n",
              "          const dataTable =\n",
              "            await google.colab.kernel.invokeFunction('convertToInteractive',\n",
              "                                                     [key], {});\n",
              "          if (!dataTable) return;\n",
              "\n",
              "          const docLinkHtml = 'Like what you see? Visit the ' +\n",
              "            '<a target=\"_blank\" href=https://colab.research.google.com/notebooks/data_table.ipynb>data table notebook</a>'\n",
              "            + ' to learn more about interactive tables.';\n",
              "          element.innerHTML = '';\n",
              "          dataTable['output_type'] = 'display_data';\n",
              "          await google.colab.output.renderOutput(dataTable, element);\n",
              "          const docLink = document.createElement('div');\n",
              "          docLink.innerHTML = docLinkHtml;\n",
              "          element.appendChild(docLink);\n",
              "        }\n",
              "      </script>\n",
              "    </div>\n",
              "  </div>\n",
              "  "
            ],
            "text/plain": [
              "          id    (A, A)    (A, C)    (A, D)   (A, E)    (A, F)    (A, G)  \\\n",
              "seq_id                                                                    \n",
              "7765    7491  0.000214  0.002607  0.002735  0.00325  0.003435  0.002003   \n",
              "\n",
              "          (A, H)    (A, I)    (A, K)  ...    (Y, M)   (Y, N)    (Y, P)  \\\n",
              "seq_id                                ...                                \n",
              "7765    0.000308  0.002719  0.002741  ...  0.000009  0.00039  0.003867   \n",
              "\n",
              "              (Y, Q)    (Y, R)    (Y, S)    (Y, T)    (Y, V)        (Y, W)  \\\n",
              "seq_id                                                                       \n",
              "7765    2.933070e-07  0.000143  0.000006  0.000257  0.001749  1.900573e-11   \n",
              "\n",
              "              (Y, Y)  \n",
              "seq_id                \n",
              "7765    1.053209e-21  \n",
              "\n",
              "[1 rows x 401 columns]"
            ]
          },
          "execution_count": 68,
          "metadata": {},
          "output_type": "execute_result"
        }
      ],
      "source": [
        "sgt = SGT(kappa=1, \n",
        "           lengthsensitive=False, \n",
        "           mode='multiprocessing')\n",
        "embeddings = sgt.fit_transform(corpus)\n",
        "embeddings.sample()\n",
        "\n",
        "embeddings['id'] = embeddings['id'].astype('int32')\n",
        "embeddings.sample()"
      ]
    },
    {
      "cell_type": "code",
      "execution_count": null,
      "metadata": {
        "id": "8GGEyO-c1E54"
      },
      "outputs": [],
      "source": [
        "train_dataset_embedding = train.join(embeddings)"
      ]
    },
    {
      "cell_type": "markdown",
      "metadata": {
        "id": "Krromf_YGZ2Q"
      },
      "source": [
        "<a class=\"anchor\" id=\"section2_6\"></a>\n",
        "\n",
        "### 2.6 Preprocessing"
      ]
    },
    {
      "cell_type": "markdown",
      "metadata": {
        "id": "c7IlZ8mcMdtI"
      },
      "source": [
        "Here, the `protein_sequence` column has been deleted, since it is a qualitative variable and cannot be used for data preprocessing. The `tm` column was also removed because it is the target variable that we want to predict in the following analysis.\n",
        "\n",
        "To make the data internally consistent, it was standardized with the scale function of the sklearn package.\n",
        "\n",
        "After standardizing the data, the dataset was divided into:\n",
        "- train, with 70% of the samples\n",
        "- test, with 30% of the samples\n",
        "\n",
        "For this division, a permutation of the data was performed so that the data have a similar representation in the training and test dataset."
      ]
    },
    {
      "cell_type": "code",
      "execution_count": 39,
      "metadata": {
        "id": "1DLhvVQRsNFE"
      },
      "outputs": [],
      "source": [
        "train_dataset= train_dataset.drop(columns= [\"protein_sequence\",\"tm\"])"
      ]
    },
    {
      "cell_type": "code",
      "execution_count": 44,
      "metadata": {
        "id": "ygcRy5zi1u6m"
      },
      "outputs": [],
      "source": [
        "# train_dataset_embedding= train_dataset_embedding.drop(columns=[\"protein_sequence\"])"
      ]
    },
    {
      "cell_type": "code",
      "execution_count": 45,
      "metadata": {
        "colab": {
          "base_uri": "https://localhost:8080/",
          "height": 424
        },
        "id": "bjmrCYapICDw",
        "outputId": "a56eff63-ace0-4331-f411-d0825fe80ea0"
      },
      "outputs": [
        {
          "data": {
            "text/html": [
              "\n",
              "  <div id=\"df-8df116dd-af3c-4bfd-88ad-ec448c7dd1a1\">\n",
              "    <div class=\"colab-df-container\">\n",
              "      <div>\n",
              "<style scoped>\n",
              "    .dataframe tbody tr th:only-of-type {\n",
              "        vertical-align: middle;\n",
              "    }\n",
              "\n",
              "    .dataframe tbody tr th {\n",
              "        vertical-align: top;\n",
              "    }\n",
              "\n",
              "    .dataframe thead th {\n",
              "        text-align: right;\n",
              "    }\n",
              "</style>\n",
              "<table border=\"1\" class=\"dataframe\">\n",
              "  <thead>\n",
              "    <tr style=\"text-align: right;\">\n",
              "      <th></th>\n",
              "      <th>pH</th>\n",
              "      <th>molecular_weight</th>\n",
              "      <th>isoelectric_point</th>\n",
              "      <th>aromaticity</th>\n",
              "      <th>instability_index</th>\n",
              "      <th>AA</th>\n",
              "      <th>AR</th>\n",
              "      <th>AN</th>\n",
              "      <th>AD</th>\n",
              "      <th>AC</th>\n",
              "      <th>...</th>\n",
              "      <th>VL</th>\n",
              "      <th>VK</th>\n",
              "      <th>VM</th>\n",
              "      <th>VF</th>\n",
              "      <th>VP</th>\n",
              "      <th>VS</th>\n",
              "      <th>VT</th>\n",
              "      <th>VW</th>\n",
              "      <th>VY</th>\n",
              "      <th>VV</th>\n",
              "    </tr>\n",
              "  </thead>\n",
              "  <tbody>\n",
              "    <tr>\n",
              "      <th>0</th>\n",
              "      <td>7.0</td>\n",
              "      <td>36320.7244</td>\n",
              "      <td>6.109589</td>\n",
              "      <td>0.058651</td>\n",
              "      <td>28.389736</td>\n",
              "      <td>2.35</td>\n",
              "      <td>0.88</td>\n",
              "      <td>0.29</td>\n",
              "      <td>0.29</td>\n",
              "      <td>0.00</td>\n",
              "      <td>...</td>\n",
              "      <td>0.88</td>\n",
              "      <td>0.29</td>\n",
              "      <td>0.00</td>\n",
              "      <td>0.29</td>\n",
              "      <td>0.59</td>\n",
              "      <td>0.29</td>\n",
              "      <td>1.18</td>\n",
              "      <td>0.00</td>\n",
              "      <td>0.29</td>\n",
              "      <td>1.76</td>\n",
              "    </tr>\n",
              "    <tr>\n",
              "      <th>1</th>\n",
              "      <td>7.0</td>\n",
              "      <td>32837.9931</td>\n",
              "      <td>5.144349</td>\n",
              "      <td>0.041958</td>\n",
              "      <td>65.108392</td>\n",
              "      <td>0.70</td>\n",
              "      <td>0.70</td>\n",
              "      <td>0.35</td>\n",
              "      <td>0.35</td>\n",
              "      <td>0.00</td>\n",
              "      <td>...</td>\n",
              "      <td>0.35</td>\n",
              "      <td>0.00</td>\n",
              "      <td>0.00</td>\n",
              "      <td>0.00</td>\n",
              "      <td>0.00</td>\n",
              "      <td>0.70</td>\n",
              "      <td>0.00</td>\n",
              "      <td>0.00</td>\n",
              "      <td>0.00</td>\n",
              "      <td>0.70</td>\n",
              "    </tr>\n",
              "    <tr>\n",
              "      <th>2</th>\n",
              "      <td>7.0</td>\n",
              "      <td>53428.8034</td>\n",
              "      <td>9.032101</td>\n",
              "      <td>0.080483</td>\n",
              "      <td>35.089336</td>\n",
              "      <td>1.21</td>\n",
              "      <td>0.20</td>\n",
              "      <td>0.40</td>\n",
              "      <td>0.60</td>\n",
              "      <td>0.00</td>\n",
              "      <td>...</td>\n",
              "      <td>0.40</td>\n",
              "      <td>0.20</td>\n",
              "      <td>0.40</td>\n",
              "      <td>0.00</td>\n",
              "      <td>0.60</td>\n",
              "      <td>0.40</td>\n",
              "      <td>0.40</td>\n",
              "      <td>0.00</td>\n",
              "      <td>0.20</td>\n",
              "      <td>0.20</td>\n",
              "    </tr>\n",
              "    <tr>\n",
              "      <th>3</th>\n",
              "      <td>7.0</td>\n",
              "      <td>29475.5996</td>\n",
              "      <td>4.683840</td>\n",
              "      <td>0.071698</td>\n",
              "      <td>50.502264</td>\n",
              "      <td>0.38</td>\n",
              "      <td>0.38</td>\n",
              "      <td>0.00</td>\n",
              "      <td>0.76</td>\n",
              "      <td>0.38</td>\n",
              "      <td>...</td>\n",
              "      <td>0.38</td>\n",
              "      <td>0.38</td>\n",
              "      <td>0.00</td>\n",
              "      <td>0.00</td>\n",
              "      <td>0.38</td>\n",
              "      <td>0.38</td>\n",
              "      <td>0.76</td>\n",
              "      <td>0.00</td>\n",
              "      <td>0.00</td>\n",
              "      <td>0.38</td>\n",
              "    </tr>\n",
              "    <tr>\n",
              "      <th>4</th>\n",
              "      <td>7.0</td>\n",
              "      <td>158761.9814</td>\n",
              "      <td>5.917928</td>\n",
              "      <td>0.065472</td>\n",
              "      <td>45.668808</td>\n",
              "      <td>0.28</td>\n",
              "      <td>0.14</td>\n",
              "      <td>0.34</td>\n",
              "      <td>0.28</td>\n",
              "      <td>0.07</td>\n",
              "      <td>...</td>\n",
              "      <td>0.34</td>\n",
              "      <td>0.48</td>\n",
              "      <td>0.21</td>\n",
              "      <td>0.28</td>\n",
              "      <td>0.62</td>\n",
              "      <td>0.55</td>\n",
              "      <td>0.83</td>\n",
              "      <td>0.00</td>\n",
              "      <td>0.14</td>\n",
              "      <td>0.90</td>\n",
              "    </tr>\n",
              "    <tr>\n",
              "      <th>...</th>\n",
              "      <td>...</td>\n",
              "      <td>...</td>\n",
              "      <td>...</td>\n",
              "      <td>...</td>\n",
              "      <td>...</td>\n",
              "      <td>...</td>\n",
              "      <td>...</td>\n",
              "      <td>...</td>\n",
              "      <td>...</td>\n",
              "      <td>...</td>\n",
              "      <td>...</td>\n",
              "      <td>...</td>\n",
              "      <td>...</td>\n",
              "      <td>...</td>\n",
              "      <td>...</td>\n",
              "      <td>...</td>\n",
              "      <td>...</td>\n",
              "      <td>...</td>\n",
              "      <td>...</td>\n",
              "      <td>...</td>\n",
              "      <td>...</td>\n",
              "    </tr>\n",
              "    <tr>\n",
              "      <th>28690</th>\n",
              "      <td>7.0</td>\n",
              "      <td>61997.6230</td>\n",
              "      <td>8.466327</td>\n",
              "      <td>0.089253</td>\n",
              "      <td>48.604026</td>\n",
              "      <td>0.73</td>\n",
              "      <td>0.73</td>\n",
              "      <td>0.00</td>\n",
              "      <td>0.55</td>\n",
              "      <td>0.00</td>\n",
              "      <td>...</td>\n",
              "      <td>0.55</td>\n",
              "      <td>0.18</td>\n",
              "      <td>0.18</td>\n",
              "      <td>0.55</td>\n",
              "      <td>0.55</td>\n",
              "      <td>0.36</td>\n",
              "      <td>0.00</td>\n",
              "      <td>0.55</td>\n",
              "      <td>0.18</td>\n",
              "      <td>0.91</td>\n",
              "    </tr>\n",
              "    <tr>\n",
              "      <th>28691</th>\n",
              "      <td>7.0</td>\n",
              "      <td>52637.6897</td>\n",
              "      <td>6.532244</td>\n",
              "      <td>0.087420</td>\n",
              "      <td>35.285096</td>\n",
              "      <td>1.07</td>\n",
              "      <td>0.21</td>\n",
              "      <td>0.85</td>\n",
              "      <td>0.64</td>\n",
              "      <td>0.00</td>\n",
              "      <td>...</td>\n",
              "      <td>0.64</td>\n",
              "      <td>0.43</td>\n",
              "      <td>0.21</td>\n",
              "      <td>0.21</td>\n",
              "      <td>0.21</td>\n",
              "      <td>0.43</td>\n",
              "      <td>0.00</td>\n",
              "      <td>0.00</td>\n",
              "      <td>0.21</td>\n",
              "      <td>0.85</td>\n",
              "    </tr>\n",
              "    <tr>\n",
              "      <th>28692</th>\n",
              "      <td>7.0</td>\n",
              "      <td>14203.9225</td>\n",
              "      <td>5.271214</td>\n",
              "      <td>0.117188</td>\n",
              "      <td>44.198437</td>\n",
              "      <td>0.79</td>\n",
              "      <td>0.00</td>\n",
              "      <td>1.57</td>\n",
              "      <td>0.00</td>\n",
              "      <td>0.00</td>\n",
              "      <td>...</td>\n",
              "      <td>0.79</td>\n",
              "      <td>0.79</td>\n",
              "      <td>0.00</td>\n",
              "      <td>0.00</td>\n",
              "      <td>0.79</td>\n",
              "      <td>0.00</td>\n",
              "      <td>0.79</td>\n",
              "      <td>0.00</td>\n",
              "      <td>0.00</td>\n",
              "      <td>0.79</td>\n",
              "    </tr>\n",
              "    <tr>\n",
              "      <th>28693</th>\n",
              "      <td>7.0</td>\n",
              "      <td>64367.8724</td>\n",
              "      <td>5.688128</td>\n",
              "      <td>0.074199</td>\n",
              "      <td>36.618398</td>\n",
              "      <td>1.01</td>\n",
              "      <td>0.68</td>\n",
              "      <td>0.00</td>\n",
              "      <td>0.34</td>\n",
              "      <td>0.00</td>\n",
              "      <td>...</td>\n",
              "      <td>1.01</td>\n",
              "      <td>0.34</td>\n",
              "      <td>0.34</td>\n",
              "      <td>0.51</td>\n",
              "      <td>0.17</td>\n",
              "      <td>0.84</td>\n",
              "      <td>0.34</td>\n",
              "      <td>0.00</td>\n",
              "      <td>0.17</td>\n",
              "      <td>1.01</td>\n",
              "    </tr>\n",
              "    <tr>\n",
              "      <th>28694</th>\n",
              "      <td>7.0</td>\n",
              "      <td>62272.3908</td>\n",
              "      <td>7.139853</td>\n",
              "      <td>0.135940</td>\n",
              "      <td>43.210838</td>\n",
              "      <td>0.37</td>\n",
              "      <td>0.19</td>\n",
              "      <td>0.56</td>\n",
              "      <td>0.19</td>\n",
              "      <td>0.00</td>\n",
              "      <td>...</td>\n",
              "      <td>1.31</td>\n",
              "      <td>0.19</td>\n",
              "      <td>0.37</td>\n",
              "      <td>0.19</td>\n",
              "      <td>0.37</td>\n",
              "      <td>0.37</td>\n",
              "      <td>0.56</td>\n",
              "      <td>0.19</td>\n",
              "      <td>0.37</td>\n",
              "      <td>0.56</td>\n",
              "    </tr>\n",
              "  </tbody>\n",
              "</table>\n",
              "<p>28695 rows × 405 columns</p>\n",
              "</div>\n",
              "      <button class=\"colab-df-convert\" onclick=\"convertToInteractive('df-8df116dd-af3c-4bfd-88ad-ec448c7dd1a1')\"\n",
              "              title=\"Convert this dataframe to an interactive table.\"\n",
              "              style=\"display:none;\">\n",
              "        \n",
              "  <svg xmlns=\"http://www.w3.org/2000/svg\" height=\"24px\"viewBox=\"0 0 24 24\"\n",
              "       width=\"24px\">\n",
              "    <path d=\"M0 0h24v24H0V0z\" fill=\"none\"/>\n",
              "    <path d=\"M18.56 5.44l.94 2.06.94-2.06 2.06-.94-2.06-.94-.94-2.06-.94 2.06-2.06.94zm-11 1L8.5 8.5l.94-2.06 2.06-.94-2.06-.94L8.5 2.5l-.94 2.06-2.06.94zm10 10l.94 2.06.94-2.06 2.06-.94-2.06-.94-.94-2.06-.94 2.06-2.06.94z\"/><path d=\"M17.41 7.96l-1.37-1.37c-.4-.4-.92-.59-1.43-.59-.52 0-1.04.2-1.43.59L10.3 9.45l-7.72 7.72c-.78.78-.78 2.05 0 2.83L4 21.41c.39.39.9.59 1.41.59.51 0 1.02-.2 1.41-.59l7.78-7.78 2.81-2.81c.8-.78.8-2.07 0-2.86zM5.41 20L4 18.59l7.72-7.72 1.47 1.35L5.41 20z\"/>\n",
              "  </svg>\n",
              "      </button>\n",
              "      \n",
              "  <style>\n",
              "    .colab-df-container {\n",
              "      display:flex;\n",
              "      flex-wrap:wrap;\n",
              "      gap: 12px;\n",
              "    }\n",
              "\n",
              "    .colab-df-convert {\n",
              "      background-color: #E8F0FE;\n",
              "      border: none;\n",
              "      border-radius: 50%;\n",
              "      cursor: pointer;\n",
              "      display: none;\n",
              "      fill: #1967D2;\n",
              "      height: 32px;\n",
              "      padding: 0 0 0 0;\n",
              "      width: 32px;\n",
              "    }\n",
              "\n",
              "    .colab-df-convert:hover {\n",
              "      background-color: #E2EBFA;\n",
              "      box-shadow: 0px 1px 2px rgba(60, 64, 67, 0.3), 0px 1px 3px 1px rgba(60, 64, 67, 0.15);\n",
              "      fill: #174EA6;\n",
              "    }\n",
              "\n",
              "    [theme=dark] .colab-df-convert {\n",
              "      background-color: #3B4455;\n",
              "      fill: #D2E3FC;\n",
              "    }\n",
              "\n",
              "    [theme=dark] .colab-df-convert:hover {\n",
              "      background-color: #434B5C;\n",
              "      box-shadow: 0px 1px 3px 1px rgba(0, 0, 0, 0.15);\n",
              "      filter: drop-shadow(0px 1px 2px rgba(0, 0, 0, 0.3));\n",
              "      fill: #FFFFFF;\n",
              "    }\n",
              "  </style>\n",
              "\n",
              "      <script>\n",
              "        const buttonEl =\n",
              "          document.querySelector('#df-8df116dd-af3c-4bfd-88ad-ec448c7dd1a1 button.colab-df-convert');\n",
              "        buttonEl.style.display =\n",
              "          google.colab.kernel.accessAllowed ? 'block' : 'none';\n",
              "\n",
              "        async function convertToInteractive(key) {\n",
              "          const element = document.querySelector('#df-8df116dd-af3c-4bfd-88ad-ec448c7dd1a1');\n",
              "          const dataTable =\n",
              "            await google.colab.kernel.invokeFunction('convertToInteractive',\n",
              "                                                     [key], {});\n",
              "          if (!dataTable) return;\n",
              "\n",
              "          const docLinkHtml = 'Like what you see? Visit the ' +\n",
              "            '<a target=\"_blank\" href=https://colab.research.google.com/notebooks/data_table.ipynb>data table notebook</a>'\n",
              "            + ' to learn more about interactive tables.';\n",
              "          element.innerHTML = '';\n",
              "          dataTable['output_type'] = 'display_data';\n",
              "          await google.colab.output.renderOutput(dataTable, element);\n",
              "          const docLink = document.createElement('div');\n",
              "          docLink.innerHTML = docLinkHtml;\n",
              "          element.appendChild(docLink);\n",
              "        }\n",
              "      </script>\n",
              "    </div>\n",
              "  </div>\n",
              "  "
            ],
            "text/plain": [
              "        pH  molecular_weight  isoelectric_point  aromaticity  \\\n",
              "0      7.0        36320.7244           6.109589     0.058651   \n",
              "1      7.0        32837.9931           5.144349     0.041958   \n",
              "2      7.0        53428.8034           9.032101     0.080483   \n",
              "3      7.0        29475.5996           4.683840     0.071698   \n",
              "4      7.0       158761.9814           5.917928     0.065472   \n",
              "...    ...               ...                ...          ...   \n",
              "28690  7.0        61997.6230           8.466327     0.089253   \n",
              "28691  7.0        52637.6897           6.532244     0.087420   \n",
              "28692  7.0        14203.9225           5.271214     0.117188   \n",
              "28693  7.0        64367.8724           5.688128     0.074199   \n",
              "28694  7.0        62272.3908           7.139853     0.135940   \n",
              "\n",
              "       instability_index    AA    AR    AN    AD    AC  ...    VL    VK    VM  \\\n",
              "0              28.389736  2.35  0.88  0.29  0.29  0.00  ...  0.88  0.29  0.00   \n",
              "1              65.108392  0.70  0.70  0.35  0.35  0.00  ...  0.35  0.00  0.00   \n",
              "2              35.089336  1.21  0.20  0.40  0.60  0.00  ...  0.40  0.20  0.40   \n",
              "3              50.502264  0.38  0.38  0.00  0.76  0.38  ...  0.38  0.38  0.00   \n",
              "4              45.668808  0.28  0.14  0.34  0.28  0.07  ...  0.34  0.48  0.21   \n",
              "...                  ...   ...   ...   ...   ...   ...  ...   ...   ...   ...   \n",
              "28690          48.604026  0.73  0.73  0.00  0.55  0.00  ...  0.55  0.18  0.18   \n",
              "28691          35.285096  1.07  0.21  0.85  0.64  0.00  ...  0.64  0.43  0.21   \n",
              "28692          44.198437  0.79  0.00  1.57  0.00  0.00  ...  0.79  0.79  0.00   \n",
              "28693          36.618398  1.01  0.68  0.00  0.34  0.00  ...  1.01  0.34  0.34   \n",
              "28694          43.210838  0.37  0.19  0.56  0.19  0.00  ...  1.31  0.19  0.37   \n",
              "\n",
              "         VF    VP    VS    VT    VW    VY    VV  \n",
              "0      0.29  0.59  0.29  1.18  0.00  0.29  1.76  \n",
              "1      0.00  0.00  0.70  0.00  0.00  0.00  0.70  \n",
              "2      0.00  0.60  0.40  0.40  0.00  0.20  0.20  \n",
              "3      0.00  0.38  0.38  0.76  0.00  0.00  0.38  \n",
              "4      0.28  0.62  0.55  0.83  0.00  0.14  0.90  \n",
              "...     ...   ...   ...   ...   ...   ...   ...  \n",
              "28690  0.55  0.55  0.36  0.00  0.55  0.18  0.91  \n",
              "28691  0.21  0.21  0.43  0.00  0.00  0.21  0.85  \n",
              "28692  0.00  0.79  0.00  0.79  0.00  0.00  0.79  \n",
              "28693  0.51  0.17  0.84  0.34  0.00  0.17  1.01  \n",
              "28694  0.19  0.37  0.37  0.56  0.19  0.37  0.56  \n",
              "\n",
              "[28695 rows x 405 columns]"
            ]
          },
          "execution_count": 45,
          "metadata": {},
          "output_type": "execute_result"
        }
      ],
      "source": [
        "train_dataset"
      ]
    },
    {
      "cell_type": "code",
      "execution_count": 46,
      "metadata": {
        "colab": {
          "base_uri": "https://localhost:8080/"
        },
        "id": "2bcUhAM91eUy",
        "outputId": "4de64732-37cd-4525-9732-2fb5936da0e6"
      },
      "outputs": [
        {
          "name": "stdout",
          "output_type": "stream",
          "text": [
            "Media global:  -4.803197298218468e-18\n",
            "Desvio padrao global:  1.0000000000000002\n",
            "\n",
            "Verificar se a média e o desvio padrão estão próximos dos valores 0 e 1, respetivamente.\n",
            "\tMédia: True\n",
            "\tDesvio Padrão: True\n"
          ]
        }
      ],
      "source": [
        "pre_processed_data = preprocessing.scale(train_dataset)\n",
        "\n",
        "print(\"Media global: \", pre_processed_data.mean())\n",
        "print(\"Desvio padrao global: \", pre_processed_data.std())\n",
        "print(\"\\nVerificar se a média e o desvio padrão estão próximos dos valores 0 e 1, respetivamente.\")\n",
        "print(\"\\tMédia:\", ((pre_processed_data.mean(axis=0) < 0.000001) & (pre_processed_data.mean(axis=0) > -0.000001)).all())\n",
        "print(\"\\tDesvio Padrão:\", ((pre_processed_data.std(axis=0) < 1.000001) & (pre_processed_data.std(axis=0) > 0.999999)).all())"
      ]
    },
    {
      "cell_type": "code",
      "execution_count": 47,
      "metadata": {
        "colab": {
          "base_uri": "https://localhost:8080/"
        },
        "id": "nohryoEU0Jhs",
        "outputId": "ee4a0432-88ca-467f-8daf-fb20b19a7a0f"
      },
      "outputs": [
        {
          "name": "stdout",
          "output_type": "stream",
          "text": [
            "Número de exemplos para teste: 8608\n"
          ]
        }
      ],
      "source": [
        "num_test = int(pre_processed_data.shape[0] * 0.3)\n",
        "\n",
        "print(\"Número de exemplos para teste:\", num_test)\n",
        "\n",
        "indices = np.random.permutation(len(train_dataset))\n",
        "\n",
        "# Get the Input data pre-processed according with the indexes\n",
        "train_input = pre_processed_data[indices[:-num_test]]\n",
        "test_input = pre_processed_data[indices[-num_test:]]\n",
        "\n",
        "# Get the output data according with the indexes\n",
        "train_output = train_y[indices[:-num_test]]\n",
        "test_output = train_y[indices[-num_test:]]"
      ]
    },
    {
      "cell_type": "code",
      "execution_count": null,
      "metadata": {
        "id": "n2zjyRWd2NEQ"
      },
      "outputs": [],
      "source": [
        "pre_processed_data_embeddings = preprocessing.scale(train_dataset_embedding)\n",
        "\n",
        "print(\"Media global: \", pre_processed_data.mean())\n",
        "print(\"Desvio padrao global: \", pre_processed_data.std())\n",
        "print(\"\\nVerificar se a média e o desvio padrão estão próximos dos valores 0 e 1, respetivamente.\")\n",
        "print(\"\\tMédia:\", ((pre_processed_data.mean(axis=0) < 0.000001) & (pre_processed_data.mean(axis=0) > -0.000001)).all())\n",
        "print(\"\\tDesvio Padrão:\", ((pre_processed_data.std(axis=0) < 1.000001) & (pre_processed_data.std(axis=0) > 0.999999)).all())\n",
        "\n",
        "\n",
        "num_test = int(pre_processed_data_embeddings.shape[0] * 0.3)\n",
        "\n",
        "print(\"Numero de exemplos para teste: \", num_test)\n",
        "\n",
        "indices = np.random.permutation(len(train_dataset))\n",
        "\n",
        "# Get the Input data pre-processed according with the indexes\n",
        "train_input_embedding = pre_processed_data_embeddings[indices[:-num_test]]\n",
        "test_input_embedding= pre_processed_data_embeddings[indices[-num_test:]]\n",
        "\n",
        "# Get the output data according with the indexes\n",
        "train_output_embedding = train_y[indices[:-num_test]]\n",
        "test_output_embedding = train_y[indices[-num_test:]]"
      ]
    },
    {
      "cell_type": "markdown",
      "metadata": {
        "id": "4APhbKABN0TD"
      },
      "source": [
        "<a class=\"anchor\" id=\"chapter3\"></a>\n",
        "\n",
        "## 3. Non-Supervised Analysis"
      ]
    },
    {
      "cell_type": "markdown",
      "metadata": {
        "id": "k3AOfOtxsVdU"
      },
      "source": [
        "Unsupervised machine learning is a type of ML where we dont give any lables to the model. Instead, the model is only given input data and must find patterns or relationships in the data on its own. \n",
        "\n",
        "Some common unsupervised learning techniques include clustering and dimensionality reduction."
      ]
    },
    {
      "cell_type": "markdown",
      "metadata": {
        "id": "QYRZycD3cmcA"
      },
      "source": [
        "<a class=\"anchor\" id=\"section3_1\"></a>\n",
        "\n",
        "### 3.1 PCA"
      ]
    },
    {
      "cell_type": "markdown",
      "metadata": {
        "id": "4bWlNufRsNYS"
      },
      "source": [
        "Principal component analysis (PCA) serves as a dimentionality reduction method, often used to reduce dimensions of a large data sets, by transforming a large set of variables into a smaller one, reducing accuracy, but still contains most of the needed information.\n",
        "\n",
        "1. Standardize the range of continuous initial variables (Previously done)\n",
        "2. Compute the covariance matrix to identify correlations\n",
        "3. Compute the eigenvectors and eigenvalues of the covariance matrix to identify the principal components\n",
        "5. Recast the data along the principal components axes\n"
      ]
    },
    {
      "cell_type": "code",
      "execution_count": 48,
      "metadata": {
        "colab": {
          "base_uri": "https://localhost:8080/",
          "height": 368
        },
        "id": "9FKjzzgn2yUQ",
        "outputId": "f379916b-9be7-4ffe-ac98-39472eecb880"
      },
      "outputs": [
        {
          "name": "stdout",
          "output_type": "stream",
          "text": [
            "[0.03425529 0.0241659  0.02167429 0.0182564  0.01629711 0.01406468\n",
            " 0.01279513 0.01261501 0.01177722 0.01106278 0.01045883 0.01013297\n",
            " 0.00984486 0.00874017 0.00848734]\n",
            "0.22462797093344164\n",
            "90.65010272442838\n"
          ]
        },
        {
          "data": {
            "image/png": "[encoded data removed]",
            "text/plain": [
              "<Figure size 432x288 with 1 Axes>"
            ]
          },
          "metadata": {
            "needs_background": "light"
          },
          "output_type": "display_data"
        }
      ],
      "source": [
        "#Select the number of components \n",
        "n=15\n",
        "\n",
        "pca_train= PCA(n_components=n)\n",
        "pca_train.fit_transform(train_input)\n",
        "\n",
        "print(pca_train.explained_variance_ratio_)\n",
        "print(np.sum(pca_train.explained_variance_ratio_))\n",
        "print(np.sum(pca_train.explained_variance_))\n",
        "\n",
        "plt.bar(range(n), pca_train.explained_variance_ratio_*100)\n",
        "plt.xticks(range(n), ['PC'+str(i) for i in range(1,n+1)])\n",
        "plt.title(\"Variância explicada por PC\")\n",
        "plt.ylabel(\"Percentagem\")\n",
        "plt.axvline(3.5, color='r') # vertical\n",
        "plt.show()\n"
      ]
    },
    {
      "cell_type": "code",
      "execution_count": null,
      "metadata": {
        "id": "Vzlr4htv8E4Y"
      },
      "outputs": [],
      "source": [
        "# Embeddings\n",
        "pca_train= PCA(n_components=n)\n",
        "pca_train.fit_transform(train_input_embedding)\n",
        "\n",
        "print(pca_train.explained_variance_ratio_)\n",
        "print(np.sum(pca_train.explained_variance_ratio_))\n",
        "print(np.sum(pca_train.explained_variance_))\n",
        "\n",
        "plt.bar(range(n), pca_train.explained_variance_ratio_*100)\n",
        "plt.xticks(range(n), ['PC'+str(i) for i in range(1,n+1)])\n",
        "plt.title(\"Variância explicada por PC with embeddings\")\n",
        "plt.ylabel(\"Percentagem\")\n",
        "plt.axvline(3.5, color='r') # vertical\n",
        "plt.show()"
      ]
    },
    {
      "cell_type": "markdown",
      "metadata": {
        "id": "ZHh0E2Hi2-dq"
      },
      "source": [
        "In both cases, PCA doesnt return a significant explained variance. In each case, the explained variance ration is around 22% with the explained variance being higher in the embeddings."
      ]
    },
    {
      "cell_type": "code",
      "execution_count": 49,
      "metadata": {
        "colab": {
          "base_uri": "https://localhost:8080/",
          "height": 279
        },
        "id": "es1lkQN920Qk",
        "outputId": "fad9bf1a-c20c-4e3d-941c-d4a6206adc82"
      },
      "outputs": [
        {
          "data": {
            "image/png": "[encoded data removed]",
            "text/plain": [
              "<Figure size 432x288 with 1 Axes>"
            ]
          },
          "metadata": {
            "needs_background": "light"
          },
          "output_type": "display_data"
        }
      ],
      "source": [
        "n=15\n",
        "pca = PCA(n_components=n)\n",
        "X= pca.fit_transform(train_input)\n",
        "df_pca = pd.DataFrame(data=X)\n",
        "\n",
        "features = range(pca.n_components_)\n",
        "exp_var_pca = pca.explained_variance_ratio_\n",
        "cumsum = np.cumsum(exp_var_pca)   \n",
        "explained_variance = pca.explained_variance_\n",
        "\n",
        "\n",
        "plt.bar(range(0,len(exp_var_pca)), exp_var_pca, alpha=0.5, align='center', label='Individual variance explained')\n",
        "plt.step(range(0,len(cumsum)), cumsum, where='mid',label='Cumsum variance')\n",
        "plt.xticks(range(n), ['PC'+str(i) for i in range(1,n+1)])\n",
        "plt.ylabel(\"Variance explained\")\n",
        "plt.xlabel(\"Component index\")\n",
        "plt.legend(loc='best')\n",
        "plt.show()"
      ]
    },
    {
      "cell_type": "markdown",
      "metadata": {
        "id": "E2Ij9IJC3BC0"
      },
      "source": [
        "We can conclude that PCA is not effective"
      ]
    },
    {
      "cell_type": "markdown",
      "metadata": {
        "id": "LsVP8rjldMI8"
      },
      "source": [
        "<a class=\"anchor\" id=\"section3_2\"></a>\n",
        "\n",
        "### 3.2 Kmeans"
      ]
    },
    {
      "cell_type": "markdown",
      "metadata": {
        "id": "f6cjpdgR3Gkl"
      },
      "source": [
        "K-Means is a unsupervised machine learning algorithm used to group data into clusters based on similarities.\n",
        "The goal of K-means is to partition a dataset into a specified number of clusters (k) in a way that minimizes the within-cluster sum of squares. Here we present the following steps to run this algotithm:\n",
        "\n",
        "1. Randomly selecting k initial centroids (points in the dataset that represent the center of the clusters)\n",
        "2. Data point assigned to the cluster corresponding to the nearest centroid\n",
        "3. The centroids are then updated to be the mean of the points in their respective clusters\n",
        "\n",
        "This process is repeated until the centroids no longer change, or a maximum number of iterations is reached (In this case we set a maximum number of iterations)"
      ]
    },
    {
      "cell_type": "code",
      "execution_count": 50,
      "metadata": {
        "id": "nw3wv5-X3MWx"
      },
      "outputs": [],
      "source": [
        "ph_array=train_input[:, 0]\n",
        "train_input= train_input[:, 1:]\n",
        "test_input= test_input[:, 1:]"
      ]
    },
    {
      "cell_type": "code",
      "execution_count": 51,
      "metadata": {
        "colab": {
          "base_uri": "https://localhost:8080/",
          "height": 295
        },
        "id": "xtCdkHeX3NW3",
        "outputId": "9564e401-3fe5-47d7-c8f1-a436bdb1063e"
      },
      "outputs": [
        {
          "data": {
            "image/png": "[encoded data removed]",
            "text/plain": [
              "<Figure size 432x288 with 1 Axes>"
            ]
          },
          "metadata": {
            "needs_background": "light"
          },
          "output_type": "display_data"
        }
      ],
      "source": [
        "#Without embeding \n",
        "k=list(range(2,15))\n",
        "ssd=[]\n",
        "for i in k:\n",
        "    kmeans=KMeans(n_clusters=i).fit(train_input)\n",
        "    ssd.append(kmeans.inertia_)\n",
        "    \n",
        "plt.plot(k, ssd, 'o-')\n",
        "plt.xlabel('k-nearest neighbors')\n",
        "plt.ylabel('Sum of squared error')\n",
        "ii=kmeans.inertia_\n",
        "plt.title('Inertia:{}'.format(ii))\n",
        "plt.show()\n",
        "#inertia is a measure of the sum of squared distances of all the points within a cluster to its centroid."
      ]
    },
    {
      "cell_type": "code",
      "execution_count": null,
      "metadata": {
        "id": "Pd8DEEpH4K34"
      },
      "outputs": [],
      "source": [
        "#with embeding \n",
        "\n",
        "k=list(range(2,15))\n",
        "ssd=[]\n",
        "for i in k:\n",
        "    kmeans=KMeans(n_clusters=i).fit(train_input_embedding)\n",
        "    ssd.append(kmeans.inertia_)\n",
        "    \n",
        "plt.plot(k, ssd, 'o-')\n",
        "plt.xlabel('k-nearest neighbors')\n",
        "plt.ylabel('Sum of squared error')\n",
        "ii=kmeans.inertia_\n",
        "plt.title('Inertia:{}'.format(ii))\n",
        "plt.show()"
      ]
    },
    {
      "cell_type": "code",
      "execution_count": 52,
      "metadata": {
        "id": "iSybfMrQ4d6W"
      },
      "outputs": [],
      "source": [
        "#Lets try this\n",
        "kmeans_train= KMeans(n_clusters=15,max_iter=1000).fit(train_input)\n",
        "kmeans_result=kmeans_train.predict(test_input)\n",
        "inertia=kmeans_train.inertia_\n",
        "#Give a variable to the centroids and labels \n",
        "centroids= kmeans_train.cluster_centers_\n",
        "labels= kmeans_train.labels_\n",
        "\n"
      ]
    },
    {
      "cell_type": "code",
      "execution_count": 58,
      "metadata": {
        "colab": {
          "base_uri": "https://localhost:8080/",
          "height": 265
        },
        "id": "uzjPkpq248xv",
        "outputId": "f7da0978-d7cb-44f4-a814-f8e3f154d49a"
      },
      "outputs": [
        {
          "data": {
            "image/png": "[encoded data removed]",
            "text/plain": [
              "<Figure size 432x288 with 1 Axes>"
            ]
          },
          "metadata": {
            "needs_background": "light"
          },
          "output_type": "display_data"
        }
      ],
      "source": [
        "for i in range(len(k)):\n",
        "    # select only data observations with cluster label == i\n",
        "    ds = train_input[np.where(labels==i)]\n",
        "    # plot the data observations (only 2 first colums)\n",
        "    plt.plot(ds[:,0],ds[:,1],'o')\n",
        "    # plot the centroids\n",
        "    lines = plt.plot(centroids[i,0],centroids[i,1],'kx')\n",
        "    # make the centroid x's bigger\n",
        "    plt.setp(lines,ms=10.0)    # x size \n",
        "    plt.setp(lines,mew=2.0)    #grossura da linha\n",
        "plt.show()"
      ]
    },
    {
      "cell_type": "markdown",
      "metadata": {
        "id": "PKIrPLMs4QYf"
      },
      "source": [
        "As we can see, the graph shows in the top a high inertia, meaning a high sum of squared distances.\n",
        "The quality of this clusters are low"
      ]
    },
    {
      "cell_type": "markdown",
      "metadata": {
        "id": "TROCfAVg5B2t"
      },
      "source": [
        "### t-SNE\n",
        "\n",
        "t-SNE (t-Distributed Stochastic Neighbor Embedding) is used to project high-dimensional data into a lower-dimensional space, typically 2 or 3 dimensions.The goal is to preserve the pairwise distances between the data points in the lower-dimensional space as much as possible.\n",
        "\n",
        "\n",
        "\n",
        "\n",
        "1. Compute pairwise affinities between all data points in the high-dimensional space.\n",
        "2. Use these affinities to construct a probability distribution over the data points in the high-dimensional space.\n",
        "3. Embed the data points in the low-dimensional space by minimizing the divergence between the two probability distributions (i.e., the one in the high-dimensional space and the one in the low-dimensional space).\n",
        "4. Repeat steps 1-3 for a number of iterations until the embedding has stabilized."
      ]
    },
    {
      "cell_type": "code",
      "execution_count": 59,
      "metadata": {
        "colab": {
          "base_uri": "https://localhost:8080/"
        },
        "id": "GvIj5yD_IGW1",
        "outputId": "6f104e03-f1b8-4869-d2b1-4c78d77ef93a"
      },
      "outputs": [
        {
          "name": "stderr",
          "output_type": "stream",
          "text": [
            "/usr/local/lib/python3.8/dist-packages/sklearn/manifold/_t_sne.py:780: FutureWarning: The default initialization in TSNE will change from 'random' to 'pca' in 1.2.\n",
            "  warnings.warn(\n",
            "/usr/local/lib/python3.8/dist-packages/sklearn/manifold/_t_sne.py:790: FutureWarning: The default learning rate in TSNE will change from 200.0 to 'auto' in 1.2.\n",
            "  warnings.warn(\n"
          ]
        }
      ],
      "source": [
        "tsne = TSNE(n_components=2, n_iter=1000,perplexity=40)\n",
        "points = tsne.fit_transform(train_input)"
      ]
    },
    {
      "cell_type": "code",
      "execution_count": 60,
      "metadata": {
        "colab": {
          "base_uri": "https://localhost:8080/",
          "height": 282
        },
        "id": "TfZUlWUeIJbh",
        "outputId": "5b4f46d0-1c03-4725-d4ec-84ef5b7bc8a7"
      },
      "outputs": [
        {
          "data": {
            "text/plain": [
              "<matplotlib.collections.PathCollection at 0x7fad3957a2e0>"
            ]
          },
          "execution_count": 60,
          "metadata": {},
          "output_type": "execute_result"
        },
        {
          "data": {
            "image/png": "[encoded data removed]",
            "text/plain": [
              "<Figure size 432x288 with 1 Axes>"
            ]
          },
          "metadata": {
            "needs_background": "light"
          },
          "output_type": "display_data"
        }
      ],
      "source": [
        "plt.scatter(points[:,0],points[:,1])\n"
      ]
    },
    {
      "cell_type": "code",
      "execution_count": 61,
      "metadata": {
        "colab": {
          "base_uri": "https://localhost:8080/",
          "height": 624
        },
        "id": "HiabWOYtINMd",
        "outputId": "e405ccdc-943d-4bef-c841-d8a6aadbf76c"
      },
      "outputs": [
        {
          "data": {
            "image/png": "[encoded data removed]",
            "text/plain": [
              "<Figure size 720x720 with 1 Axes>"
            ]
          },
          "metadata": {
            "needs_background": "light"
          },
          "output_type": "display_data"
        },
        {
          "data": {
            "text/plain": [
              "<Figure size 432x288 with 0 Axes>"
            ]
          },
          "metadata": {},
          "output_type": "display_data"
        }
      ],
      "source": [
        "plt.figure(figsize=(10,10))\n",
        "norm = Normalize(vmin=0, vmax=100)\n",
        "plt.scatter(points[:,0], points[:,1], c=train_output, cmap=cm.get_cmap('seismic'), marker='.', norm=norm)\n",
        "plt.title('TSNE Transformation')\n",
        "plt.show()\n",
        "plt.savefig('creature.png')"
      ]
    },
    {
      "cell_type": "markdown",
      "metadata": {
        "id": "w_Kv5gee_2uC"
      },
      "source": [
        "Here we can see clusters with colors related to the thermostability of the proteins, the red ones are the ones with the highest stability index."
      ]
    },
    {
      "cell_type": "markdown",
      "metadata": {
        "id": "S26ky4zhN0TD"
      },
      "source": [
        "<a class=\"anchor\" id=\"chapter4\"></a>\n",
        "\n",
        "## 4. Supervised Machine Learning"
      ]
    },
    {
      "cell_type": "markdown",
      "metadata": {
        "id": "yzMFNi40rOOD"
      },
      "source": [
        "Supervised Machine Learning has the distinct characteristic of being trained on a labeled dataset. Hereon, the same training dataset of the unsupervised ML will be used with the correct output labeled."
      ]
    },
    {
      "cell_type": "markdown",
      "metadata": {
        "id": "kuQyJTfgH0rI"
      },
      "source": [
        "<a class=\"anchor\" id=\"section4_1\"></a>\n",
        "\n",
        "### 4.1 Regression Analysis"
      ]
    },
    {
      "cell_type": "markdown",
      "metadata": {
        "id": "uNCT94uAHhgc"
      },
      "source": [
        "The algorithm, through the recognition of patterns in the training data, will provide predictions in new unseen data. \n",
        "\n",
        "SupervisedModelOptimization class was built under the utils/models.py file and uses several useful Supervised Machine Learning models in regression problems, which represents our current task. This class allows the fit of predefined models with tuning of the possible important hyper-parameters variations, by fit_model() method. Finally, a prediction with the tuned and fitted model may be proceeded with the predict() method (check class documentation for further details).[link text](https://)"
      ]
    },
    {
      "cell_type": "markdown",
      "metadata": {
        "id": "ZMcqdqMo7SFX"
      },
      "source": [
        "Pre-processing and verification of the mean and standard deviation of the train dataset:"
      ]
    },
    {
      "cell_type": "code",
      "execution_count": null,
      "metadata": {
        "id": "ZJYIkl7B7RjE"
      },
      "outputs": [],
      "source": [
        "data_input = train_dataset.loc[:, ~train_dataset.columns.isin([\"protein_sequence\", \"tm\"])].values\n",
        "data_output = train_dataset.loc[:, \"tm\"].values\n",
        "\n",
        "data_input = preprocessing.scale(data_input)\n",
        "\n",
        "print(\"Media global: \", data_input.mean())\n",
        "print(\"Desvio padrao global: \", data_input.std())\n",
        "print(\"\\nVerificar se a média e o desvio padrão estão próximos dos valores 0 e 1, respetivamente.\")\n",
        "print(\"\\tMédia:\", ((data_input.mean(axis=0) < 0.000001) & (data_input.mean(axis=0) > -0.000001)).all())\n",
        "print(\"\\tDesvio Padrão:\", ((data_input.std(axis=0) < 1.000001) & (data_input.std(axis=0) > 0.999999)).all())"
      ]
    },
    {
      "cell_type": "code",
      "execution_count": null,
      "metadata": {
        "id": "oMI9gu87rPyN"
      },
      "outputs": [],
      "source": [
        "# Current possible models\n",
        "# SVM Removed due to the time taking to run\n",
        "#models = [\"Linear Regression\", \"KNN\", \"Bagging\", \"SVM\",  \"Decision Tree\", \"Random Forest\"]\n",
        "models = [\"Linear Regression\", \"KNN\", \"Bagging\",  \"Random Forest\", \"Decision Tree\"]\n",
        "\n",
        "# Class instance\n",
        "smo = SupervisedModelOptimization(data_input, data_output)\n",
        "smo.summary()"
      ]
    },
    {
      "attachments": {},
      "cell_type": "markdown",
      "metadata": {
        "id": "-dys7iy5rTZm"
      },
      "source": [
        "Herewith, the class SupervisedModelOptimization splits the data automatically by a 0.3 proportion if no assigned test data. Accordingly, we have 20086 training samples and 8609 testing samples. "
      ]
    },
    {
      "cell_type": "code",
      "execution_count": null,
      "metadata": {
        "id": "4zokgGB1rSRH"
      },
      "outputs": [],
      "source": [
        "model_scores = {}\n",
        "\n",
        "for model in models:\n",
        "  print(f\"Running {model} prediction...\")\n",
        "  # Fit the model\n",
        "  smo.fit_model(method=model, cross_val=2)\n",
        "  \n",
        "  # Get the predictions\n",
        "  predictions = smo.predict()\n",
        "  \n",
        "  # Get the score\n",
        "  score = smo.score()\n",
        "  \n",
        "  smo.summary()\n",
        "  \n",
        "  # Store in the global variable\n",
        "  model_scores[model] = (predictions, score)"
      ]
    },
    {
      "cell_type": "code",
      "execution_count": null,
      "metadata": {},
      "outputs": [],
      "source": [
        "for model, values in model_scores.items():\n",
        "  predictions, score = values\n",
        "  print(f\"{model} obtained the following Mean Squared Error:\\n\\t{score}\\n\")"
      ]
    },
    {
      "attachments": {},
      "cell_type": "markdown",
      "metadata": {},
      "source": [
        "We verify that the Mean Squared Error (MSE) remained between 80 and 90 except for the Decision Tree Regressor, resulting in a 113 value error. \n",
        "\n",
        "Herewith, Supervised Machine Learning demonstrated better results than Unsupervised, but far from desired. Random Forest is the best model due to having the lowest MSE (80.298), using the following parameters:  \n",
        "    \n",
        "    {n_estimators: 20, max_depth: 20, criterion: squared_error}.\n",
        "\n",
        "It corresponds to the maximum number of estimators and depth attributed. Therefore, model improvement may occur with increased values in these parameters. However, the processing time increases immensely with the increased parameter values.\n",
        "\n",
        "A possible way for better results may be increasing the cross-validation value, which remained at a value of 2, to reduce the processing model time.\n",
        "\n",
        "Despite several attempts to run the Support Vector Regression model, it eventually got removed from the equation owing to running endlessly."
      ]
    },
    {
      "cell_type": "markdown",
      "metadata": {
        "id": "eRTLTJrnVbJi"
      },
      "source": [
        "### 4.2. Binary Analysis"
      ]
    },
    {
      "attachments": {},
      "cell_type": "markdown",
      "metadata": {
        "id": "vCYR2KJwY73B"
      },
      "source": [
        "In this section, we will predict the stability of a protein sequence. Protein sequences are stable if the Tm of a protein sequence is above 65◦C (Tm > 65◦C). Thus, a binary prediction through Logistic Regression will inform us of the relevant stable protein sequences.\n",
        "Article mentioning this value: https://doi.org/10.1016/j.compbiolchem.2009.10.002"
      ]
    },
    {
      "cell_type": "code",
      "execution_count": null,
      "metadata": {
        "colab": {
          "base_uri": "https://localhost:8080/"
        },
        "id": "vvrGDiBGWJke",
        "outputId": "a29a2ab4-44d0-4661-fb57-66f839744642"
      },
      "outputs": [
        {
          "data": {
            "text/plain": [
              "array([[ 0.16078851, -0.30259299, -0.38866605, ..., -0.41899083,\n",
              "         0.26036277,  3.05330905],\n",
              "       [ 0.16078851, -0.37740901, -0.95272322, ..., -0.41899083,\n",
              "        -0.74319537,  0.6127002 ],\n",
              "       [ 0.16078851,  0.06492272,  1.31916243, ..., -0.41899083,\n",
              "        -0.05108631, -0.53853038],\n",
              "       ...,\n",
              "       [ 0.16078851, -0.77770607, -0.87858734, ..., -0.41899083,\n",
              "        -0.74319537,  0.81992171],\n",
              "       [ 0.16078851,  0.29991577, -0.63495529, ..., -0.41899083,\n",
              "        -0.15490267,  1.32646317],\n",
              "       [ 0.16078851,  0.25490064,  0.21338908, ...,  0.73706128,\n",
              "         0.5372064 ,  0.29035564]])"
            ]
          },
          "execution_count": 40,
          "metadata": {},
          "output_type": "execute_result"
        }
      ],
      "source": [
        "data_input"
      ]
    },
    {
      "cell_type": "code",
      "execution_count": null,
      "metadata": {
        "colab": {
          "base_uri": "https://localhost:8080/"
        },
        "id": "SJeYnRLrbiV7",
        "outputId": "9b13418f-eb6b-4e10-ce88-b7a568388c47"
      },
      "outputs": [
        {
          "data": {
            "text/plain": [
              "array([75.7, 50.5, 40.5, ..., 64.6, 50.7, 37.6])"
            ]
          },
          "execution_count": 41,
          "metadata": {},
          "output_type": "execute_result"
        }
      ],
      "source": [
        "data_output"
      ]
    },
    {
      "cell_type": "code",
      "execution_count": 2,
      "metadata": {
        "id": "mShZbUHPdLVF"
      },
      "outputs": [],
      "source": [
        "# Train and test data division\n",
        "train_input, test_input, train_output, test_output = train_test_split(data_input, data_output, test_size=0.3, random_state=42)"
      ]
    },
    {
      "cell_type": "code",
      "execution_count": null,
      "metadata": {
        "colab": {
          "base_uri": "https://localhost:8080/"
        },
        "id": "TPJh1wEyd2h0",
        "outputId": "8dfa18f9-2018-416b-db68-e22165e0b2b4"
      },
      "outputs": [
        {
          "name": "stdout",
          "output_type": "stream",
          "text": [
            "Train data:\n",
            "[[ 0.16078851 -0.16972575 -0.756954   ... -0.41899083  0.15654641\n",
            "   0.2212818 ]\n",
            " [ 0.16078851  1.95356433  0.7044457  ... -0.41899083 -0.22411357\n",
            "  -0.99902262]\n",
            " [ 0.16078851 -0.85565244 -1.30825661 ... -0.41899083 -0.74319537\n",
            "   1.41856161]\n",
            " ...\n",
            " [ 0.16078851 -0.18314266  1.35129784 ...  1.28466491  0.22575732\n",
            "  -0.99902262]\n",
            " [ 0.16078851  0.00914667  0.54716664 ... -0.41899083  0.81405002\n",
            "   0.54362637]\n",
            " [ 0.16078851 -0.62054478  1.83788737 ... -0.41899083  1.09089365\n",
            "  -0.99902262]]\n",
            "[47.5 64.9 48.6 ... 51.  40.3 42.7]\n",
            "Test data:\n",
            "[[-1.09997477 -0.73008606  1.25952545 ... -0.41899083 -0.74319537\n",
            "  -0.99902262]\n",
            " [ 0.16078851 -0.10740628 -0.6934137  ... -0.41899083  0.12194096\n",
            "  -0.99902262]\n",
            " [ 0.16078851 -0.42753283 -0.39979308 ... -0.41899083  0.50260094\n",
            "  -0.1701366 ]\n",
            " ...\n",
            " [ 0.16078851 -0.91282453  1.89142126 ... -0.41899083  4.20538443\n",
            "  -0.99902262]\n",
            " [ 0.16078851  0.96281176 -1.13032384 ...  0.31114734 -0.32792993\n",
            "  -0.44643194]\n",
            " [ 0.16078851  0.97119144  0.82940834 ...  0.31114734 -0.74319537\n",
            "  -0.19316121]]\n",
            "[62.  45.5 40.9 ... 49.9 51.2 49.5]\n"
          ]
        }
      ],
      "source": [
        "print(\"Train data:\")\n",
        "print(train_input)\n",
        "print(train_output)\n",
        "print(\"Test data:\")\n",
        "print(test_input)\n",
        "print(test_output)"
      ]
    },
    {
      "cell_type": "code",
      "execution_count": null,
      "metadata": {
        "colab": {
          "base_uri": "https://localhost:8080/"
        },
        "id": "FZux8-5_am-G",
        "outputId": "e89bf7ba-4cce-4926-ceb8-a24235675e49"
      },
      "outputs": [
        {
          "data": {
            "text/plain": [
              "array([0., 0., 0., ..., 0., 0., 0.])"
            ]
          },
          "execution_count": 44,
          "metadata": {},
          "output_type": "execute_result"
        }
      ],
      "source": [
        "tm_threshold = 65.0\n",
        "\n",
        "# Define the train output data\n",
        "binary_train_output = deepcopy(train_output)\n",
        "\n",
        "mask = binary_train_output >= tm_threshold\n",
        "binary_train_output[mask] = 1\n",
        "binary_train_output[~mask] = 0\n",
        "\n",
        "binary_train_output"
      ]
    },
    {
      "cell_type": "code",
      "execution_count": null,
      "metadata": {
        "colab": {
          "base_uri": "https://localhost:8080/"
        },
        "id": "IScNWsawfjMB",
        "outputId": "fde336b0-5908-41b5-f67e-2aa3f07b2c31"
      },
      "outputs": [
        {
          "data": {
            "text/plain": [
              "array([0., 0., 0., ..., 0., 0., 0.])"
            ]
          },
          "execution_count": 45,
          "metadata": {},
          "output_type": "execute_result"
        }
      ],
      "source": [
        "# Define the test output data\n",
        "binary_test_output = deepcopy(test_output)\n",
        "\n",
        "mask = binary_test_output >= tm_threshold\n",
        "binary_test_output[mask] = 1\n",
        "binary_test_output[~mask] = 0\n",
        "\n",
        "binary_test_output"
      ]
    },
    {
      "cell_type": "code",
      "execution_count": null,
      "metadata": {
        "colab": {
          "base_uri": "https://localhost:8080/"
        },
        "id": "2Wn1DDnSdi4U",
        "outputId": "f94a9878-5c97-4264-dd69-1d9cd5ecc442"
      },
      "outputs": [
        {
          "name": "stdout",
          "output_type": "stream",
          "text": [
            "Occurrences of each value in train output values:\n",
            "{0.0: 17487, 1.0: 2599}\n",
            "\n",
            "Occurrences of each value in test output values:\n",
            "{0.0: 7566, 1.0: 1043}\n"
          ]
        }
      ],
      "source": [
        "print(\"Occurrences of each value in train output values:\")\n",
        "unique_train, counts_train = np.unique(binary_train_output, return_counts=True)\n",
        "print(dict(zip(unique_train, counts_train)))\n",
        "\n",
        "print()\n",
        "print(\"Occurrences of each value in test output values:\")\n",
        "unique_test, counts_test = np.unique(binary_test_output, return_counts=True)\n",
        "print(dict(zip(unique_test, counts_test)))"
      ]
    },
    {
      "cell_type": "code",
      "execution_count": null,
      "metadata": {
        "colab": {
          "base_uri": "https://localhost:8080/"
        },
        "id": "-hbN83GcVrgE",
        "outputId": "c3d0a34b-0c40-4313-d02b-4c0b055acdda"
      },
      "outputs": [
        {
          "name": "stdout",
          "output_type": "stream",
          "text": [
            "First 10 Predictions: [0. 0. 0. 0. 0. 0. 0. 0. 0. 0.]\n",
            "Accuracy Score: 93.33255894993611\n",
            "Maximum Residual Error: 1.000\n",
            "Mean Absolute Error: 0.258\n",
            "Mean Square Error: 0.258\n"
          ]
        }
      ],
      "source": [
        "log_reg = LogisticRegression(solver='liblinear', max_iter=100)\n",
        "\n",
        "# Fit the model\n",
        "log_reg.fit(train_input, binary_train_output)\n",
        "\n",
        "# Predict values\n",
        "y_pred = log_reg.predict(test_input)\n",
        "\n",
        "print(\"First 10 Predictions:\", y_pred[:10])\n",
        "print(\"Accuracy Score:\", accuracy_score(binary_test_output, y_pred) * 100)\n",
        "calculate_model_error(binary_test_output, y_pred)"
      ]
    },
    {
      "attachments": {},
      "cell_type": "markdown",
      "metadata": {},
      "source": [
        "We achieved an accuracy score of 93.3% and a Mean Squared Error (MSE) metric value of 0.258. Therefore, we can conclude that our protein stability prediction model has high fidelity for the prediction of whether or not a protein may be considered stable."
      ]
    },
    {
      "cell_type": "markdown",
      "metadata": {
        "id": "_lBoSepDN0TE"
      },
      "source": [
        "<a class=\"anchor\" id=\"chapter5\"></a>\n",
        "\n",
        "## 5. Deep Learning"
      ]
    },
    {
      "cell_type": "code",
      "execution_count": 63,
      "metadata": {
        "id": "uA5DxT6V5-px"
      },
      "outputs": [],
      "source": [
        "def setup_FFNN(units, activation):\n",
        "    model = Sequential()\n",
        "    model.add(Dense(units, activation=activation, input_shape=(train_input.shape[1],)))\n",
        "    model.add(Dropout(0.2))\n",
        "    model.add(Dense(32, activation=activation))\n",
        "    model.add(Dense(1,activation=\"linear\"))\n",
        "    model.compile(loss='mean_squared_error', optimizer='adam')\n",
        "    return model"
      ]
    },
    {
      "cell_type": "code",
      "execution_count": 64,
      "metadata": {
        "id": "if6W7Ls54l8e"
      },
      "outputs": [],
      "source": [
        "def setup_conv1d(kernel_size, filters, activation):\n",
        "  model = Sequential()\n",
        "  model.add(Conv1D(filters, kernel_size=3, \n",
        "                   activation='relu', input_shape=(train_input.shape[1], 1)))\n",
        "  model.add(MaxPooling1D(pool_size=2))\n",
        "  model.add(Dropout(0.2))\n",
        "  model.add(BatchNormalization())\n",
        "  model.add(Conv1D(64, kernel_size=3, activation='relu'))\n",
        "  model.add(MaxPooling1D(pool_size=2))\n",
        "  model.add(Dropout(0.2))\n",
        "  model.add(Flatten())\n",
        "  model.add(Dense(64, activation='relu'))\n",
        "  model.add(Dense(1,activation=\"linear\"))\n",
        "  model.compile(loss='mean_squared_error', optimizer='adam')\n",
        "  return model"
      ]
    },
    {
      "cell_type": "code",
      "execution_count": 65,
      "metadata": {
        "id": "trwC1t-O_-XM"
      },
      "outputs": [],
      "source": [
        "def setup_LSTM(units, dropout,recurrent_dropout):\n",
        "  model = Sequential()\n",
        "  model.add(LSTM(units, input_shape=(train_input.shape[1], 1),\n",
        "                 return_sequences=True, dropout=dropout, recurrent_dropout=recurrent_dropout))\n",
        "  model.add(Dropout(0.2))\n",
        "  model.add(LSTM(units))\n",
        "  model.add(Dense(1,activation=\"linear\"))\n",
        "  model.compile(loss='mean_squared_error', optimizer='adam')\n",
        "  return model"
      ]
    },
    {
      "cell_type": "code",
      "execution_count": 83,
      "metadata": {
        "id": "hxy-ekSlCJ6k"
      },
      "outputs": [],
      "source": [
        "early_stopping = EarlyStopping(monitor='loss', patience=5)"
      ]
    },
    {
      "cell_type": "code",
      "execution_count": 66,
      "metadata": {
        "id": "1VN9FpMt6JRo"
      },
      "outputs": [],
      "source": [
        "#Parameter grid\n",
        "\n",
        "#Conv1d\n",
        "param_dist_conv = {'kernel_size': [3,5],\n",
        "              'filters': [32, 64],\n",
        "              'activation': ['relu', 'tanh']}\n",
        "    \n",
        "param_dist_ff = {'units': [32,64,128],\n",
        "              'activation': ['relu', 'tanh']}\n",
        "\n",
        "param_dist_LSTM = {'units': [32, 64, 128],\n",
        "              'dropout': [0.1, 0.2, 0.3],\n",
        "              'recurrent_dropout': [0.1, 0.2, 0.3]}"
      ]
    },
    {
      "cell_type": "code",
      "execution_count": 84,
      "metadata": {
        "colab": {
          "base_uri": "https://localhost:8080/"
        },
        "id": "oyOlmIfS55mC",
        "outputId": "a07fe583-0f7c-4344-92f4-c3f986a1c709"
      },
      "outputs": [
        {
          "name": "stderr",
          "output_type": "stream",
          "text": [
            "<ipython-input-84-f5f95fceded1>:1: DeprecationWarning: KerasRegressor is deprecated, use Sci-Keras (https://github.com/adriangb/scikeras) instead. See https://www.adriangb.com/scikeras/stable/migration.html for help migrating.\n",
            "  regressor_conv1d = KerasRegressor(build_fn=setup_conv1d, verbose=0, epochs=20, callbacks=[early_stopping])\n",
            "<ipython-input-84-f5f95fceded1>:2: DeprecationWarning: KerasRegressor is deprecated, use Sci-Keras (https://github.com/adriangb/scikeras) instead. See https://www.adriangb.com/scikeras/stable/migration.html for help migrating.\n",
            "  regressor_ff= KerasRegressor(build_fn=setup_FFNN, verbose=0)\n",
            "<ipython-input-84-f5f95fceded1>:3: DeprecationWarning: KerasRegressor is deprecated, use Sci-Keras (https://github.com/adriangb/scikeras) instead. See https://www.adriangb.com/scikeras/stable/migration.html for help migrating.\n",
            "  regressor_LSTM= KerasRegressor(build_fn=setup_LSTM, verbose=0)\n"
          ]
        }
      ],
      "source": [
        "regressor_conv1d = KerasRegressor(build_fn=setup_conv1d, verbose=0, epochs=20, callbacks=[early_stopping])\n",
        "regressor_ff= KerasRegressor(build_fn=setup_FFNN, verbose=0)\n",
        "regressor_LSTM= KerasRegressor(build_fn=setup_LSTM, verbose=0)"
      ]
    },
    {
      "cell_type": "code",
      "execution_count": 85,
      "metadata": {
        "id": "7llXrQoW6T2g"
      },
      "outputs": [],
      "source": [
        "random_search_conv1d = RandomizedSearchCV(regressor_conv1d, param_distributions=param_dist_conv,\n",
        "                                   n_iter=10, cv=5, verbose=1,\n",
        "                                   scoring='mean_squared_error',random_state=42)\n",
        "\n",
        "random_search_ff = RandomizedSearchCV(regressor_ff, param_distributions=param_dist_ff,\n",
        "                                   n_iter=10, cv=5, verbose=1,\n",
        "                                   scoring='mean_squared_error',random_state=42)\n",
        "\n",
        "random_search_LSTM = RandomizedSearchCV(regressor_LSTM, param_distributions=param_dist_LSTM,\n",
        "                                   n_iter=10, cv=5, verbose=1,\n",
        "                                   scoring='mean_squared_error',random_state=42)\n"
      ]
    },
    {
      "cell_type": "code",
      "execution_count": 86,
      "metadata": {
        "colab": {
          "base_uri": "https://localhost:8080/"
        },
        "id": "v3PatMJN6WBm",
        "outputId": "e6fdff45-4ae2-42ed-ed3c-7ae6293fbf3a"
      },
      "outputs": [
        {
          "name": "stderr",
          "output_type": "stream",
          "text": [
            "/usr/local/lib/python3.8/dist-packages/sklearn/model_selection/_search.py:292: UserWarning: The total space of parameters 8 is smaller than n_iter=10. Running 8 iterations. For exhaustive searches, use GridSearchCV.\n",
            "  warnings.warn(\n"
          ]
        },
        {
          "name": "stdout",
          "output_type": "stream",
          "text": [
            "Fitting 5 folds for each of 8 candidates, totalling 40 fits\n"
          ]
        },
        {
          "data": {
            "text/plain": [
              "RandomizedSearchCV(cv=5,\n",
              "                   estimator=<keras.wrappers.scikit_learn.KerasRegressor object at 0x7fad84cbc040>,\n",
              "                   param_distributions={'activation': ['relu', 'tanh'],\n",
              "                                        'filters': [32, 64],\n",
              "                                        'kernel_size': [3, 5]},\n",
              "                   random_state=42, scoring='neg_mean_squared_error',\n",
              "                   verbose=1)"
            ]
          },
          "execution_count": 86,
          "metadata": {},
          "output_type": "execute_result"
        }
      ],
      "source": [
        "random_search_conv1d.fit(train_input, train_output)"
      ]
    },
    {
      "cell_type": "code",
      "execution_count": null,
      "metadata": {
        "colab": {
          "base_uri": "https://localhost:8080/"
        },
        "id": "MkL5fW2j6t_X",
        "outputId": "c934f388-c8ff-4f55-a1f8-fe686514766e"
      },
      "outputs": [
        {
          "name": "stderr",
          "output_type": "stream",
          "text": [
            "/usr/local/lib/python3.8/dist-packages/sklearn/model_selection/_search.py:292: UserWarning: The total space of parameters 6 is smaller than n_iter=10. Running 6 iterations. For exhaustive searches, use GridSearchCV.\n",
            "  warnings.warn(\n"
          ]
        },
        {
          "name": "stdout",
          "output_type": "stream",
          "text": [
            "Fitting 5 folds for each of 6 candidates, totalling 30 fits\n"
          ]
        },
        {
          "data": {
            "text/plain": [
              "RandomizedSearchCV(cv=5,\n",
              "                   estimator=<keras.wrappers.scikit_learn.KerasRegressor object at 0x7fe772ad8e20>,\n",
              "                   param_distributions={'activation': ['relu', 'tanh'],\n",
              "                                        'units': [32, 64, 128]},\n",
              "                   random_state=42, scoring='neg_mean_squared_error',\n",
              "                   verbose=1)"
            ]
          },
          "execution_count": 92,
          "metadata": {},
          "output_type": "execute_result"
        }
      ],
      "source": [
        "random_search_ff.fit(train_input, train_output)"
      ]
    },
    {
      "cell_type": "code",
      "execution_count": null,
      "metadata": {
        "colab": {
          "base_uri": "https://localhost:8080/"
        },
        "id": "pc-pwxqOCBiV",
        "outputId": "0ce402a3-0a2e-45b6-b606-cbefd920b0bb"
      },
      "outputs": [
        {
          "name": "stdout",
          "output_type": "stream",
          "text": [
            "Fitting 5 folds for each of 10 candidates, totalling 50 fits\n"
          ]
        },
        {
          "data": {
            "text/plain": [
              "RandomizedSearchCV(cv=5,\n",
              "                   estimator=<keras.wrappers.scikit_learn.KerasRegressor object at 0x7fe771518070>,\n",
              "                   param_distributions={'dropout': [0.1, 0.2, 0.3],\n",
              "                                        'recurrent_dropout': [0.1, 0.2, 0.3],\n",
              "                                        'units': [32, 64, 128]},\n",
              "                   random_state=42, scoring='neg_mean_squared_error',\n",
              "                   verbose=1)"
            ]
          },
          "execution_count": 107,
          "metadata": {},
          "output_type": "execute_result"
        }
      ],
      "source": [
        "random_search_LSTM.fit(train_input, train_output)"
      ]
    },
    {
      "cell_type": "code",
      "execution_count": 87,
      "metadata": {
        "colab": {
          "base_uri": "https://localhost:8080/"
        },
        "id": "iXtxyvmR60Th",
        "outputId": "cf57bd6e-4a14-4c15-eca8-1263ceab47de"
      },
      "outputs": [
        {
          "name": "stdout",
          "output_type": "stream",
          "text": [
            "{'kernel_size': 3, 'filters': 32, 'activation': 'relu'}\n",
            "mse: 81.06398722007951\n"
          ]
        }
      ],
      "source": [
        "print(random_search_conv1d.best_params_)\n",
        "\n",
        "# Evaluate the model\n",
        "y_pred = random_search_conv1d.predict(test_input)\n",
        "print(\"mse:\", mean_squared_error(test_output, y_pred))"
      ]
    },
    {
      "cell_type": "code",
      "execution_count": null,
      "metadata": {
        "colab": {
          "base_uri": "https://localhost:8080/"
        },
        "id": "WuJiNBWg6-sX",
        "outputId": "fc030eb5-cf2b-4838-8c96-8e8ea5d05809"
      },
      "outputs": [
        {
          "name": "stdout",
          "output_type": "stream",
          "text": [
            "{'units': 128, 'activation': 'relu'}\n",
            "R2: 0.08599761057205002\n"
          ]
        }
      ],
      "source": [
        "print(random_search_ff.best_params_)\n",
        "\n",
        "# Evaluate the model\n",
        "y_pred = random_search_ff.predict(test_input)\n",
        "print(\"mse:\", mean_squared_error(test_output, y_pred))"
      ]
    },
    {
      "cell_type": "code",
      "execution_count": null,
      "metadata": {
        "colab": {
          "base_uri": "https://localhost:8080/"
        },
        "id": "6Z_K4oISCch9",
        "outputId": "5e2e0244-f41a-4a3a-a1b0-7b9da4601e2a"
      },
      "outputs": [
        {
          "name": "stdout",
          "output_type": "stream",
          "text": [
            "{'units': 128, 'recurrent_dropout': 0.1, 'dropout': 0.2}\n",
            "R2: 147.20724674363134\n"
          ]
        }
      ],
      "source": [
        "print(random_search_LSTM.best_params_)\n",
        "\n",
        "# Evaluate the model\n",
        "y_pred = random_search_LSTM.predict(test_input)\n",
        "print(\"mse:\", mean_squared_error(test_output, y_pred))"
      ]
    },
    {
      "cell_type": "markdown",
      "metadata": {
        "id": "cScC-geLN0TE"
      },
      "source": [
        "<a class=\"anchor\" id=\"chapter6\"></a>\n",
        "\n",
        "## 6. Conclusions"
      ]
    },
    {
      "cell_type": "markdown",
      "metadata": {
        "id": "aK4gzk0EEOD_"
      },
      "source": []
    }
  ],
  "metadata": {
    "colab": {
      "collapsed_sections": [
        "tujikqaNN0Sr",
        "_WkUPsS3N0Ss",
        "AfeMPvrkN0St",
        "edizHRV4N0Sy",
        "oaTioWjkN0S0",
        "myEuv_YDN0S3",
        "yJ5PAexmN0S8",
        "AipBne-iN0S-",
        "bWQijFnHy5eR",
        "bBemIyLbGLfq",
        "u8Jd0hpdvDsO",
        "Krromf_YGZ2Q",
        "4APhbKABN0TD",
        "QYRZycD3cmcA",
        "LsVP8rjldMI8",
        "TROCfAVg5B2t",
        "kuQyJTfgH0rI",
        "uNCT94uAHhgc",
        "eRTLTJrnVbJi"
      ],
      "provenance": []
    },
    "kernelspec": {
      "display_name": "Python 3.9.12 ('base')",
      "language": "python",
      "name": "python3"
    },
    "language_info": {
      "codemirror_mode": {
        "name": "ipython",
        "version": 3
      },
      "file_extension": ".py",
      "mimetype": "text/x-python",
      "name": "python",
      "nbconvert_exporter": "python",
      "pygments_lexer": "ipython3",
      "version": "3.9.12 (main, Apr  5 2022, 06:56:58) \n[GCC 7.5.0]"
    },
    "vscode": {
      "interpreter": {
        "hash": "e71a2622d18b954f601eb15bdbe4e36c93b9df08524a4249d8fe136413568723"
      }
    }
  },
  "nbformat": 4,
  "nbformat_minor": 0
}
