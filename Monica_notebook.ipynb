{
 "cells": [
  {
   "cell_type": "markdown",
   "metadata": {},
   "source": [
    "# Notebook Monica"
   ]
  },
  {
   "cell_type": "markdown",
   "metadata": {},
   "source": [
    "## Exploração de Dados e pré-processamento"
   ]
  },
  {
   "cell_type": "markdown",
   "metadata": {},
   "source": [
    "Esta etapa deve corresponder à secção 1 do Notebook onde deverá:\n",
    "- descrever e caracterizar os dados atribuídos de acordo com a documentação/\n",
    "literatura existente;\n",
    "- descrever sucintamente as características dos dados disponíveis a partir da análise exploratória inicial;\n",
    "- descrever os passos de preparação dos dados e pré-processamento que efetuou, justificando as suas escolhas;\n",
    "- incluir os gráficos exploratórios iniciais que ilustrem as principais características dos dados."
   ]
  },
  {
   "cell_type": "code",
   "execution_count": null,
   "metadata": {},
   "outputs": [],
   "source": []
  }
 ],
 "metadata": {
  "kernelspec": {
   "display_name": "Python 3.10.6 64-bit",
   "language": "python",
   "name": "python3"
  },
  "language_info": {
   "name": "python",
   "version": "3.10.6"
  },
  "orig_nbformat": 4,
  "vscode": {
   "interpreter": {
    "hash": "e7370f93d1d0cde622a1f8e1c04877d8463912d04d973331ad4851f04de6915a"
   }
  }
 },
 "nbformat": 4,
 "nbformat_minor": 2
}
