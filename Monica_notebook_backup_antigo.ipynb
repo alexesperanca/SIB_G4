{
 "cells": [
  {
   "cell_type": "markdown",
   "metadata": {},
   "source": [
    "# Notebook Monica"
   ]
  },
  {
   "cell_type": "markdown",
   "metadata": {},
   "source": [
    "## Importação de Packages Necessários"
   ]
  },
  {
   "cell_type": "code",
   "execution_count": 1,
   "metadata": {},
   "outputs": [],
   "source": [
    "#Imports\n",
    "from utils.func import swap_ph_tm\n",
    "import pandas as pd\n",
    "import numpy as np\n",
    "import matplotlib.pyplot as plt"
   ]
  },
  {
   "cell_type": "markdown",
   "metadata": {},
   "source": [
    "## Exploração de Dados e pré-processamento"
   ]
  },
  {
   "cell_type": "markdown",
   "metadata": {},
   "source": [
    "Esta etapa deve corresponder à secção 1 do Notebook onde deverá:\n",
    "- descrever e caracterizar os dados atribuídos de acordo com a documentação/\n",
    "literatura existente;\n",
    "- descrever sucintamente as características dos dados disponíveis a partir da análise exploratória inicial;\n",
    "- descrever os passos de preparação dos dados e pré-processamento que efetuou, justificando as suas escolhas;\n",
    "- incluir os gráficos exploratórios iniciais que ilustrem as principais características dos dados."
   ]
  },
  {
   "cell_type": "code",
   "execution_count": 2,
   "metadata": {},
   "outputs": [
    {
     "name": "stdout",
     "output_type": "stream",
     "text": [
      "Train data is divided in 31390 lines and 4 columns\n",
      "Test data is divided in 2413 lines and 3 columns\n",
      "Labels: ['protein_sequence', 'pH', 'data_source', 'tm']\n"
     ]
    }
   ],
   "source": [
    "#First lets see the data!\n",
    "\n",
    "#Train dataframe\n",
    "train = pd.read_csv(\"data/train.csv\",index_col=\"seq_id\")\n",
    "#Test dataframe\n",
    "test = pd.read_csv(\"data/test.csv\",index_col=\"seq_id\")\n",
    "\n",
    "print(f\"Train data is divided in {train.shape[0]} lines and {train.shape[1]} columns\")\n",
    "print(f\"Test data is divided in {test.shape[0]} lines and {test.shape[1]} columns\")\n",
    "print(f\"Labels: {[labels for labels in train.columns]}\")"
   ]
  },
  {
   "cell_type": "code",
   "execution_count": 3,
   "metadata": {},
   "outputs": [
    {
     "data": {
      "text/html": [
       "<div>\n",
       "<style scoped>\n",
       "    .dataframe tbody tr th:only-of-type {\n",
       "        vertical-align: middle;\n",
       "    }\n",
       "\n",
       "    .dataframe tbody tr th {\n",
       "        vertical-align: top;\n",
       "    }\n",
       "\n",
       "    .dataframe thead th {\n",
       "        text-align: right;\n",
       "    }\n",
       "</style>\n",
       "<table border=\"1\" class=\"dataframe\">\n",
       "  <thead>\n",
       "    <tr style=\"text-align: right;\">\n",
       "      <th></th>\n",
       "      <th>pH</th>\n",
       "    </tr>\n",
       "  </thead>\n",
       "  <tbody>\n",
       "    <tr>\n",
       "      <th>count</th>\n",
       "      <td>2413.0</td>\n",
       "    </tr>\n",
       "    <tr>\n",
       "      <th>mean</th>\n",
       "      <td>8.0</td>\n",
       "    </tr>\n",
       "    <tr>\n",
       "      <th>std</th>\n",
       "      <td>0.0</td>\n",
       "    </tr>\n",
       "    <tr>\n",
       "      <th>min</th>\n",
       "      <td>8.0</td>\n",
       "    </tr>\n",
       "    <tr>\n",
       "      <th>25%</th>\n",
       "      <td>8.0</td>\n",
       "    </tr>\n",
       "    <tr>\n",
       "      <th>50%</th>\n",
       "      <td>8.0</td>\n",
       "    </tr>\n",
       "    <tr>\n",
       "      <th>75%</th>\n",
       "      <td>8.0</td>\n",
       "    </tr>\n",
       "    <tr>\n",
       "      <th>max</th>\n",
       "      <td>8.0</td>\n",
       "    </tr>\n",
       "  </tbody>\n",
       "</table>\n",
       "</div>"
      ],
      "text/plain": [
       "           pH\n",
       "count  2413.0\n",
       "mean      8.0\n",
       "std       0.0\n",
       "min       8.0\n",
       "25%       8.0\n",
       "50%       8.0\n",
       "75%       8.0\n",
       "max       8.0"
      ]
     },
     "execution_count": 3,
     "metadata": {},
     "output_type": "execute_result"
    }
   ],
   "source": [
    "test.describe()"
   ]
  },
  {
   "cell_type": "code",
   "execution_count": 4,
   "metadata": {},
   "outputs": [
    {
     "data": {
      "text/html": [
       "<div>\n",
       "<style scoped>\n",
       "    .dataframe tbody tr th:only-of-type {\n",
       "        vertical-align: middle;\n",
       "    }\n",
       "\n",
       "    .dataframe tbody tr th {\n",
       "        vertical-align: top;\n",
       "    }\n",
       "\n",
       "    .dataframe thead th {\n",
       "        text-align: right;\n",
       "    }\n",
       "</style>\n",
       "<table border=\"1\" class=\"dataframe\">\n",
       "  <thead>\n",
       "    <tr style=\"text-align: right;\">\n",
       "      <th></th>\n",
       "      <th>pH</th>\n",
       "      <th>tm</th>\n",
       "    </tr>\n",
       "  </thead>\n",
       "  <tbody>\n",
       "    <tr>\n",
       "      <th>count</th>\n",
       "      <td>31104.000000</td>\n",
       "      <td>31390.000000</td>\n",
       "    </tr>\n",
       "    <tr>\n",
       "      <th>mean</th>\n",
       "      <td>6.892339</td>\n",
       "      <td>49.147337</td>\n",
       "    </tr>\n",
       "    <tr>\n",
       "      <th>std</th>\n",
       "      <td>1.612225</td>\n",
       "      <td>14.010089</td>\n",
       "    </tr>\n",
       "    <tr>\n",
       "      <th>min</th>\n",
       "      <td>1.990000</td>\n",
       "      <td>-1.000000</td>\n",
       "    </tr>\n",
       "    <tr>\n",
       "      <th>25%</th>\n",
       "      <td>7.000000</td>\n",
       "      <td>42.100000</td>\n",
       "    </tr>\n",
       "    <tr>\n",
       "      <th>50%</th>\n",
       "      <td>7.000000</td>\n",
       "      <td>48.000000</td>\n",
       "    </tr>\n",
       "    <tr>\n",
       "      <th>75%</th>\n",
       "      <td>7.000000</td>\n",
       "      <td>53.800000</td>\n",
       "    </tr>\n",
       "    <tr>\n",
       "      <th>max</th>\n",
       "      <td>64.900000</td>\n",
       "      <td>130.000000</td>\n",
       "    </tr>\n",
       "  </tbody>\n",
       "</table>\n",
       "</div>"
      ],
      "text/plain": [
       "                 pH            tm\n",
       "count  31104.000000  31390.000000\n",
       "mean       6.892339     49.147337\n",
       "std        1.612225     14.010089\n",
       "min        1.990000     -1.000000\n",
       "25%        7.000000     42.100000\n",
       "50%        7.000000     48.000000\n",
       "75%        7.000000     53.800000\n",
       "max       64.900000    130.000000"
      ]
     },
     "execution_count": 4,
     "metadata": {},
     "output_type": "execute_result"
    }
   ],
   "source": [
    "train.describe()"
   ]
  },
  {
   "cell_type": "markdown",
   "metadata": {},
   "source": [
    "Aqui é possível verificar que a variável pH tem erros no dataset \"train\", uma vez que o seu máximo é de 64.9 (valor impossível de obter). Segundo a fonte dos dados, a variável pH e tm tem alguns exemplos com os valores trocados. Assim, é necessário fazer a troca desses valores nas sequências identificadas (dataset \"train_updates\")."
   ]
  },
  {
   "cell_type": "code",
   "execution_count": 5,
   "metadata": {},
   "outputs": [],
   "source": [
    "update_train= pd.read_csv(\"data/train_updates_20220929.csv\",index_col=\"seq_id\")\n",
    "train= swap_ph_tm(train,update_train)\n"
   ]
  },
  {
   "cell_type": "code",
   "execution_count": 6,
   "metadata": {},
   "outputs": [
    {
     "name": "stdout",
     "output_type": "stream",
     "text": [
      "Labels: ['protein_sequence', 'pH', 'data_source', 'tm']\n",
      "Labels: ['protein_sequence', 'pH', 'data_source']\n"
     ]
    }
   ],
   "source": [
    "print(f\"Labels: {[labels for labels in train.columns]}\")\n",
    "print(f\"Labels: {[labels for labels in test.columns]}\")"
   ]
  },
  {
   "cell_type": "code",
   "execution_count": 3,
   "metadata": {},
   "outputs": [
    {
     "name": "stdout",
     "output_type": "stream",
     "text": [
      "seq_id\n",
      "0        doi.org/10.1038/s41592-020-0801-4\n",
      "1        doi.org/10.1038/s41592-020-0801-4\n",
      "2        doi.org/10.1038/s41592-020-0801-4\n",
      "3        doi.org/10.1038/s41592-020-0801-4\n",
      "4        doi.org/10.1038/s41592-020-0801-4\n",
      "                       ...                \n",
      "31385    doi.org/10.1038/s41592-020-0801-4\n",
      "31386    doi.org/10.1038/s41592-020-0801-4\n",
      "31387    doi.org/10.1038/s41592-020-0801-4\n",
      "31388    doi.org/10.1038/s41592-020-0801-4\n",
      "31389    doi.org/10.1038/s41592-020-0801-4\n",
      "Name: data_source, Length: 31390, dtype: object\n"
     ]
    }
   ],
   "source": [
    "print(train.data_source)"
   ]
  },
  {
   "cell_type": "code",
   "execution_count": 4,
   "metadata": {},
   "outputs": [
    {
     "name": "stderr",
     "output_type": "stream",
     "text": [
      "/tmp/ipykernel_13724/2809371950.py:6: SettingWithCopyWarning: \n",
      "A value is trying to be set on a copy of a slice from a DataFrame\n",
      "\n",
      "See the caveats in the documentation: https://pandas.pydata.org/pandas-docs/stable/user_guide/indexing.html#returning-a-view-versus-a-copy\n",
      "  train.data_source[n] = sources[i]\n",
      "/tmp/ipykernel_13724/2809371950.py:9: SettingWithCopyWarning: \n",
      "A value is trying to be set on a copy of a slice from a DataFrame\n",
      "\n",
      "See the caveats in the documentation: https://pandas.pydata.org/pandas-docs/stable/user_guide/indexing.html#returning-a-view-versus-a-copy\n",
      "  train.data_source[n] = sources[i]\n"
     ]
    },
    {
     "name": "stdout",
     "output_type": "stream",
     "text": [
      "seq_id\n",
      "0        1\n",
      "1        1\n",
      "2        1\n",
      "3        1\n",
      "4        1\n",
      "        ..\n",
      "31385    1\n",
      "31386    1\n",
      "31387    1\n",
      "31388    1\n",
      "31389    1\n",
      "Name: data_source, Length: 31390, dtype: object\n"
     ]
    }
   ],
   "source": [
    "sources = {}\n",
    "count = 1\n",
    "for n, i in enumerate(train.data_source):\n",
    "    if i not in sources.keys():\n",
    "        sources[i] = count\n",
    "        train.data_source[n] = sources[i]\n",
    "        count += 1\n",
    "    else:\n",
    "        train.data_source[n] = sources[i]\n",
    "\n",
    "print(train.data_source)\n",
    "    "
   ]
  },
  {
   "cell_type": "code",
   "execution_count": 5,
   "metadata": {},
   "outputs": [
    {
     "name": "stdout",
     "output_type": "stream",
     "text": [
      "1\n",
      "325\n"
     ]
    }
   ],
   "source": [
    "print(min(train.data_source))\n",
    "print(max(train.data_source))"
   ]
  },
  {
   "cell_type": "code",
   "execution_count": 13,
   "metadata": {},
   "outputs": [
    {
     "name": "stdout",
     "output_type": "stream",
     "text": [
      "Remove data_source\n",
      "Train data is divided in 31390 lines and 3 col\n",
      "Test data is divided in 2413 lines and 2 col\n",
      "We want to predict tm values for test data\n"
     ]
    }
   ],
   "source": [
    "print(\"Remove data_source\")\n",
    "train= train.drop(columns=\"data_source\")\n",
    "test= test.drop(columns=\"data_source\")\n",
    "print(f\"Train data is divided in {train.shape[0]} lines and {train.shape[1]} col\")\n",
    "print(f\"Test data is divided in {test.shape[0]} lines and {test.shape[1]} col\")\n",
    "print(\"We want to predict tm values for test data\")"
   ]
  },
  {
   "cell_type": "code",
   "execution_count": 111,
   "metadata": {},
   "outputs": [
    {
     "name": "stdout",
     "output_type": "stream",
     "text": [
      "pH                  286\n",
      "protein_sequence      0\n",
      "data_source           0\n",
      "tm                    0\n",
      "dtype: int64\n",
      "protein_sequence    0\n",
      "pH                  0\n",
      "data_source         0\n",
      "dtype: int64\n"
     ]
    }
   ],
   "source": [
    "print(train.isnull().sum().sort_values(ascending=False))\n",
    "print(test.isnull().sum().sort_values(ascending=False))\n",
    "#There are some missing values in train\n",
    "#Data_source values are not that important"
   ]
  },
  {
   "cell_type": "code",
   "execution_count": 105,
   "metadata": {},
   "outputs": [
    {
     "data": {
      "text/html": [
       "<div>\n",
       "<style scoped>\n",
       "    .dataframe tbody tr th:only-of-type {\n",
       "        vertical-align: middle;\n",
       "    }\n",
       "\n",
       "    .dataframe tbody tr th {\n",
       "        vertical-align: top;\n",
       "    }\n",
       "\n",
       "    .dataframe thead th {\n",
       "        text-align: right;\n",
       "    }\n",
       "</style>\n",
       "<table border=\"1\" class=\"dataframe\">\n",
       "  <thead>\n",
       "    <tr style=\"text-align: right;\">\n",
       "      <th></th>\n",
       "      <th>protein_sequence</th>\n",
       "      <th>pH</th>\n",
       "      <th>data_source</th>\n",
       "      <th>tm</th>\n",
       "    </tr>\n",
       "    <tr>\n",
       "      <th>seq_id</th>\n",
       "      <th></th>\n",
       "      <th></th>\n",
       "      <th></th>\n",
       "      <th></th>\n",
       "    </tr>\n",
       "  </thead>\n",
       "  <tbody>\n",
       "    <tr>\n",
       "      <th>484</th>\n",
       "      <td>ARINTVRGPITISEAGFTLTHEHICGSSAGFLRAWPEFFGSRKALA...</td>\n",
       "      <td>NaN</td>\n",
       "      <td>5</td>\n",
       "      <td>84.0</td>\n",
       "    </tr>\n",
       "    <tr>\n",
       "      <th>6215</th>\n",
       "      <td>MASHKLLVTPLKALLKPLSIPNQLLLGPGPSNLPPRIMAAGGLQMI...</td>\n",
       "      <td>NaN</td>\n",
       "      <td>35</td>\n",
       "      <td>73.8</td>\n",
       "    </tr>\n",
       "    <tr>\n",
       "      <th>6216</th>\n",
       "      <td>MASHKLLVTPPKALLKPLSIPNQLLLGPGPSNLPPRIMAAGGLQMI...</td>\n",
       "      <td>NaN</td>\n",
       "      <td>35</td>\n",
       "      <td>85.5</td>\n",
       "    </tr>\n",
       "    <tr>\n",
       "      <th>6217</th>\n",
       "      <td>MASHKLLVTPPKALLKPLSIPNQLLLGPGPSNLPPRIMAAGGLQMI...</td>\n",
       "      <td>NaN</td>\n",
       "      <td>35</td>\n",
       "      <td>67.1</td>\n",
       "    </tr>\n",
       "    <tr>\n",
       "      <th>6218</th>\n",
       "      <td>MASHKLLVTPPKALLKPLSIPNQLLLGPGPSNLPPRIMAAGGLQMI...</td>\n",
       "      <td>NaN</td>\n",
       "      <td>35</td>\n",
       "      <td>83.2</td>\n",
       "    </tr>\n",
       "    <tr>\n",
       "      <th>...</th>\n",
       "      <td>...</td>\n",
       "      <td>...</td>\n",
       "      <td>...</td>\n",
       "      <td>...</td>\n",
       "    </tr>\n",
       "    <tr>\n",
       "      <th>28753</th>\n",
       "      <td>MVLKQRANYLGFLIVFFTAFLVEAVPIKRQSNSTVDSLPPLIPSRT...</td>\n",
       "      <td>NaN</td>\n",
       "      <td>317</td>\n",
       "      <td>58.9</td>\n",
       "    </tr>\n",
       "    <tr>\n",
       "      <th>28754</th>\n",
       "      <td>MVLKQRANYLGFLIVFFTAFLVEAVPIKRQSNSTVDSLPPLIPSRT...</td>\n",
       "      <td>NaN</td>\n",
       "      <td>317</td>\n",
       "      <td>59.4</td>\n",
       "    </tr>\n",
       "    <tr>\n",
       "      <th>28755</th>\n",
       "      <td>MVLKQRANYLGFLIVFFTAFLVEAVPIKRQSNSTVDSLPPLIPSRT...</td>\n",
       "      <td>NaN</td>\n",
       "      <td>317</td>\n",
       "      <td>57.8</td>\n",
       "    </tr>\n",
       "    <tr>\n",
       "      <th>28756</th>\n",
       "      <td>MVLKQRANYLGFLIVFFTAFLVEAVPIKRQSNSTVDSLPPLIPSRT...</td>\n",
       "      <td>NaN</td>\n",
       "      <td>317</td>\n",
       "      <td>59.3</td>\n",
       "    </tr>\n",
       "    <tr>\n",
       "      <th>29077</th>\n",
       "      <td>MVRPTILLTSLLLAPFAAASPILEERQAAQSVDQLIKARGKVYFGV...</td>\n",
       "      <td>NaN</td>\n",
       "      <td>321</td>\n",
       "      <td>71.3</td>\n",
       "    </tr>\n",
       "  </tbody>\n",
       "</table>\n",
       "<p>286 rows × 4 columns</p>\n",
       "</div>"
      ],
      "text/plain": [
       "                                         protein_sequence  pH data_source  \\\n",
       "seq_id                                                                      \n",
       "484     ARINTVRGPITISEAGFTLTHEHICGSSAGFLRAWPEFFGSRKALA... NaN           5   \n",
       "6215    MASHKLLVTPLKALLKPLSIPNQLLLGPGPSNLPPRIMAAGGLQMI... NaN          35   \n",
       "6216    MASHKLLVTPPKALLKPLSIPNQLLLGPGPSNLPPRIMAAGGLQMI... NaN          35   \n",
       "6217    MASHKLLVTPPKALLKPLSIPNQLLLGPGPSNLPPRIMAAGGLQMI... NaN          35   \n",
       "6218    MASHKLLVTPPKALLKPLSIPNQLLLGPGPSNLPPRIMAAGGLQMI... NaN          35   \n",
       "...                                                   ...  ..         ...   \n",
       "28753   MVLKQRANYLGFLIVFFTAFLVEAVPIKRQSNSTVDSLPPLIPSRT... NaN         317   \n",
       "28754   MVLKQRANYLGFLIVFFTAFLVEAVPIKRQSNSTVDSLPPLIPSRT... NaN         317   \n",
       "28755   MVLKQRANYLGFLIVFFTAFLVEAVPIKRQSNSTVDSLPPLIPSRT... NaN         317   \n",
       "28756   MVLKQRANYLGFLIVFFTAFLVEAVPIKRQSNSTVDSLPPLIPSRT... NaN         317   \n",
       "29077   MVRPTILLTSLLLAPFAAASPILEERQAAQSVDQLIKARGKVYFGV... NaN         321   \n",
       "\n",
       "          tm  \n",
       "seq_id        \n",
       "484     84.0  \n",
       "6215    73.8  \n",
       "6216    85.5  \n",
       "6217    67.1  \n",
       "6218    83.2  \n",
       "...      ...  \n",
       "28753   58.9  \n",
       "28754   59.4  \n",
       "28755   57.8  \n",
       "28756   59.3  \n",
       "29077   71.3  \n",
       "\n",
       "[286 rows x 4 columns]"
      ]
     },
     "execution_count": 105,
     "metadata": {},
     "output_type": "execute_result"
    }
   ],
   "source": [
    "missing_data= train[train[\"pH\"].isnull()]\n",
    "missing_data"
   ]
  },
  {
   "cell_type": "code",
   "execution_count": 88,
   "metadata": {},
   "outputs": [
    {
     "data": {
      "text/html": [
       "<div>\n",
       "<style scoped>\n",
       "    .dataframe tbody tr th:only-of-type {\n",
       "        vertical-align: middle;\n",
       "    }\n",
       "\n",
       "    .dataframe tbody tr th {\n",
       "        vertical-align: top;\n",
       "    }\n",
       "\n",
       "    .dataframe thead th {\n",
       "        text-align: right;\n",
       "    }\n",
       "</style>\n",
       "<table border=\"1\" class=\"dataframe\">\n",
       "  <thead>\n",
       "    <tr style=\"text-align: right;\">\n",
       "      <th></th>\n",
       "      <th>protein_sequence</th>\n",
       "      <th>pH</th>\n",
       "      <th>data_source</th>\n",
       "      <th>tm</th>\n",
       "    </tr>\n",
       "    <tr>\n",
       "      <th>seq_id</th>\n",
       "      <th></th>\n",
       "      <th></th>\n",
       "      <th></th>\n",
       "      <th></th>\n",
       "    </tr>\n",
       "  </thead>\n",
       "  <tbody>\n",
       "    <tr>\n",
       "      <th>0</th>\n",
       "      <td>AAAAKAAALALLGEAPEVVDIWLPAGWRQPFRVFRLERKGDGVLVG...</td>\n",
       "      <td>7.0</td>\n",
       "      <td>1</td>\n",
       "      <td>75.7</td>\n",
       "    </tr>\n",
       "    <tr>\n",
       "      <th>1</th>\n",
       "      <td>AAADGEPLHNEEERAGAGQVGRSLPQESEEQRTGSRPRRRRDLGSR...</td>\n",
       "      <td>7.0</td>\n",
       "      <td>1</td>\n",
       "      <td>50.5</td>\n",
       "    </tr>\n",
       "    <tr>\n",
       "      <th>2</th>\n",
       "      <td>AAAFSTPRATSYRILSSAGSGSTRADAPQVRRLHTTRDLLAKDYYA...</td>\n",
       "      <td>7.0</td>\n",
       "      <td>1</td>\n",
       "      <td>40.5</td>\n",
       "    </tr>\n",
       "    <tr>\n",
       "      <th>3</th>\n",
       "      <td>AAASGLRTAIPAQPLRHLLQPAPRPCLRPFGLLSVRAGSARRSGLL...</td>\n",
       "      <td>7.0</td>\n",
       "      <td>1</td>\n",
       "      <td>47.2</td>\n",
       "    </tr>\n",
       "    <tr>\n",
       "      <th>4</th>\n",
       "      <td>AAATKSGPRRQSQGASVRTFTPFYFLVEPVDTLSVRGSSVILNCSA...</td>\n",
       "      <td>7.0</td>\n",
       "      <td>1</td>\n",
       "      <td>49.5</td>\n",
       "    </tr>\n",
       "    <tr>\n",
       "      <th>...</th>\n",
       "      <td>...</td>\n",
       "      <td>...</td>\n",
       "      <td>...</td>\n",
       "      <td>...</td>\n",
       "    </tr>\n",
       "    <tr>\n",
       "      <th>31385</th>\n",
       "      <td>YYMYSGGGSALAAGGGGAGRKGDWNDIDSIKKKDLHHSRGDEKAQG...</td>\n",
       "      <td>7.0</td>\n",
       "      <td>1</td>\n",
       "      <td>51.8</td>\n",
       "    </tr>\n",
       "    <tr>\n",
       "      <th>31386</th>\n",
       "      <td>YYNDQHRLSSYSVETAMFLSWERAIVKPGAMFKKAVIGFNCNVDLI...</td>\n",
       "      <td>7.0</td>\n",
       "      <td>1</td>\n",
       "      <td>37.2</td>\n",
       "    </tr>\n",
       "    <tr>\n",
       "      <th>31387</th>\n",
       "      <td>YYQRTLGAELLYKISFGEMPKSAQDSAENCPSGMQFPDTAIAHANV...</td>\n",
       "      <td>7.0</td>\n",
       "      <td>1</td>\n",
       "      <td>64.6</td>\n",
       "    </tr>\n",
       "    <tr>\n",
       "      <th>31388</th>\n",
       "      <td>YYSFSDNITTVFLSRQAIDDDHSLSLGTISDVVESENGVVAADDAR...</td>\n",
       "      <td>7.0</td>\n",
       "      <td>1</td>\n",
       "      <td>50.7</td>\n",
       "    </tr>\n",
       "    <tr>\n",
       "      <th>31389</th>\n",
       "      <td>YYVPDEYWQSLEVAHKLTFGYGYLTWEWVQGIRSYVYPLLIAGLYK...</td>\n",
       "      <td>7.0</td>\n",
       "      <td>1</td>\n",
       "      <td>37.6</td>\n",
       "    </tr>\n",
       "  </tbody>\n",
       "</table>\n",
       "<p>31104 rows × 4 columns</p>\n",
       "</div>"
      ],
      "text/plain": [
       "                                         protein_sequence   pH data_source  \\\n",
       "seq_id                                                                       \n",
       "0       AAAAKAAALALLGEAPEVVDIWLPAGWRQPFRVFRLERKGDGVLVG...  7.0           1   \n",
       "1       AAADGEPLHNEEERAGAGQVGRSLPQESEEQRTGSRPRRRRDLGSR...  7.0           1   \n",
       "2       AAAFSTPRATSYRILSSAGSGSTRADAPQVRRLHTTRDLLAKDYYA...  7.0           1   \n",
       "3       AAASGLRTAIPAQPLRHLLQPAPRPCLRPFGLLSVRAGSARRSGLL...  7.0           1   \n",
       "4       AAATKSGPRRQSQGASVRTFTPFYFLVEPVDTLSVRGSSVILNCSA...  7.0           1   \n",
       "...                                                   ...  ...         ...   \n",
       "31385   YYMYSGGGSALAAGGGGAGRKGDWNDIDSIKKKDLHHSRGDEKAQG...  7.0           1   \n",
       "31386   YYNDQHRLSSYSVETAMFLSWERAIVKPGAMFKKAVIGFNCNVDLI...  7.0           1   \n",
       "31387   YYQRTLGAELLYKISFGEMPKSAQDSAENCPSGMQFPDTAIAHANV...  7.0           1   \n",
       "31388   YYSFSDNITTVFLSRQAIDDDHSLSLGTISDVVESENGVVAADDAR...  7.0           1   \n",
       "31389   YYVPDEYWQSLEVAHKLTFGYGYLTWEWVQGIRSYVYPLLIAGLYK...  7.0           1   \n",
       "\n",
       "          tm  \n",
       "seq_id        \n",
       "0       75.7  \n",
       "1       50.5  \n",
       "2       40.5  \n",
       "3       47.2  \n",
       "4       49.5  \n",
       "...      ...  \n",
       "31385   51.8  \n",
       "31386   37.2  \n",
       "31387   64.6  \n",
       "31388   50.7  \n",
       "31389   37.6  \n",
       "\n",
       "[31104 rows x 4 columns]"
      ]
     },
     "execution_count": 88,
     "metadata": {},
     "output_type": "execute_result"
    }
   ],
   "source": [
    "train= train.drop((missing_data).index)\n",
    "train\n",
    "#Podemos remover também a data_source? Não deve de trazer nada de relevante para a analise dos dados"
   ]
  }
 ],
 "metadata": {
  "kernelspec": {
   "display_name": "Python 3.9.12 ('base')",
   "language": "python",
   "name": "python3"
  },
  "language_info": {
   "codemirror_mode": {
    "name": "ipython",
    "version": 3
   },
   "file_extension": ".py",
   "mimetype": "text/x-python",
   "name": "python",
   "nbconvert_exporter": "python",
   "pygments_lexer": "ipython3",
   "version": "3.9.12"
  },
  "orig_nbformat": 4,
  "vscode": {
   "interpreter": {
    "hash": "e71a2622d18b954f601eb15bdbe4e36c93b9df08524a4249d8fe136413568723"
   }
  }
 },
 "nbformat": 4,
 "nbformat_minor": 2
}
